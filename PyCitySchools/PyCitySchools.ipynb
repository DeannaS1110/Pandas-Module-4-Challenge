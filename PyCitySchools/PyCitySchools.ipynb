{
 "cells": [
  {
   "attachments": {},
   "cell_type": "markdown",
   "metadata": {},
   "source": [
    "# PyCity Schools Analysis\n",
    "\n",
    "- Your analysis here\n",
    "  \n",
    "---"
   ]
  },
  {
   "cell_type": "code",
   "execution_count": 2,
   "metadata": {},
   "outputs": [
    {
     "data": {
      "text/html": [
       "<div>\n",
       "<style scoped>\n",
       "    .dataframe tbody tr th:only-of-type {\n",
       "        vertical-align: middle;\n",
       "    }\n",
       "\n",
       "    .dataframe tbody tr th {\n",
       "        vertical-align: top;\n",
       "    }\n",
       "\n",
       "    .dataframe thead th {\n",
       "        text-align: right;\n",
       "    }\n",
       "</style>\n",
       "<table border=\"1\" class=\"dataframe\">\n",
       "  <thead>\n",
       "    <tr style=\"text-align: right;\">\n",
       "      <th></th>\n",
       "      <th>Student ID</th>\n",
       "      <th>student_name</th>\n",
       "      <th>gender</th>\n",
       "      <th>grade</th>\n",
       "      <th>school_name</th>\n",
       "      <th>reading_score</th>\n",
       "      <th>math_score</th>\n",
       "      <th>School ID</th>\n",
       "      <th>type</th>\n",
       "      <th>size</th>\n",
       "      <th>budget</th>\n",
       "    </tr>\n",
       "  </thead>\n",
       "  <tbody>\n",
       "    <tr>\n",
       "      <th>0</th>\n",
       "      <td>0</td>\n",
       "      <td>Paul Bradley</td>\n",
       "      <td>M</td>\n",
       "      <td>9th</td>\n",
       "      <td>Huang High School</td>\n",
       "      <td>66</td>\n",
       "      <td>79</td>\n",
       "      <td>0</td>\n",
       "      <td>District</td>\n",
       "      <td>2917</td>\n",
       "      <td>1910635</td>\n",
       "    </tr>\n",
       "    <tr>\n",
       "      <th>1</th>\n",
       "      <td>1</td>\n",
       "      <td>Victor Smith</td>\n",
       "      <td>M</td>\n",
       "      <td>12th</td>\n",
       "      <td>Huang High School</td>\n",
       "      <td>94</td>\n",
       "      <td>61</td>\n",
       "      <td>0</td>\n",
       "      <td>District</td>\n",
       "      <td>2917</td>\n",
       "      <td>1910635</td>\n",
       "    </tr>\n",
       "    <tr>\n",
       "      <th>2</th>\n",
       "      <td>2</td>\n",
       "      <td>Kevin Rodriguez</td>\n",
       "      <td>M</td>\n",
       "      <td>12th</td>\n",
       "      <td>Huang High School</td>\n",
       "      <td>90</td>\n",
       "      <td>60</td>\n",
       "      <td>0</td>\n",
       "      <td>District</td>\n",
       "      <td>2917</td>\n",
       "      <td>1910635</td>\n",
       "    </tr>\n",
       "    <tr>\n",
       "      <th>3</th>\n",
       "      <td>3</td>\n",
       "      <td>Dr. Richard Scott</td>\n",
       "      <td>M</td>\n",
       "      <td>12th</td>\n",
       "      <td>Huang High School</td>\n",
       "      <td>67</td>\n",
       "      <td>58</td>\n",
       "      <td>0</td>\n",
       "      <td>District</td>\n",
       "      <td>2917</td>\n",
       "      <td>1910635</td>\n",
       "    </tr>\n",
       "    <tr>\n",
       "      <th>4</th>\n",
       "      <td>4</td>\n",
       "      <td>Bonnie Ray</td>\n",
       "      <td>F</td>\n",
       "      <td>9th</td>\n",
       "      <td>Huang High School</td>\n",
       "      <td>97</td>\n",
       "      <td>84</td>\n",
       "      <td>0</td>\n",
       "      <td>District</td>\n",
       "      <td>2917</td>\n",
       "      <td>1910635</td>\n",
       "    </tr>\n",
       "  </tbody>\n",
       "</table>\n",
       "</div>"
      ],
      "text/plain": [
       "   Student ID       student_name gender grade        school_name  \\\n",
       "0           0       Paul Bradley      M   9th  Huang High School   \n",
       "1           1       Victor Smith      M  12th  Huang High School   \n",
       "2           2    Kevin Rodriguez      M  12th  Huang High School   \n",
       "3           3  Dr. Richard Scott      M  12th  Huang High School   \n",
       "4           4         Bonnie Ray      F   9th  Huang High School   \n",
       "\n",
       "   reading_score  math_score  School ID      type  size   budget  \n",
       "0             66          79          0  District  2917  1910635  \n",
       "1             94          61          0  District  2917  1910635  \n",
       "2             90          60          0  District  2917  1910635  \n",
       "3             67          58          0  District  2917  1910635  \n",
       "4             97          84          0  District  2917  1910635  "
      ]
     },
     "execution_count": 2,
     "metadata": {},
     "output_type": "execute_result"
    }
   ],
   "source": [
    "# Dependencies and Setup\n",
    "import pandas as pd\n",
    "from pathlib import Path\n",
    "\n",
    "# File to Load (Remember to Change These)\n",
    "school_data_to_load = Path(\"Resources/schools_complete.csv\")\n",
    "student_data_to_load = Path(\"Resources/students_complete.csv\")\n",
    "\n",
    "# Read School and Student Data File and store into Pandas DataFrames\n",
    "school_data = pd.read_csv(school_data_to_load)\n",
    "student_data = pd.read_csv(student_data_to_load)\n",
    "\n",
    "# Combine the data into a single dataset.  \n",
    "school_data_complete = pd.merge(student_data, school_data, how=\"left\", on=[\"school_name\", \"school_name\"])\n",
    "school_data_complete.head()"
   ]
  },
  {
   "cell_type": "markdown",
   "metadata": {},
   "source": [
    "## District Summary"
   ]
  },
  {
   "cell_type": "code",
   "execution_count": 4,
   "metadata": {},
   "outputs": [
    {
     "data": {
      "text/plain": [
       "15"
      ]
     },
     "execution_count": 4,
     "metadata": {},
     "output_type": "execute_result"
    }
   ],
   "source": [
    "# Calculate the total number of unique schools\n",
    "school_count = school_data_complete['school_name'].nunique()\n",
    "school_count"
   ]
  },
  {
   "cell_type": "code",
   "execution_count": 78,
   "metadata": {},
   "outputs": [
    {
     "data": {
      "text/plain": [
       "39170"
      ]
     },
     "execution_count": 78,
     "metadata": {},
     "output_type": "execute_result"
    }
   ],
   "source": [
    "# Calculate the total number of students\n",
    "student_count = school_data_complete['Student ID'].count()\n",
    "student_count"
   ]
  },
  {
   "cell_type": "code",
   "execution_count": 79,
   "metadata": {},
   "outputs": [
    {
     "data": {
      "text/plain": [
       "24649428"
      ]
     },
     "execution_count": 79,
     "metadata": {},
     "output_type": "execute_result"
    }
   ],
   "source": [
    "# Calculate the total budget\n",
    "total_budget = school_data_complete['budget'].unique().sum()\n",
    "total_budget"
   ]
  },
  {
   "cell_type": "code",
   "execution_count": 80,
   "metadata": {},
   "outputs": [
    {
     "data": {
      "text/plain": [
       "78.98537145774827"
      ]
     },
     "execution_count": 80,
     "metadata": {},
     "output_type": "execute_result"
    }
   ],
   "source": [
    "# Calculate the average (mean) math score\n",
    "average_math_score = school_data_complete[\"math_score\"].sum() / float(student_count)\n",
    "average_math_score"
   ]
  },
  {
   "cell_type": "code",
   "execution_count": 81,
   "metadata": {},
   "outputs": [
    {
     "data": {
      "text/plain": [
       "81.87784018381414"
      ]
     },
     "execution_count": 81,
     "metadata": {},
     "output_type": "execute_result"
    }
   ],
   "source": [
    "# Calculate the average (mean) reading score\n",
    "average_reading_score = school_data_complete[\"reading_score\"].sum() / float(student_count)\n",
    "average_reading_score"
   ]
  },
  {
   "cell_type": "code",
   "execution_count": 82,
   "metadata": {},
   "outputs": [
    {
     "data": {
      "text/plain": [
       "74.9808526933878"
      ]
     },
     "execution_count": 82,
     "metadata": {},
     "output_type": "execute_result"
    }
   ],
   "source": [
    "# Use the following to calculate the percentage of students who passed math (math scores greather than or equal to 70)\n",
    "passing_math_count = school_data_complete[(school_data_complete[\"math_score\"] >= 70)].count()[\"student_name\"]\n",
    "passing_math_percentage = passing_math_count / float(student_count) * 100\n",
    "passing_math_percentage"
   ]
  },
  {
   "cell_type": "code",
   "execution_count": 83,
   "metadata": {},
   "outputs": [
    {
     "data": {
      "text/plain": [
       "85.80546336482001"
      ]
     },
     "execution_count": 83,
     "metadata": {},
     "output_type": "execute_result"
    }
   ],
   "source": [
    "# Calculate the percentage of students who passed reading (hint: look at how the math percentage was calculated)  \n",
    "passing_reading_count = school_data_complete[(school_data_complete[\"reading_score\"] >= 70)].count()[\"student_name\"]\n",
    "passing_reading_percentage = passing_reading_count / float(student_count) * 100\n",
    "passing_reading_percentage"
   ]
  },
  {
   "cell_type": "code",
   "execution_count": 84,
   "metadata": {},
   "outputs": [
    {
     "data": {
      "text/plain": [
       "65.17232575950983"
      ]
     },
     "execution_count": 84,
     "metadata": {},
     "output_type": "execute_result"
    }
   ],
   "source": [
    "# Use the following to calculate the percentage of students that passed math and reading\n",
    "passing_math_reading_count = school_data_complete[\n",
    "    (school_data_complete[\"math_score\"] >= 70) & (school_data_complete[\"reading_score\"] >= 70)\n",
    "    ].count()[\"student_name\"]\n",
    "overall_passing_rate = passing_math_reading_count /  float(student_count) * 100\n",
    "overall_passing_rate"
   ]
  },
  {
   "cell_type": "code",
   "execution_count": 17,
   "metadata": {},
   "outputs": [
    {
     "data": {
      "text/html": [
       "<div>\n",
       "<style scoped>\n",
       "    .dataframe tbody tr th:only-of-type {\n",
       "        vertical-align: middle;\n",
       "    }\n",
       "\n",
       "    .dataframe tbody tr th {\n",
       "        vertical-align: top;\n",
       "    }\n",
       "\n",
       "    .dataframe thead th {\n",
       "        text-align: right;\n",
       "    }\n",
       "</style>\n",
       "<table border=\"1\" class=\"dataframe\">\n",
       "  <thead>\n",
       "    <tr style=\"text-align: right;\">\n",
       "      <th></th>\n",
       "      <th>Total Schools</th>\n",
       "      <th>Total Students</th>\n",
       "      <th>Total Budget</th>\n",
       "      <th>Average Math Score</th>\n",
       "      <th>Average Reading Score</th>\n",
       "      <th>% Passing Math</th>\n",
       "      <th>% Passing Reading</th>\n",
       "      <th>% Overall Passing</th>\n",
       "    </tr>\n",
       "  </thead>\n",
       "  <tbody>\n",
       "    <tr>\n",
       "      <th>0</th>\n",
       "      <td>15</td>\n",
       "      <td>39,170</td>\n",
       "      <td>$24,649,428.00</td>\n",
       "      <td>78.985371</td>\n",
       "      <td>81.87784</td>\n",
       "      <td>74.980853</td>\n",
       "      <td>85.805463</td>\n",
       "      <td>65.172326</td>\n",
       "    </tr>\n",
       "  </tbody>\n",
       "</table>\n",
       "</div>"
      ],
      "text/plain": [
       "   Total Schools Total Students    Total Budget  Average Math Score  \\\n",
       "0             15         39,170  $24,649,428.00           78.985371   \n",
       "\n",
       "   Average Reading Score  % Passing Math  % Passing Reading  % Overall Passing  \n",
       "0               81.87784       74.980853          85.805463          65.172326  "
      ]
     },
     "execution_count": 17,
     "metadata": {},
     "output_type": "execute_result"
    }
   ],
   "source": [
    "# Create a high-level snapshot of the district's key metrics in a DataFrame\n",
    "district_summary = pd.DataFrame({\n",
    "    'Total Schools': [school_count],\n",
    "    'Total Students': [student_count],\n",
    "    'Total Budget': [total_budget],\n",
    "    'Average Math Score': [average_math_score],\n",
    "    'Average Reading Score': [average_reading_score],\n",
    "    '% Passing Math': [passing_math_percentage],\n",
    "    '% Passing Reading': [passing_reading_percentage],\n",
    "    '% Overall Passing': [overall_passing_rate]\n",
    "})\n",
    "\n",
    "# Formatting\n",
    "district_summary[\"Total Students\"] = district_summary[\"Total Students\"].map(\"{:,}\".format)\n",
    "district_summary[\"Total Budget\"] = district_summary[\"Total Budget\"].map(\"${:,.2f}\".format)\n",
    "\n",
    "# Display the DataFrame\n",
    "district_summary"
   ]
  },
  {
   "cell_type": "markdown",
   "metadata": {},
   "source": [
    "## School Summary"
   ]
  },
  {
   "cell_type": "code",
   "execution_count": 85,
   "metadata": {},
   "outputs": [
    {
     "data": {
      "text/plain": [
       "school_name\n",
       "Huang High School        District\n",
       "Figueroa High School     District\n",
       "Shelton High School       Charter\n",
       "Hernandez High School    District\n",
       "Griffin High School       Charter\n",
       "Wilson High School        Charter\n",
       "Cabrera High School       Charter\n",
       "Bailey High School       District\n",
       "Holden High School        Charter\n",
       "Pena High School          Charter\n",
       "Wright High School        Charter\n",
       "Rodriguez High School    District\n",
       "Johnson High School      District\n",
       "Ford High School         District\n",
       "Thomas High School        Charter\n",
       "Name: type, dtype: object"
      ]
     },
     "execution_count": 85,
     "metadata": {},
     "output_type": "execute_result"
    }
   ],
   "source": [
    "# Use the code provided to select all of the school types\n",
    "school_types = school_data.set_index([\"school_name\"])[\"type\"]\n",
    "school_types"
   ]
  },
  {
   "cell_type": "code",
   "execution_count": 86,
   "metadata": {},
   "outputs": [
    {
     "data": {
      "text/plain": [
       "school_name\n",
       "Bailey High School       4976\n",
       "Cabrera High School      1858\n",
       "Figueroa High School     2949\n",
       "Ford High School         2739\n",
       "Griffin High School      1468\n",
       "Hernandez High School    4635\n",
       "Holden High School        427\n",
       "Huang High School        2917\n",
       "Johnson High School      4761\n",
       "Pena High School          962\n",
       "Rodriguez High School    3999\n",
       "Shelton High School      1761\n",
       "Thomas High School       1635\n",
       "Wilson High School       2283\n",
       "Wright High School       1800\n",
       "Name: Student ID, dtype: int64"
      ]
     },
     "execution_count": 86,
     "metadata": {},
     "output_type": "execute_result"
    }
   ],
   "source": [
    "# Calculate the total student count per school\n",
    "per_school_counts = school_data_complete.groupby([\"school_name\"]).count()[\"Student ID\"]\n",
    "per_school_counts"
   ]
  },
  {
   "cell_type": "code",
   "execution_count": 94,
   "metadata": {},
   "outputs": [
    {
     "data": {
      "text/plain": [
       "school_name\n",
       "Bailey High School       3124928.0\n",
       "Cabrera High School      1081356.0\n",
       "Figueroa High School     1884411.0\n",
       "Ford High School         1763916.0\n",
       "Griffin High School       917500.0\n",
       "Hernandez High School    3022020.0\n",
       "Holden High School        248087.0\n",
       "Huang High School        1910635.0\n",
       "Johnson High School      3094650.0\n",
       "Pena High School          585858.0\n",
       "Rodriguez High School    2547363.0\n",
       "Shelton High School      1056600.0\n",
       "Thomas High School       1043130.0\n",
       "Wilson High School       1319574.0\n",
       "Wright High School       1049400.0\n",
       "dtype: float64"
      ]
     },
     "execution_count": 94,
     "metadata": {},
     "output_type": "execute_result"
    }
   ],
   "source": [
    "# Calculate the total school budget and per capita spending\n",
    "per_school_budget = school_data_complete.groupby([\"school_name\"]).sum()[\"budget\"]\n",
    "per_school_capita = per_school_budget / per_school_counts\n",
    "per_school_capita\n"
   ]
  },
  {
   "cell_type": "code",
   "execution_count": 57,
   "metadata": {},
   "outputs": [
    {
     "data": {
      "text/plain": [
       "school_name\n",
       "Bailey High School       81.033963\n",
       "Cabrera High School      83.975780\n",
       "Figueroa High School     81.158020\n",
       "Ford High School         80.746258\n",
       "Griffin High School      83.816757\n",
       "Hernandez High School    80.934412\n",
       "Holden High School       83.814988\n",
       "Huang High School        81.182722\n",
       "Johnson High School      80.966394\n",
       "Pena High School         84.044699\n",
       "Rodriguez High School    80.744686\n",
       "Shelton High School      83.725724\n",
       "Thomas High School       83.848930\n",
       "Wilson High School       83.989488\n",
       "Wright High School       83.955000\n",
       "Name: reading_score, dtype: float64"
      ]
     },
     "execution_count": 57,
     "metadata": {},
     "output_type": "execute_result"
    }
   ],
   "source": [
    "# Calculate the average reading test score per school\n",
    "per_school_reading = school_data_complete.groupby('school_name')['reading_score'].mean()\n",
    "per_school_reading"
   ]
  },
  {
   "cell_type": "code",
   "execution_count": 113,
   "metadata": {},
   "outputs": [
    {
     "data": {
      "text/plain": [
       "school_name\n",
       "Bailey High School       3318\n",
       "Cabrera High School      1749\n",
       "Figueroa High School     1946\n",
       "Ford High School         1871\n",
       "Griffin High School      1371\n",
       "Hernandez High School    3094\n",
       "Holden High School        395\n",
       "Huang High School        1916\n",
       "Johnson High School      3145\n",
       "Pena High School          910\n",
       "Rodriguez High School    2654\n",
       "Shelton High School      1653\n",
       "Thomas High School       1525\n",
       "Wilson High School       2143\n",
       "Wright High School       1680\n",
       "dtype: int64"
      ]
     },
     "execution_count": 113,
     "metadata": {},
     "output_type": "execute_result"
    }
   ],
   "source": [
    "# Calculate the number of students per school with math scores of 70 or higher\n",
    "students_passing_math = school_data_complete[\n",
    "    (school_data_complete[\"math_score\"] >= 70)\n",
    "]\n",
    "school_students_passing_math = students_passing_math.groupby([\"school_name\"]).size()\n",
    "school_students_passing_math"
   ]
  },
  {
   "cell_type": "code",
   "execution_count": 114,
   "metadata": {},
   "outputs": [
    {
     "data": {
      "text/plain": [
       "school_name\n",
       "Bailey High School       4077\n",
       "Cabrera High School      1803\n",
       "Figueroa High School     2381\n",
       "Ford High School         2172\n",
       "Griffin High School      1426\n",
       "Hernandez High School    3748\n",
       "Holden High School        411\n",
       "Huang High School        2372\n",
       "Johnson High School      3867\n",
       "Pena High School          923\n",
       "Rodriguez High School    3208\n",
       "Shelton High School      1688\n",
       "Thomas High School       1591\n",
       "Wilson High School       2204\n",
       "Wright High School       1739\n",
       "dtype: int64"
      ]
     },
     "execution_count": 114,
     "metadata": {},
     "output_type": "execute_result"
    }
   ],
   "source": [
    "# Calculate the number of students per school with reading scores of 70 or higher\n",
    "students_passing_reading = school_data_complete[\n",
    "    (school_data_complete[\"reading_score\"] >= 70)\n",
    "]\n",
    "school_students_passing_reading = students_passing_reading.groupby([\"school_name\"]).size()\n",
    "school_students_passing_reading"
   ]
  },
  {
   "cell_type": "code",
   "execution_count": 115,
   "metadata": {},
   "outputs": [
    {
     "data": {
      "text/plain": [
       "school_name\n",
       "Bailey High School       2719\n",
       "Cabrera High School      1697\n",
       "Figueroa High School     1569\n",
       "Ford High School         1487\n",
       "Griffin High School      1330\n",
       "Hernandez High School    2481\n",
       "Holden High School        381\n",
       "Huang High School        1561\n",
       "Johnson High School      2549\n",
       "Pena High School          871\n",
       "Rodriguez High School    2119\n",
       "Shelton High School      1583\n",
       "Thomas High School       1487\n",
       "Wilson High School       2068\n",
       "Wright High School       1626\n",
       "dtype: int64"
      ]
     },
     "execution_count": 115,
     "metadata": {},
     "output_type": "execute_result"
    }
   ],
   "source": [
    "# Use the provided code to calculate the number of students per school that passed both math and reading with scores of 70 or higher\n",
    "students_passing_math_and_reading = school_data_complete[\n",
    "    (school_data_complete[\"reading_score\"] >= 70) & (school_data_complete[\"math_score\"] >= 70)\n",
    "]\n",
    "school_students_passing_math_and_reading = students_passing_math_and_reading.groupby([\"school_name\"]).size()\n",
    "school_students_passing_math_and_reading"
   ]
  },
  {
   "cell_type": "code",
   "execution_count": 122,
   "metadata": {},
   "outputs": [
    {
     "data": {
      "text/plain": [
       "school_name\n",
       "Bailey High School       0.020096\n",
       "Cabrera High School      0.053821\n",
       "Figueroa High School     0.033910\n",
       "Ford High School         0.036510\n",
       "Griffin High School      0.068120\n",
       "Hernandez High School    0.021575\n",
       "Holden High School       0.234192\n",
       "Huang High School        0.034282\n",
       "Johnson High School      0.021004\n",
       "Pena High School         0.103950\n",
       "Rodriguez High School    0.025006\n",
       "Shelton High School      0.056786\n",
       "Thomas High School       0.061162\n",
       "Wilson High School       0.043802\n",
       "Wright High School       0.055556\n",
       "dtype: float64"
      ]
     },
     "execution_count": 122,
     "metadata": {},
     "output_type": "execute_result"
    }
   ],
   "source": [
    "# Use the provided code to calculate the passing rates\n",
    "per_school_passing_math = school_students_passing_math.groupby('school_name').count() / per_school_counts * 100\n",
    "per_school_passing_math\n",
    "per_school_passing_reading = school_students_passing_reading.groupby('school_name').count() / per_school_counts * 100\n",
    "per_school_passing_reading\n",
    "overall_passing_rate = school_students_passing_math_and_reading.groupby('school_name').count() / per_school_counts * 100\n",
    "overall_passing_rate"
   ]
  },
  {
   "cell_type": "code",
   "execution_count": 123,
   "metadata": {},
   "outputs": [
    {
     "data": {
      "text/html": [
       "<div>\n",
       "<style scoped>\n",
       "    .dataframe tbody tr th:only-of-type {\n",
       "        vertical-align: middle;\n",
       "    }\n",
       "\n",
       "    .dataframe tbody tr th {\n",
       "        vertical-align: top;\n",
       "    }\n",
       "\n",
       "    .dataframe thead th {\n",
       "        text-align: right;\n",
       "    }\n",
       "</style>\n",
       "<table border=\"1\" class=\"dataframe\">\n",
       "  <thead>\n",
       "    <tr style=\"text-align: right;\">\n",
       "      <th></th>\n",
       "      <th>School Type</th>\n",
       "      <th>Total Students</th>\n",
       "      <th>Total School Budget</th>\n",
       "      <th>Per Student Budget</th>\n",
       "      <th>Average Math Score</th>\n",
       "      <th>Average Reading Score</th>\n",
       "      <th>% Passing Math</th>\n",
       "      <th>% Passing Reading</th>\n",
       "      <th>% Overall Passing</th>\n",
       "    </tr>\n",
       "    <tr>\n",
       "      <th>school_name</th>\n",
       "      <th></th>\n",
       "      <th></th>\n",
       "      <th></th>\n",
       "      <th></th>\n",
       "      <th></th>\n",
       "      <th></th>\n",
       "      <th></th>\n",
       "      <th></th>\n",
       "      <th></th>\n",
       "    </tr>\n",
       "  </thead>\n",
       "  <tbody>\n",
       "    <tr>\n",
       "      <th>Bailey High School</th>\n",
       "      <td>District</td>\n",
       "      <td>4976</td>\n",
       "      <td>$15,549,641,728.00</td>\n",
       "      <td>$3,124,928.00</td>\n",
       "      <td>77.048432</td>\n",
       "      <td>81.033963</td>\n",
       "      <td>0.020096</td>\n",
       "      <td>0.020096</td>\n",
       "      <td>0.020096</td>\n",
       "    </tr>\n",
       "    <tr>\n",
       "      <th>Cabrera High School</th>\n",
       "      <td>Charter</td>\n",
       "      <td>1858</td>\n",
       "      <td>$2,009,159,448.00</td>\n",
       "      <td>$1,081,356.00</td>\n",
       "      <td>83.061895</td>\n",
       "      <td>83.975780</td>\n",
       "      <td>0.053821</td>\n",
       "      <td>0.053821</td>\n",
       "      <td>0.053821</td>\n",
       "    </tr>\n",
       "    <tr>\n",
       "      <th>Figueroa High School</th>\n",
       "      <td>District</td>\n",
       "      <td>2949</td>\n",
       "      <td>$5,557,128,039.00</td>\n",
       "      <td>$1,884,411.00</td>\n",
       "      <td>76.711767</td>\n",
       "      <td>81.158020</td>\n",
       "      <td>0.033910</td>\n",
       "      <td>0.033910</td>\n",
       "      <td>0.033910</td>\n",
       "    </tr>\n",
       "    <tr>\n",
       "      <th>Ford High School</th>\n",
       "      <td>District</td>\n",
       "      <td>2739</td>\n",
       "      <td>$4,831,365,924.00</td>\n",
       "      <td>$1,763,916.00</td>\n",
       "      <td>77.102592</td>\n",
       "      <td>80.746258</td>\n",
       "      <td>0.036510</td>\n",
       "      <td>0.036510</td>\n",
       "      <td>0.036510</td>\n",
       "    </tr>\n",
       "    <tr>\n",
       "      <th>Griffin High School</th>\n",
       "      <td>Charter</td>\n",
       "      <td>1468</td>\n",
       "      <td>$1,346,890,000.00</td>\n",
       "      <td>$917,500.00</td>\n",
       "      <td>83.351499</td>\n",
       "      <td>83.816757</td>\n",
       "      <td>0.068120</td>\n",
       "      <td>0.068120</td>\n",
       "      <td>0.068120</td>\n",
       "    </tr>\n",
       "    <tr>\n",
       "      <th>Hernandez High School</th>\n",
       "      <td>District</td>\n",
       "      <td>4635</td>\n",
       "      <td>$14,007,062,700.00</td>\n",
       "      <td>$3,022,020.00</td>\n",
       "      <td>77.289752</td>\n",
       "      <td>80.934412</td>\n",
       "      <td>0.021575</td>\n",
       "      <td>0.021575</td>\n",
       "      <td>0.021575</td>\n",
       "    </tr>\n",
       "    <tr>\n",
       "      <th>Holden High School</th>\n",
       "      <td>Charter</td>\n",
       "      <td>427</td>\n",
       "      <td>$105,933,149.00</td>\n",
       "      <td>$248,087.00</td>\n",
       "      <td>83.803279</td>\n",
       "      <td>83.814988</td>\n",
       "      <td>0.234192</td>\n",
       "      <td>0.234192</td>\n",
       "      <td>0.234192</td>\n",
       "    </tr>\n",
       "    <tr>\n",
       "      <th>Huang High School</th>\n",
       "      <td>District</td>\n",
       "      <td>2917</td>\n",
       "      <td>$5,573,322,295.00</td>\n",
       "      <td>$1,910,635.00</td>\n",
       "      <td>76.629414</td>\n",
       "      <td>81.182722</td>\n",
       "      <td>0.034282</td>\n",
       "      <td>0.034282</td>\n",
       "      <td>0.034282</td>\n",
       "    </tr>\n",
       "    <tr>\n",
       "      <th>Johnson High School</th>\n",
       "      <td>District</td>\n",
       "      <td>4761</td>\n",
       "      <td>$14,733,628,650.00</td>\n",
       "      <td>$3,094,650.00</td>\n",
       "      <td>77.072464</td>\n",
       "      <td>80.966394</td>\n",
       "      <td>0.021004</td>\n",
       "      <td>0.021004</td>\n",
       "      <td>0.021004</td>\n",
       "    </tr>\n",
       "    <tr>\n",
       "      <th>Pena High School</th>\n",
       "      <td>Charter</td>\n",
       "      <td>962</td>\n",
       "      <td>$563,595,396.00</td>\n",
       "      <td>$585,858.00</td>\n",
       "      <td>83.839917</td>\n",
       "      <td>84.044699</td>\n",
       "      <td>0.103950</td>\n",
       "      <td>0.103950</td>\n",
       "      <td>0.103950</td>\n",
       "    </tr>\n",
       "    <tr>\n",
       "      <th>Rodriguez High School</th>\n",
       "      <td>District</td>\n",
       "      <td>3999</td>\n",
       "      <td>$10,186,904,637.00</td>\n",
       "      <td>$2,547,363.00</td>\n",
       "      <td>76.842711</td>\n",
       "      <td>80.744686</td>\n",
       "      <td>0.025006</td>\n",
       "      <td>0.025006</td>\n",
       "      <td>0.025006</td>\n",
       "    </tr>\n",
       "    <tr>\n",
       "      <th>Shelton High School</th>\n",
       "      <td>Charter</td>\n",
       "      <td>1761</td>\n",
       "      <td>$1,860,672,600.00</td>\n",
       "      <td>$1,056,600.00</td>\n",
       "      <td>83.359455</td>\n",
       "      <td>83.725724</td>\n",
       "      <td>0.056786</td>\n",
       "      <td>0.056786</td>\n",
       "      <td>0.056786</td>\n",
       "    </tr>\n",
       "    <tr>\n",
       "      <th>Thomas High School</th>\n",
       "      <td>Charter</td>\n",
       "      <td>1635</td>\n",
       "      <td>$1,705,517,550.00</td>\n",
       "      <td>$1,043,130.00</td>\n",
       "      <td>83.418349</td>\n",
       "      <td>83.848930</td>\n",
       "      <td>0.061162</td>\n",
       "      <td>0.061162</td>\n",
       "      <td>0.061162</td>\n",
       "    </tr>\n",
       "    <tr>\n",
       "      <th>Wilson High School</th>\n",
       "      <td>Charter</td>\n",
       "      <td>2283</td>\n",
       "      <td>$3,012,587,442.00</td>\n",
       "      <td>$1,319,574.00</td>\n",
       "      <td>83.274201</td>\n",
       "      <td>83.989488</td>\n",
       "      <td>0.043802</td>\n",
       "      <td>0.043802</td>\n",
       "      <td>0.043802</td>\n",
       "    </tr>\n",
       "    <tr>\n",
       "      <th>Wright High School</th>\n",
       "      <td>Charter</td>\n",
       "      <td>1800</td>\n",
       "      <td>$1,888,920,000.00</td>\n",
       "      <td>$1,049,400.00</td>\n",
       "      <td>83.682222</td>\n",
       "      <td>83.955000</td>\n",
       "      <td>0.055556</td>\n",
       "      <td>0.055556</td>\n",
       "      <td>0.055556</td>\n",
       "    </tr>\n",
       "  </tbody>\n",
       "</table>\n",
       "</div>"
      ],
      "text/plain": [
       "                      School Type  Total Students Total School Budget  \\\n",
       "school_name                                                             \n",
       "Bailey High School       District            4976  $15,549,641,728.00   \n",
       "Cabrera High School       Charter            1858   $2,009,159,448.00   \n",
       "Figueroa High School     District            2949   $5,557,128,039.00   \n",
       "Ford High School         District            2739   $4,831,365,924.00   \n",
       "Griffin High School       Charter            1468   $1,346,890,000.00   \n",
       "Hernandez High School    District            4635  $14,007,062,700.00   \n",
       "Holden High School        Charter             427     $105,933,149.00   \n",
       "Huang High School        District            2917   $5,573,322,295.00   \n",
       "Johnson High School      District            4761  $14,733,628,650.00   \n",
       "Pena High School          Charter             962     $563,595,396.00   \n",
       "Rodriguez High School    District            3999  $10,186,904,637.00   \n",
       "Shelton High School       Charter            1761   $1,860,672,600.00   \n",
       "Thomas High School        Charter            1635   $1,705,517,550.00   \n",
       "Wilson High School        Charter            2283   $3,012,587,442.00   \n",
       "Wright High School        Charter            1800   $1,888,920,000.00   \n",
       "\n",
       "                      Per Student Budget  Average Math Score  \\\n",
       "school_name                                                    \n",
       "Bailey High School         $3,124,928.00           77.048432   \n",
       "Cabrera High School        $1,081,356.00           83.061895   \n",
       "Figueroa High School       $1,884,411.00           76.711767   \n",
       "Ford High School           $1,763,916.00           77.102592   \n",
       "Griffin High School          $917,500.00           83.351499   \n",
       "Hernandez High School      $3,022,020.00           77.289752   \n",
       "Holden High School           $248,087.00           83.803279   \n",
       "Huang High School          $1,910,635.00           76.629414   \n",
       "Johnson High School        $3,094,650.00           77.072464   \n",
       "Pena High School             $585,858.00           83.839917   \n",
       "Rodriguez High School      $2,547,363.00           76.842711   \n",
       "Shelton High School        $1,056,600.00           83.359455   \n",
       "Thomas High School         $1,043,130.00           83.418349   \n",
       "Wilson High School         $1,319,574.00           83.274201   \n",
       "Wright High School         $1,049,400.00           83.682222   \n",
       "\n",
       "                       Average Reading Score  % Passing Math  \\\n",
       "school_name                                                    \n",
       "Bailey High School                 81.033963        0.020096   \n",
       "Cabrera High School                83.975780        0.053821   \n",
       "Figueroa High School               81.158020        0.033910   \n",
       "Ford High School                   80.746258        0.036510   \n",
       "Griffin High School                83.816757        0.068120   \n",
       "Hernandez High School              80.934412        0.021575   \n",
       "Holden High School                 83.814988        0.234192   \n",
       "Huang High School                  81.182722        0.034282   \n",
       "Johnson High School                80.966394        0.021004   \n",
       "Pena High School                   84.044699        0.103950   \n",
       "Rodriguez High School              80.744686        0.025006   \n",
       "Shelton High School                83.725724        0.056786   \n",
       "Thomas High School                 83.848930        0.061162   \n",
       "Wilson High School                 83.989488        0.043802   \n",
       "Wright High School                 83.955000        0.055556   \n",
       "\n",
       "                       % Passing Reading  % Overall Passing  \n",
       "school_name                                                  \n",
       "Bailey High School              0.020096           0.020096  \n",
       "Cabrera High School             0.053821           0.053821  \n",
       "Figueroa High School            0.033910           0.033910  \n",
       "Ford High School                0.036510           0.036510  \n",
       "Griffin High School             0.068120           0.068120  \n",
       "Hernandez High School           0.021575           0.021575  \n",
       "Holden High School              0.234192           0.234192  \n",
       "Huang High School               0.034282           0.034282  \n",
       "Johnson High School             0.021004           0.021004  \n",
       "Pena High School                0.103950           0.103950  \n",
       "Rodriguez High School           0.025006           0.025006  \n",
       "Shelton High School             0.056786           0.056786  \n",
       "Thomas High School              0.061162           0.061162  \n",
       "Wilson High School              0.043802           0.043802  \n",
       "Wright High School              0.055556           0.055556  "
      ]
     },
     "execution_count": 123,
     "metadata": {},
     "output_type": "execute_result"
    }
   ],
   "source": [
    "# Create a DataFrame called `per_school_summary` with columns for the calculations above.\n",
    "per_school_summary = pd.DataFrame({\n",
    "    \"School Type\": school_types,\n",
    "    \"Total Students\": per_school_counts,                                   \n",
    "    \"Total School Budget\": per_school_budget,\n",
    "    \"Per Student Budget\": per_school_capita,\n",
    "    \"Average Math Score\": per_school_math,\n",
    "    \"Average Reading Score\": per_school_reading,\n",
    "    \"% Passing Math\": per_school_passing_math,\n",
    "    \"% Passing Reading\": per_school_passing_reading,\n",
    "    \"% Overall Passing\": overall_passing_rate})\n",
    "\n",
    "# Formatting\n",
    "per_school_summary[\"Total School Budget\"] = per_school_summary[\"Total School Budget\"].map(\"${:,.2f}\".format)\n",
    "per_school_summary[\"Per Student Budget\"] = per_school_summary[\"Per Student Budget\"].map(\"${:,.2f}\".format)\n",
    "\n",
    "# Display the DataFrame\n",
    "per_school_summary"
   ]
  },
  {
   "cell_type": "markdown",
   "metadata": {},
   "source": [
    "## Highest-Performing Schools (by % Overall Passing)"
   ]
  },
  {
   "cell_type": "code",
   "execution_count": 124,
   "metadata": {
    "scrolled": true
   },
   "outputs": [
    {
     "data": {
      "text/html": [
       "<div>\n",
       "<style scoped>\n",
       "    .dataframe tbody tr th:only-of-type {\n",
       "        vertical-align: middle;\n",
       "    }\n",
       "\n",
       "    .dataframe tbody tr th {\n",
       "        vertical-align: top;\n",
       "    }\n",
       "\n",
       "    .dataframe thead th {\n",
       "        text-align: right;\n",
       "    }\n",
       "</style>\n",
       "<table border=\"1\" class=\"dataframe\">\n",
       "  <thead>\n",
       "    <tr style=\"text-align: right;\">\n",
       "      <th></th>\n",
       "      <th>School Type</th>\n",
       "      <th>Total Students</th>\n",
       "      <th>Total School Budget</th>\n",
       "      <th>Per Student Budget</th>\n",
       "      <th>Average Math Score</th>\n",
       "      <th>Average Reading Score</th>\n",
       "      <th>% Passing Math</th>\n",
       "      <th>% Passing Reading</th>\n",
       "      <th>% Overall Passing</th>\n",
       "    </tr>\n",
       "    <tr>\n",
       "      <th>school_name</th>\n",
       "      <th></th>\n",
       "      <th></th>\n",
       "      <th></th>\n",
       "      <th></th>\n",
       "      <th></th>\n",
       "      <th></th>\n",
       "      <th></th>\n",
       "      <th></th>\n",
       "      <th></th>\n",
       "    </tr>\n",
       "  </thead>\n",
       "  <tbody>\n",
       "    <tr>\n",
       "      <th>Holden High School</th>\n",
       "      <td>Charter</td>\n",
       "      <td>427</td>\n",
       "      <td>$105,933,149.00</td>\n",
       "      <td>$248,087.00</td>\n",
       "      <td>83.803279</td>\n",
       "      <td>83.814988</td>\n",
       "      <td>0.234192</td>\n",
       "      <td>0.234192</td>\n",
       "      <td>0.234192</td>\n",
       "    </tr>\n",
       "    <tr>\n",
       "      <th>Pena High School</th>\n",
       "      <td>Charter</td>\n",
       "      <td>962</td>\n",
       "      <td>$563,595,396.00</td>\n",
       "      <td>$585,858.00</td>\n",
       "      <td>83.839917</td>\n",
       "      <td>84.044699</td>\n",
       "      <td>0.103950</td>\n",
       "      <td>0.103950</td>\n",
       "      <td>0.103950</td>\n",
       "    </tr>\n",
       "    <tr>\n",
       "      <th>Griffin High School</th>\n",
       "      <td>Charter</td>\n",
       "      <td>1468</td>\n",
       "      <td>$1,346,890,000.00</td>\n",
       "      <td>$917,500.00</td>\n",
       "      <td>83.351499</td>\n",
       "      <td>83.816757</td>\n",
       "      <td>0.068120</td>\n",
       "      <td>0.068120</td>\n",
       "      <td>0.068120</td>\n",
       "    </tr>\n",
       "    <tr>\n",
       "      <th>Thomas High School</th>\n",
       "      <td>Charter</td>\n",
       "      <td>1635</td>\n",
       "      <td>$1,705,517,550.00</td>\n",
       "      <td>$1,043,130.00</td>\n",
       "      <td>83.418349</td>\n",
       "      <td>83.848930</td>\n",
       "      <td>0.061162</td>\n",
       "      <td>0.061162</td>\n",
       "      <td>0.061162</td>\n",
       "    </tr>\n",
       "    <tr>\n",
       "      <th>Shelton High School</th>\n",
       "      <td>Charter</td>\n",
       "      <td>1761</td>\n",
       "      <td>$1,860,672,600.00</td>\n",
       "      <td>$1,056,600.00</td>\n",
       "      <td>83.359455</td>\n",
       "      <td>83.725724</td>\n",
       "      <td>0.056786</td>\n",
       "      <td>0.056786</td>\n",
       "      <td>0.056786</td>\n",
       "    </tr>\n",
       "  </tbody>\n",
       "</table>\n",
       "</div>"
      ],
      "text/plain": [
       "                    School Type  Total Students Total School Budget  \\\n",
       "school_name                                                           \n",
       "Holden High School      Charter             427     $105,933,149.00   \n",
       "Pena High School        Charter             962     $563,595,396.00   \n",
       "Griffin High School     Charter            1468   $1,346,890,000.00   \n",
       "Thomas High School      Charter            1635   $1,705,517,550.00   \n",
       "Shelton High School     Charter            1761   $1,860,672,600.00   \n",
       "\n",
       "                    Per Student Budget  Average Math Score  \\\n",
       "school_name                                                  \n",
       "Holden High School         $248,087.00           83.803279   \n",
       "Pena High School           $585,858.00           83.839917   \n",
       "Griffin High School        $917,500.00           83.351499   \n",
       "Thomas High School       $1,043,130.00           83.418349   \n",
       "Shelton High School      $1,056,600.00           83.359455   \n",
       "\n",
       "                     Average Reading Score  % Passing Math  % Passing Reading  \\\n",
       "school_name                                                                     \n",
       "Holden High School               83.814988        0.234192           0.234192   \n",
       "Pena High School                 84.044699        0.103950           0.103950   \n",
       "Griffin High School              83.816757        0.068120           0.068120   \n",
       "Thomas High School               83.848930        0.061162           0.061162   \n",
       "Shelton High School              83.725724        0.056786           0.056786   \n",
       "\n",
       "                     % Overall Passing  \n",
       "school_name                             \n",
       "Holden High School            0.234192  \n",
       "Pena High School              0.103950  \n",
       "Griffin High School           0.068120  \n",
       "Thomas High School            0.061162  \n",
       "Shelton High School           0.056786  "
      ]
     },
     "execution_count": 124,
     "metadata": {},
     "output_type": "execute_result"
    }
   ],
   "source": [
    "# Sort the schools by `% Overall Passing` in descending order and display the top 5 rows.\n",
    "top_schools = per_school_summary.sort_values(\"% Overall Passing\", ascending=False)\n",
    "top_schools.head(5)"
   ]
  },
  {
   "cell_type": "markdown",
   "metadata": {},
   "source": [
    "## Bottom Performing Schools (By % Overall Passing)"
   ]
  },
  {
   "cell_type": "code",
   "execution_count": 125,
   "metadata": {},
   "outputs": [
    {
     "data": {
      "text/html": [
       "<div>\n",
       "<style scoped>\n",
       "    .dataframe tbody tr th:only-of-type {\n",
       "        vertical-align: middle;\n",
       "    }\n",
       "\n",
       "    .dataframe tbody tr th {\n",
       "        vertical-align: top;\n",
       "    }\n",
       "\n",
       "    .dataframe thead th {\n",
       "        text-align: right;\n",
       "    }\n",
       "</style>\n",
       "<table border=\"1\" class=\"dataframe\">\n",
       "  <thead>\n",
       "    <tr style=\"text-align: right;\">\n",
       "      <th></th>\n",
       "      <th>School Type</th>\n",
       "      <th>Total Students</th>\n",
       "      <th>Total School Budget</th>\n",
       "      <th>Per Student Budget</th>\n",
       "      <th>Average Math Score</th>\n",
       "      <th>Average Reading Score</th>\n",
       "      <th>% Passing Math</th>\n",
       "      <th>% Passing Reading</th>\n",
       "      <th>% Overall Passing</th>\n",
       "    </tr>\n",
       "    <tr>\n",
       "      <th>school_name</th>\n",
       "      <th></th>\n",
       "      <th></th>\n",
       "      <th></th>\n",
       "      <th></th>\n",
       "      <th></th>\n",
       "      <th></th>\n",
       "      <th></th>\n",
       "      <th></th>\n",
       "      <th></th>\n",
       "    </tr>\n",
       "  </thead>\n",
       "  <tbody>\n",
       "    <tr>\n",
       "      <th>Bailey High School</th>\n",
       "      <td>District</td>\n",
       "      <td>4976</td>\n",
       "      <td>$15,549,641,728.00</td>\n",
       "      <td>$3,124,928.00</td>\n",
       "      <td>77.048432</td>\n",
       "      <td>81.033963</td>\n",
       "      <td>0.020096</td>\n",
       "      <td>0.020096</td>\n",
       "      <td>0.020096</td>\n",
       "    </tr>\n",
       "    <tr>\n",
       "      <th>Johnson High School</th>\n",
       "      <td>District</td>\n",
       "      <td>4761</td>\n",
       "      <td>$14,733,628,650.00</td>\n",
       "      <td>$3,094,650.00</td>\n",
       "      <td>77.072464</td>\n",
       "      <td>80.966394</td>\n",
       "      <td>0.021004</td>\n",
       "      <td>0.021004</td>\n",
       "      <td>0.021004</td>\n",
       "    </tr>\n",
       "    <tr>\n",
       "      <th>Hernandez High School</th>\n",
       "      <td>District</td>\n",
       "      <td>4635</td>\n",
       "      <td>$14,007,062,700.00</td>\n",
       "      <td>$3,022,020.00</td>\n",
       "      <td>77.289752</td>\n",
       "      <td>80.934412</td>\n",
       "      <td>0.021575</td>\n",
       "      <td>0.021575</td>\n",
       "      <td>0.021575</td>\n",
       "    </tr>\n",
       "    <tr>\n",
       "      <th>Rodriguez High School</th>\n",
       "      <td>District</td>\n",
       "      <td>3999</td>\n",
       "      <td>$10,186,904,637.00</td>\n",
       "      <td>$2,547,363.00</td>\n",
       "      <td>76.842711</td>\n",
       "      <td>80.744686</td>\n",
       "      <td>0.025006</td>\n",
       "      <td>0.025006</td>\n",
       "      <td>0.025006</td>\n",
       "    </tr>\n",
       "    <tr>\n",
       "      <th>Figueroa High School</th>\n",
       "      <td>District</td>\n",
       "      <td>2949</td>\n",
       "      <td>$5,557,128,039.00</td>\n",
       "      <td>$1,884,411.00</td>\n",
       "      <td>76.711767</td>\n",
       "      <td>81.158020</td>\n",
       "      <td>0.033910</td>\n",
       "      <td>0.033910</td>\n",
       "      <td>0.033910</td>\n",
       "    </tr>\n",
       "  </tbody>\n",
       "</table>\n",
       "</div>"
      ],
      "text/plain": [
       "                      School Type  Total Students Total School Budget  \\\n",
       "school_name                                                             \n",
       "Bailey High School       District            4976  $15,549,641,728.00   \n",
       "Johnson High School      District            4761  $14,733,628,650.00   \n",
       "Hernandez High School    District            4635  $14,007,062,700.00   \n",
       "Rodriguez High School    District            3999  $10,186,904,637.00   \n",
       "Figueroa High School     District            2949   $5,557,128,039.00   \n",
       "\n",
       "                      Per Student Budget  Average Math Score  \\\n",
       "school_name                                                    \n",
       "Bailey High School         $3,124,928.00           77.048432   \n",
       "Johnson High School        $3,094,650.00           77.072464   \n",
       "Hernandez High School      $3,022,020.00           77.289752   \n",
       "Rodriguez High School      $2,547,363.00           76.842711   \n",
       "Figueroa High School       $1,884,411.00           76.711767   \n",
       "\n",
       "                       Average Reading Score  % Passing Math  \\\n",
       "school_name                                                    \n",
       "Bailey High School                 81.033963        0.020096   \n",
       "Johnson High School                80.966394        0.021004   \n",
       "Hernandez High School              80.934412        0.021575   \n",
       "Rodriguez High School              80.744686        0.025006   \n",
       "Figueroa High School               81.158020        0.033910   \n",
       "\n",
       "                       % Passing Reading  % Overall Passing  \n",
       "school_name                                                  \n",
       "Bailey High School              0.020096           0.020096  \n",
       "Johnson High School             0.021004           0.021004  \n",
       "Hernandez High School           0.021575           0.021575  \n",
       "Rodriguez High School           0.025006           0.025006  \n",
       "Figueroa High School            0.033910           0.033910  "
      ]
     },
     "execution_count": 125,
     "metadata": {},
     "output_type": "execute_result"
    }
   ],
   "source": [
    "# Sort the schools by `% Overall Passing` in ascending order and display the top 5 rows.\n",
    "bottom_schools = per_school_summary.sort_values(\"% Overall Passing\", ascending=True)\n",
    "bottom_schools.head(5)"
   ]
  },
  {
   "cell_type": "markdown",
   "metadata": {},
   "source": [
    "## Math Scores by Grade"
   ]
  },
  {
   "cell_type": "code",
   "execution_count": 131,
   "metadata": {},
   "outputs": [
    {
     "ename": "TypeError",
     "evalue": "Could not convert Blake MartinFrank MarshCharles Goodman Jr.Aaron MoyerMichael DeanRobin VegaKenneth JuarezGerald SmithDavid HernandezMatthew SinghJeremiah WhiteLisa AguilarDanielle HarrisKristin JohnsonKevin MartinAnna MyersTimothy HigginsAnthony FordNicole RoseChristopher LongMr. Michael AllenCasey JonesJoseph KellyDebra BrownJacqueline SheaSara MurphyNatalie GrantPeter MillerDavid CannonValerie MayApril FisherBradley HunterJohn WilliamsonAnthony SpencerJoseph AllenAngela WallJames FerrellRobert RodriguezDarius WilliamsBrian TrevinoAndrea GreenAustin JohnstonGuy ThomasDesiree GordonScott ClarkLinda SinghWilliam PerryTerry SantanaApril StevensAnthony TorresWayne GuerreroMonique CarterChristine LeeJay SmithRobert ReyesRichard MacdonaldJonathan TuckerChelsea KempMelissa BowmanWilliam SimpsonAmanda DavisBrandon MedinaPatricia WilliamsJeremy CharlesTyler GonzalezKristen GreenRichard WallerLaura LindseyMark AlvarezMatthew ThomasHeather GouldJacqueline SnowApril Calderon MDMichael WaltersErin HaleMichael AndersonPeggy BautistaGina BarberDavid HarrisNathan JonesAdam CruzPeter GonzalezBarbara RobinsonSteven WongAdam HerringPatricia MillerJim StevensJordan MclaughlinVincent MartinTracey BensonNatasha EverettErin ParksStephen ThompsonDaniel KingBenjamin MurrayKristen SmithJohn CarrilloMark BrowningEric Park DDSBrian MosleyPatricia MarshJennifer AndersonDanielle HoodMatthew CarterStephanie ThomasCathy MercadoSheila LewisPatrick Barker PhDAna BurnsChloe DownsJoshua FloresBianca BoyerWilliam ThompsonJonathan LongSamantha PattersonEmily PowellLouis WatersNathan DominguezKristin KellerJordan StewartBrian DunnEmily MartinJamie MillerNathan AtkinsonKelly MartinezCarlos RamirezAllen Morris Jr.Sarah RobertsPatricia HoBreanna MorrisEmily TurnerAlyssa RodriguezRichard JohnsonMary GreenMegan MillerWanda BaileyRenee RodriguezJeffrey PayneKari CharlesKelly HarmonShannon WeaverPatty NelsonAndrea JonesDale WhitakerKatherine DeanBrittney HenryAaron RodriguezDr. Carl JamesWilliam FrancisDanielle DyerMichael WagnerAmanda RogersPatricia JonesVictor MartinDr. Kimberly BenjaminMichelle BeckerJoseph NunezKeith AlvarezRicardo VazquezMatthew HawkinsNicole SmithSarah HodgeAmber BlevinsBenjamin BatesThomas MarshallAnna JohnsonRyan Graham MDTerri MillerTaylor DominguezLisa HarrisMichael RobinsonMelissa KellyChase RayTracy RodriguezYvonne WareJake MilesChristopher MyersCindy MurphyDylan JohnsonFrank NewmanLisa MyersKristine KellyMelissa AndersonMarissa BlevinsJason HallJoseph HernandezWanda MaddoxArthur KochNicholas DanielJerry RichardsJoel PittsThomas HerreraJennifer CarlsonJorge McdonaldStephanie Howard MDAlyssa WilliamsonPedro LongJames SmithGregory HerringDaniel BarrettTravis ComptonDaniel RowlandJonathon WillisAdam RodriguezDominique LloydJoyce RobertsJon GriffinJoseph ForbesDustin MarquezSean WellsDeanna CombsDanielle HayesKrystal ReynoldsCarl MartinezBrandon PopeAmanda RodriguezMarco WilliamsErica CollinsPenny NguyenLori LeeLori SmithBryan MooreJaclyn CobbVeronica DiazBarbara LarsenSteven HartmanMegan VillaAlex ConnerDanielle HurleyJames CalhounRyan GreenVeronica GomezWilliam SwansonLauren WestJohn BrownTonya SaundersDavid ThomasCrystal EdwardsCathy RamosChris RobertsKatherine TuckerJustin HillSarah AllenJessica BauerJames RodgersJacqueline EwingJacob ThomasNatalie JohnstonFelicia MatthewsRobert LawrenceJoshua MorganSierra JohnsonTravis HeathMelanie AndersonKenneth GarciaMaria BrockAdam PattonMatthew MezaAmanda JohnsonJesse HernandezPenny DeckerBobby WilliamsMargaret HortonRonnie BarrettAllen OnealGerald LangWilliam HudsonDerek SilvaDarlene LeeHarold JohnstonDonna ReedWanda PhillipsMegan JonesTheresa ShieldsMark LeeErica BakerVirginia BallardAaron AtkinsonBianca Huynh MDDaniel PhillipsThomas JohnsonNicole LopezAdam LambMonica RobersonDouglas RodriguezSarah OrtizDeanna MendozaMelissa Dunn MDLauren KochWilliam FrenchJared WashingtonJames JacksonMelissa SandovalMr. Angel JohnsonChad EvansDonald MyersNicole JohnsonWendy RiveraWilliam PinedaRebecca StoutDerek DiazTravis WebbShane PerezJasmine CampbellMason RaymondVincent EllisJoseph McgeeKatelyn DayAmy BeckerKenneth HughesKimberly FrazierMichael Garcia Jr.April HallJessica MatthewsMr. Daniel Nguyen DDSChristopher KelleyHeather WeaverTaylor GambleSteven BaileyRichard HernandezNancy McclurePaul ClarkeEric ArnoldElizabeth MeyerKaitlin BarrettAnthony PatelApril GillespieJohn SnyderRoy DeckerMatthew JonesKenneth MartinezKevin BrowningChristine IbarraMelissa BrownMichael PerezNorman BurnsJames MarshallTaylor CohenAlejandro CarterAllison GardnerEmily CollierDebbie Brown DVMAmy ShawTaylor MedinaLisa RichardsDana CruzJustin HenryRobert WeberTamara MooreKim StewartAdriana SmithJoshua Kim DDSCarol JohnsonMr. Jesse BellEmily WarrenAlexandra HendricksJulie MoralesJason JohnsonLisa JonesMonica SmithEric EdwardsMichael BurnettDerek MayPaul WoodMiguel JohnsonDouglas HardyKaitlyn ChambersCarlos YoungLindsay LinPhillip WashingtonAlexis MatthewsAndrew ThomasDerek Barker Jr.Jeremy WoodAndrew JimenezJennifer ButlerMrs. Renee GordonMichelle MurrayJennifer StoneDavid KirbySheila YoungHeather WatsonRobert RossKristen LunaDawn MartinezSavannah RamseyWilliam SalasHolly MooreJason CarterRyan SmithBrett EricksonChristina AyalaJames GarciaConnor CobbCrystal BuchananSherri PadillaJustin PowellVanessa TuckerTyler HarperRobert GreerBarry HallMargaret LeeDavid DiazRenee MonroeKristen MitchellSamantha MartinJessica FarmerCarlos BrownMiguel MaciasAlejandra WilliamsonMary GriffinMatthew GrantAnnette RossCarolyn MillerErica MillerMark MclaughlinJamie GibsonMatthew RiggsBetty IrwinFrederick LeeHelen GayCourtney ThompsonDiana ChapmanKenneth DiazKenneth HartmanRachel LopezCassandra BaldwinJose ButlerJohn LoveMrs. Amanda MartinMichael MooreJohn VaughnRebecca ChungDaniel HartMackenzie MasonDavid HarveyChristina ButlerSheila BrownJeffrey GalvanRegina ParkerTracy ChapmanEdward SmithShawn PetersonBryan GuerraHeather StokesMartha BestCynthia WolfeDavid TaylorRebecca HansenJessica CarneyJoshua SanchezRegina GarciaCourtney GibsonBrandon DelacruzTheresa SummersKarina LeePeter RileyChristopher OneillDaniel KleinKatherine EdwardsElizabeth ShermanWilliam BrewerLauren LoganAmanda WalkerAmanda McdanielKevin WilliamsMrs. Pamela GarciaAngela RojasBeth SullivanMarie StoutEmily AllenDanielle Stanton MDConnie BushErica ShawPhilip RobinsonMiguel SmithFrank HoffmanKevin ColemanAndrea HallMark BrownKathleen ValdezJessica WardRebecca GonzalesMike McdanielPamela HughesPamela RitterTimothy ScottStephen LawrenceTracey OchoaBridget BurkeJason WhiteMichelle WashingtonRaymond VargasJeffrey GreenMichael MontgomeryAlejandro BarnettElaine JamesBrianna WhiteAlyssa JenningsTony NelsonLaurie FergusonKelly WileyDustin PetersenChristopher WilkersonDr. David MillerCorey BenjaminCharles PerezKyle DeanTonya WalshWendy DavisJoshua LoveMichael AdamsMrs. Sheena Bailey DVMJoan CaldwellBridget GrahamBrian ChangAlicia ButlerJames BrownDiane VargasMichele OnealZachary Garrett IIIDavid JohnsonKristy PopeMadison BurnsCynthia MooreTaylor ReedNathan PrattAmanda MartinBarbara WhiteMichael GrimesLaura NobleKevin QuinnDavid StoneSeth GreenAmy MooreCarolyn AriasAmy Mcintosh MDChristina KhanDr. Frank AndersonBecky JonesKathleen RamirezCatherine WilsonSandra DuncanJeffrey RivasJordan CruzCindy CruzTina RodriguezDavid RiveraBrian SilvaJoseph MurphyDawn HernandezMichael PatelBreanna MercerDavid PayneRuth ArmstrongJennifer JamesRachael HortonAshley TorresDaniel CherryAmanda FieldsVernon RossMarie HernandezMichael KimKevin BarnettMary WilliamsPaul HallBrittney HughesRonald HickmanMallory HowardKendra YangJames TurnerThomas LewisPhillip BishopAndrea BartonChristopher MillerErin PhillipsHeather HallKatrina AdkinsNicole MitchellPatty RyanLinda GravesMargaret AndersonRichard DeckerDarren BrooksHeather SmithMatthew TaylorCynthia GreenChristopher PhillipsMegan OlsonTiffany SmithVictor SmithAmy ParkerKelly ColemanEric KnappJustin WilliamsMallory AndersonJohn ClarkAnne HansenTina ButlerCody SchaeferThomas Burgess MDJoseph HodgesDaniel MillsAmanda Hale DVMGregory SchneiderClinton NguyenRussell ThompsonMegan FlemingDebbie BlackwellLaura JenkinsJordan AndersonAmanda IbarraJonathan KrauseDr. Daniel BowmanTammy JohnsonLinda HerreraJonathan MartinezChristine JohnsonTanya FisherAngelica HumphreyJustin JohnstonApril RodriguezAmber ThompsonMelissa BanksLori Mitchell DDSAmy SmithRichard DayJennifer MackJames SmithNicole PettyTina HillZachary SchultzMrs. Pam Lewis DVMKelsey HarrisRobert MitchellKelly HopkinsAmanda GrahamAmy Gutierrez DDSDawn RamirezKenneth WardMelody ScottAshley BarryAngela WilkinsTodd SimmonsDavid LunaLeonard CoxPeter TuckerCynthia NelsonPeter MillerAaron GarciaPatrick WhitneyMargaret QuinnAmber MooreMatthew AguilarDenise CarterJared BrownAmber VillanuevaAmy CohenMichael LeeStephanie AriasJenna GreerCameron CordovaJeremy PayneNathan ArroyoRussell BanksJoshua RamirezJay KirkAlicia SchwartzAnna CamachoCarla WilsonJessica WrightWilliam BlackAshley TerryJeffery PowellDaniel SandersMichael GarnerMaria WilliamsBrenda RayChelsea LewisNicholas RamosJennifer WashingtonAudrey WellsBarbara WoodAndrea ThompsonJason CoxSarah RobinsonHeidi MartinJanet ChanJeffrey RobbinsTheresa NicholsAmy HansenJoshua BrownKent ShermanEddie AlvarezYvonne Robinson PhDJennifer RamosTracy MorrisonCrystal JohnsonApril TrujilloLisa SanchezDeborah NelsonKevin GoodwinAbigail PerezDonna RoseAndrew WintersJessica HartLauren KlineGregory AllisonThomas JohnsonVanessa StevensonKathleen BeltranMartha Mcdonald DVMKevin JohnsonDr. Mary SchwartzAnthony MeadowsErnest PowellDavid FergusonMariah HoltNancy MartinStacey ThompsonAndrew RyanMallory ChenErika BurchRobert MorrowAustin ChavezJustin WilsonLisa MurrayJeremy WattsJustin ChenRenee BuckleyShannon PriceBarbara WhiteheadJackie KirkAngel MayerDeborah AndersonJacqueline West DDSAnita ZunigaDavid ChapmanBeverly BauerJessica NguyenMelissa LewisAmanda SchaeferJacqueline Snow MDMarcus RushAngela StewartJorge HoDr. Jennifer SheaChristopher CantuJonathan HaleErin BowersAnthony HernandezEduardo SantiagoDana HaynesClayton Williams DVMNatalie WhitakerFrances WhiteMeghan AdamsStephen FitzgeraldAmy BairdMolly BrownAmanda SloanEric WilliamsEmma VasquezSherry GomezAaron CarterAlan ScottJennifer CannonLindsay NicholsonStephanie JonesJose SmithKimberly MooreMelissa SchultzSteven CalhounJohn BallZachary WilliamsKimberly JacksonKristen WilliamsonSamantha HoffmanDanielle GonzalezCharles IngramTimothy GravesAnna RodriguezAmanda KaneJoseph JonesDebra JacksonErik DunlapMeghan HarperJennifer PinedaJohn WhiteKaren FischerTodd DavisLarry Chandler Jr.Veronica PotterRobert VelezAshley WeissErika JohnsonJesus GordonKathy JacksonAshley WilliamsJuan LopezAnna HaynesDon MurrayJohn GarzaSteven WhiteDavid SalazarDaniel WrightRebecca MolinaBetty EricksonCameron Roman Jr.Kelly PierceSergio McfarlandJeffrey ChavezAmanda GalvanRonald PooleJohn WallaceGina AguilarMelissa SullivanJeffery ToddDaniel BurtonJulie AllisonCarolyn CookMike AllenAngela CostaKarina CalderonFelicia CampbellElizabeth DixonNancy WheelerMichael WatsonJennifer LevinePhilip ArnoldCrystal GonzalesMr. Ian SmithLawrence JohnsonPeter JonesChristopher RamirezNicolas JohnsonStephanie RhodesSarah MillerScott CortezChristopher CarrollWilliam RodriguezWyatt HarrisJacob CarlsonJason PerryJoshua FoxJames PerkinsChristine SanfordSarah SnyderDana ChavezJose HansenMelissa Hunt MDFrank RiveraLeah BishopAudrey FieldsRenee Garcia MDAngela WallJose GoldenAndrew RichardsonCynthia McleanMelissa FordKelsey SmithHeidi MasonLaura JohnsonAmanda MooreRobert AndersonMichael RobbinsSamantha ScottJoseph WareMaria DavisKenneth WatkinsMrs. Lori Rogers MDFrank BlackwellMichele TorresJason FergusonWilliam DurhamNicole HaynesCraig MorganEvan WilsonKenneth OlsonSeth GreenRoberto EscobarJustin SchneiderSarah PadillaAshley GardnerCourtney LutzAlbert SheaJennifer McguireJoseph RamosVictoria BakerClaudia WoodScott HughesCassandra HaasKathryn HannaDiana PhelpsKari HuangSara WellsJordan PetersonFrederick RochaKathryn YoungBrittany HodgesSherry GutierrezJohn GrantBenjamin RoweChelsey VillanuevaAlexandra MccarthyRhonda GarciaJon MatthewsKristen HartmanLynn RivasBrandy WestCarmen ThomasThomas LarsonKathryn CoxTasha ButlerChristopher ThompsonCollin ThomasJulia GeorgeChristopher ShermanAmy BooneJames JensenMonica BerryJonathan MckenzieMrs. Christina Mitchell DDSKatherine BrownJordan BrownElizabeth BrownColton KelleyMelanie KentElizabeth VargasNathan RomanAngela JonesAngela LopezBrian ThomasDouglas HawkinsIan GallagherJeffrey GarrisonTeresa WilliamsJustin MillerJill BakerJessica MitchellJoseph GeorgeCandace FrankEric SotoEmily Duran MDRandall MyersTravis LopezElizabeth GonzalezBrian HoldenTodd Grant Jr.Reginald AlvaradoMark BryantDesiree ClarkJulia ChristianTerry FuentesChristina MartinOlivia RiceKristen NealTimothy BrayJennifer YoungSonya JuarezCharles AveryJohnny BanksJames SanchezScott ProctorJessica MoranRobert FernandezMeredith MckeeKathryn StanleyRichard PooleStephanie GarnerStacey ContrerasCheryl OsborneNathaniel JohnsonRandy LewisMichelle DavisJonathan YoungAngel JacksonMichael KennedyLisa PinedaJennifer MurrayKristopher MurphyRobert WagnerMichael HowellMeagan WhitneyChristopher DavisRhonda LynchTara MarshKeith AndersonAdriana SnyderMelanie MillsAllison JohnsonDebra HowardJustin MartinezDarius AtkinsonTimothy JacksonAlison SmithCatherine HortonAndrew TaylorHunter FitzpatrickSarah KirkKristina GarzaZachary ChavezMrs. Wendy HayesKenneth Santiago MDAnthony JenkinsTeresa LeonardJonathan AdamsDr. Matthew HernandezDouglas HamiltonIan WilliamsTroy ScottChristopher LambLouis Hodges DDSRonald MartinezMonica CochranHarry SnowAmanda ColeJustin LeeSamantha CooperChristopher SmithDiane BradfordJeanette YoungLarry MonroeBradley MurphyNina ThomasMr. Michael GrahamDaniel OlsonAndrew HerreraMichelle FoxMike HillErika LoganJulia HowellWilliam BradleyElizabeth ParkAnthony SmithDonald ReevesJordan WardJeanne Fischer MDWilliam HinesJason SullivanMrs. Amanda RoseRobert HinesKimberly CollinsVeronica McmillanTeresa PerezMatthew McdonaldJason HuntRichard LevinePatricia PerryJohnny SchneiderJessica SmithAlan BurnettBobby NobleCatherine HarrisValerie ObrienRebecca Salazar DDSChristopher NelsonDiana PonceKenneth RaymondRay HoffmanMary GarzaRobert DiazMarie StanleyAmanda SolomonScott BrewerKathy BrightKristen CrossAbigail YoungMichael CooperDavid DavisSteven MyersNancy RossMark EverettSteve WalkerJonathan ByrdNicholas DiazStacy DavisAngela TownsendRichard Cherry DDSTimothy GriffinJames Holland MDNicholas TannerDavid DavisDaniel MartinezLauren CampbellTimothy GomezRobert LandryJamie BaileyKenneth AlexanderMatthew GarciaTanya HawkinsJacob PorterDr. Patricia BakerRebecca FloydMark JordanBryan MayerJenna DickersonMary EatonCynthia GeorgeKathy BurgessBrett JenningsFrank RobersonBrandon GardnerKim LewisEdward MunozDr. Rachel GilbertDonna RiddleChristopher TateMichael DavisLouis McdanielNicole BurgessDavid JensenNicole GoodwinChristopher WelchJared LynchNicole BuckDavid GutierrezStephanie HarrisonWilliam PetersonMolly MasonAlbert WrightJoshua FernandezKendra WardEarl CaldwellShane MartinezElizabeth JohnsonMelissa ParksJennifer PettyMichael LeeAustin MooreDustin MossKristine WadeJeffrey DavisLisa VasquezKenneth Avila Jr.Sergio MayDavid RichardsonAndrew PierceChristian MuellerDavid WoodRobin BrownTimothy HillSteven WebsterHenry RamirezMichael RomeroJody HunterCaitlyn SmithDesiree CastroMelanie EsparzaHolly McphersonZachary RiveraChristine HillBrandon FlowersMichael TuckerMisty HatfieldChristine BurtonJames SmithTracy SteinCharles HoltAmy BrownSummer HuntTodd WilliamsSteven NelsonMelissa TranShelby RodriguezBrian MoralesJennifer HuangElizabeth MunozSteven NewtonRobyn HernandezNicholas JonesCurtis LeeDr. Andrea RoseWendy PetersonJennifer HernandezCorey BerryNicole WilliamsRita ReynoldsSara OwensEvan MooreSarah BryantGail CampbellDylan FrancoLindsey NobleMatthew JacksonMorgan ThomasElizabeth ChaseErnest BarnesRichard SheltonKaren BridgesCynthia StoneKristin SloanJennifer CunninghamRebecca ChapmanStacey TerryJohn ShawMr. Eric GordonAmber DiazRachel KellyAshley WalterDaniel HaleyRobert HendrixDonna HolmesKenneth HowardDonald MillsMichael ScottThomas SandersTeresa SullivanBriana LucasKyle RobertsSheri ThomasJordan PattersonDeborah RollinsAllison WhiteTimothy StewartAmanda NelsonSydney KimThomas HinesMichael FoleyAnthony WadeRobert PerezWendy FinleySabrina RasmussenBilly Franco PhDJason FlemingMaxwell LeonardJonathan CooperRandy BlakeMatthew MillsTracy EspinozaBrandy KellerAnita ScottDiana BradleyJohn GonzalezAngela SimpsonHannah HicksCody WilcoxShane DavisThomas WallsDr. Alexander Chang PhDMr. Robert HendricksKimberly JonesMichele MooreLaura MillerJennifer GonzalezVanessa GarciaGerald KimWendy ShepardHarold PetersonEddie WilliamsShawn ObrienRobert HaneyKathryn GonzalesAmy RiceHannah BruceMichele TerryJennifer JohnsonDavid WrightCarlos SmithErnest WongWilliam PottsMark JeffersonNicole RollinsJohn QuinnAndrew ReidKristen KingMatthew WilsonArthur LeeLori WilliamsDaniel GarciaMs. Stephanie Schwartz DDSLoretta PerezRandall BanksAdrian DavisDebra SmithMary LawsonWhitney EstesMorgan AllenSteven HansonAustin KellyGrace HarrisonJose SchmittNatasha DaviesLawrence ZhangMichael BoydBarbara AndersonShannon BlairCarolyn HawkinsCharles MorrisDerrick CarrollCynthia MartinezJesus BooneRebecca JohnsonAndrew AllisonMadeline MonroeCristina HobbsLindsey NavarroMichael NielsenJason BrownBreanna MooreDonald MartinezAbigail EspinozaAdam GriffinKarla McneilRebecca KnappAlicia JohnsonGabriel ArroyoEdward EdwardsDaniel JohnsonKevin LongDr. Devin Sharp PhDKenneth AriasShannon TateKrystal MarshallAlexander McculloughRichard SmithMeagan BakerDavid FullerChad SmithRichard ReyesMadison WagnerWilliam BowenAnthony AlvaradoBrittney Hammond DVMBrandon BrownKristopher WrightMark WarrenElizabeth FrazierMark BaileyChristopher MontgomeryElizabeth WallerLouis WoodsBrandy MitchellRoger KingTara DouglasMelissa OwensDavid GonzalezTodd WilliamsNathaniel OconnellTravis GreenLuke FryDouglas WoodsChristopher SilvaJacob TerryNancy HarrisonMichael SullivanMiss Norma McfarlandLaurie DoughertyJoshua TaylorAndrew CampbellHeather BellBradley MartinezAmy LeeDavid GoodAaron NelsonRobert TylerJaclyn WilliamsJoe KochDerek LopezAngela BryantWalter MaxwellDennis KleinNancy NelsonJason DrakeMary AcevedoDakota AdamsDaryl GregoryKathleen LoveJames ChavezDawn LewisEric ThompsonBrittany EdwardsCharles BaileyGina SimsJohn McdanielHeather ScottChristine GarciaTracy LoweryJay RobertsBrandon OrtizElizabeth EllisonPatricia WoodTroy MorganAdriana WallEric LewisRobert DukeCarol TorresRobert HooperMandy HensleyKayla PetersenReginald MolinaTasha GrayDawn ChristensenMarcus WilsonJason RodriguezKimberly FisherMichael JohnsonPatricia VillanuevaDavid TorresHeather RobinsonKathryn BernardDebbie TurnerKayla BurtonAmanda BatesKathleen KnoxMr. Colton Collins IIJamie MasonDwayne SmithCynthia CastilloBrandon WilliamsCrystal MaldonadoHaley GreenKimberly PorterElizabeth CarrilloJames HowellAnthony WelchTammie RogersSteven LeSharon PadillaJonathan GardnerJulie DavisStacie HollandDiana GarrettJessica SchmidtMallory GravesKerry HendersonBrandon VaughnAnita WilsonNancy SmithAshley LopezMichael ParkMr. Mason Hernandez MDCindy PowellKayla ScottKimberly JohnstonAnn FloresBrittney AdamsPatricia MillerJonathan GallowayVeronica GriffithMichelle RamosJoe NunezKathy BushEmily HessChase HortonBrittany CarrCharles GonzalezThomas AlvarezJason OrtizRhonda FergusonBrenda DixonKenneth BrooksTyler SmithAlison AndersonBethany HarveyNicholas CostaRyan AllenGabriel Ashley to numeric",
     "output_type": "error",
     "traceback": [
      "\u001b[1;31m---------------------------------------------------------------------------\u001b[0m",
      "\u001b[1;31mNotImplementedError\u001b[0m                       Traceback (most recent call last)",
      "File \u001b[1;32mc:\\Users\\15623\\anaconda3\\Lib\\site-packages\\pandas\\core\\groupby\\groupby.py:1490\u001b[0m, in \u001b[0;36mGroupBy._cython_agg_general.<locals>.array_func\u001b[1;34m(values)\u001b[0m\n\u001b[0;32m   1489\u001b[0m \u001b[39mtry\u001b[39;00m:\n\u001b[1;32m-> 1490\u001b[0m     result \u001b[39m=\u001b[39m \u001b[39mself\u001b[39m\u001b[39m.\u001b[39mgrouper\u001b[39m.\u001b[39m_cython_operation(\n\u001b[0;32m   1491\u001b[0m         \u001b[39m\"\u001b[39m\u001b[39maggregate\u001b[39m\u001b[39m\"\u001b[39m,\n\u001b[0;32m   1492\u001b[0m         values,\n\u001b[0;32m   1493\u001b[0m         how,\n\u001b[0;32m   1494\u001b[0m         axis\u001b[39m=\u001b[39mdata\u001b[39m.\u001b[39mndim \u001b[39m-\u001b[39m \u001b[39m1\u001b[39m,\n\u001b[0;32m   1495\u001b[0m         min_count\u001b[39m=\u001b[39mmin_count,\n\u001b[0;32m   1496\u001b[0m         \u001b[39m*\u001b[39m\u001b[39m*\u001b[39mkwargs,\n\u001b[0;32m   1497\u001b[0m     )\n\u001b[0;32m   1498\u001b[0m \u001b[39mexcept\u001b[39;00m \u001b[39mNotImplementedError\u001b[39;00m:\n\u001b[0;32m   1499\u001b[0m     \u001b[39m# generally if we have numeric_only=False\u001b[39;00m\n\u001b[0;32m   1500\u001b[0m     \u001b[39m# and non-applicable functions\u001b[39;00m\n\u001b[0;32m   1501\u001b[0m     \u001b[39m# try to python agg\u001b[39;00m\n\u001b[0;32m   1502\u001b[0m     \u001b[39m# TODO: shouldn't min_count matter?\u001b[39;00m\n",
      "File \u001b[1;32mc:\\Users\\15623\\anaconda3\\Lib\\site-packages\\pandas\\core\\groupby\\ops.py:959\u001b[0m, in \u001b[0;36mBaseGrouper._cython_operation\u001b[1;34m(self, kind, values, how, axis, min_count, **kwargs)\u001b[0m\n\u001b[0;32m    958\u001b[0m ngroups \u001b[39m=\u001b[39m \u001b[39mself\u001b[39m\u001b[39m.\u001b[39mngroups\n\u001b[1;32m--> 959\u001b[0m \u001b[39mreturn\u001b[39;00m cy_op\u001b[39m.\u001b[39mcython_operation(\n\u001b[0;32m    960\u001b[0m     values\u001b[39m=\u001b[39mvalues,\n\u001b[0;32m    961\u001b[0m     axis\u001b[39m=\u001b[39maxis,\n\u001b[0;32m    962\u001b[0m     min_count\u001b[39m=\u001b[39mmin_count,\n\u001b[0;32m    963\u001b[0m     comp_ids\u001b[39m=\u001b[39mids,\n\u001b[0;32m    964\u001b[0m     ngroups\u001b[39m=\u001b[39mngroups,\n\u001b[0;32m    965\u001b[0m     \u001b[39m*\u001b[39m\u001b[39m*\u001b[39mkwargs,\n\u001b[0;32m    966\u001b[0m )\n",
      "File \u001b[1;32mc:\\Users\\15623\\anaconda3\\Lib\\site-packages\\pandas\\core\\groupby\\ops.py:657\u001b[0m, in \u001b[0;36mWrappedCythonOp.cython_operation\u001b[1;34m(self, values, axis, min_count, comp_ids, ngroups, **kwargs)\u001b[0m\n\u001b[0;32m    649\u001b[0m     \u001b[39mreturn\u001b[39;00m \u001b[39mself\u001b[39m\u001b[39m.\u001b[39m_ea_wrap_cython_operation(\n\u001b[0;32m    650\u001b[0m         values,\n\u001b[0;32m    651\u001b[0m         min_count\u001b[39m=\u001b[39mmin_count,\n\u001b[1;32m   (...)\u001b[0m\n\u001b[0;32m    654\u001b[0m         \u001b[39m*\u001b[39m\u001b[39m*\u001b[39mkwargs,\n\u001b[0;32m    655\u001b[0m     )\n\u001b[1;32m--> 657\u001b[0m \u001b[39mreturn\u001b[39;00m \u001b[39mself\u001b[39m\u001b[39m.\u001b[39m_cython_op_ndim_compat(\n\u001b[0;32m    658\u001b[0m     values,\n\u001b[0;32m    659\u001b[0m     min_count\u001b[39m=\u001b[39mmin_count,\n\u001b[0;32m    660\u001b[0m     ngroups\u001b[39m=\u001b[39mngroups,\n\u001b[0;32m    661\u001b[0m     comp_ids\u001b[39m=\u001b[39mcomp_ids,\n\u001b[0;32m    662\u001b[0m     mask\u001b[39m=\u001b[39m\u001b[39mNone\u001b[39;00m,\n\u001b[0;32m    663\u001b[0m     \u001b[39m*\u001b[39m\u001b[39m*\u001b[39mkwargs,\n\u001b[0;32m    664\u001b[0m )\n",
      "File \u001b[1;32mc:\\Users\\15623\\anaconda3\\Lib\\site-packages\\pandas\\core\\groupby\\ops.py:497\u001b[0m, in \u001b[0;36mWrappedCythonOp._cython_op_ndim_compat\u001b[1;34m(self, values, min_count, ngroups, comp_ids, mask, result_mask, **kwargs)\u001b[0m\n\u001b[0;32m    495\u001b[0m     \u001b[39mreturn\u001b[39;00m res\u001b[39m.\u001b[39mT\n\u001b[1;32m--> 497\u001b[0m \u001b[39mreturn\u001b[39;00m \u001b[39mself\u001b[39m\u001b[39m.\u001b[39m_call_cython_op(\n\u001b[0;32m    498\u001b[0m     values,\n\u001b[0;32m    499\u001b[0m     min_count\u001b[39m=\u001b[39mmin_count,\n\u001b[0;32m    500\u001b[0m     ngroups\u001b[39m=\u001b[39mngroups,\n\u001b[0;32m    501\u001b[0m     comp_ids\u001b[39m=\u001b[39mcomp_ids,\n\u001b[0;32m    502\u001b[0m     mask\u001b[39m=\u001b[39mmask,\n\u001b[0;32m    503\u001b[0m     result_mask\u001b[39m=\u001b[39mresult_mask,\n\u001b[0;32m    504\u001b[0m     \u001b[39m*\u001b[39m\u001b[39m*\u001b[39mkwargs,\n\u001b[0;32m    505\u001b[0m )\n",
      "File \u001b[1;32mc:\\Users\\15623\\anaconda3\\Lib\\site-packages\\pandas\\core\\groupby\\ops.py:541\u001b[0m, in \u001b[0;36mWrappedCythonOp._call_cython_op\u001b[1;34m(self, values, min_count, ngroups, comp_ids, mask, result_mask, **kwargs)\u001b[0m\n\u001b[0;32m    540\u001b[0m out_shape \u001b[39m=\u001b[39m \u001b[39mself\u001b[39m\u001b[39m.\u001b[39m_get_output_shape(ngroups, values)\n\u001b[1;32m--> 541\u001b[0m func \u001b[39m=\u001b[39m \u001b[39mself\u001b[39m\u001b[39m.\u001b[39m_get_cython_function(\u001b[39mself\u001b[39m\u001b[39m.\u001b[39mkind, \u001b[39mself\u001b[39m\u001b[39m.\u001b[39mhow, values\u001b[39m.\u001b[39mdtype, is_numeric)\n\u001b[0;32m    542\u001b[0m values \u001b[39m=\u001b[39m \u001b[39mself\u001b[39m\u001b[39m.\u001b[39m_get_cython_vals(values)\n",
      "File \u001b[1;32mc:\\Users\\15623\\anaconda3\\Lib\\site-packages\\pandas\\core\\groupby\\ops.py:173\u001b[0m, in \u001b[0;36mWrappedCythonOp._get_cython_function\u001b[1;34m(cls, kind, how, dtype, is_numeric)\u001b[0m\n\u001b[0;32m    171\u001b[0m \u001b[39mif\u001b[39;00m \u001b[39m\"\u001b[39m\u001b[39mobject\u001b[39m\u001b[39m\"\u001b[39m \u001b[39mnot\u001b[39;00m \u001b[39min\u001b[39;00m f\u001b[39m.\u001b[39m__signatures__:\n\u001b[0;32m    172\u001b[0m     \u001b[39m# raise NotImplementedError here rather than TypeError later\u001b[39;00m\n\u001b[1;32m--> 173\u001b[0m     \u001b[39mraise\u001b[39;00m \u001b[39mNotImplementedError\u001b[39;00m(\n\u001b[0;32m    174\u001b[0m         \u001b[39mf\u001b[39m\u001b[39m\"\u001b[39m\u001b[39mfunction is not implemented for this dtype: \u001b[39m\u001b[39m\"\u001b[39m\n\u001b[0;32m    175\u001b[0m         \u001b[39mf\u001b[39m\u001b[39m\"\u001b[39m\u001b[39m[how->\u001b[39m\u001b[39m{\u001b[39;00mhow\u001b[39m}\u001b[39;00m\u001b[39m,dtype->\u001b[39m\u001b[39m{\u001b[39;00mdtype_str\u001b[39m}\u001b[39;00m\u001b[39m]\u001b[39m\u001b[39m\"\u001b[39m\n\u001b[0;32m    176\u001b[0m     )\n\u001b[0;32m    177\u001b[0m \u001b[39mreturn\u001b[39;00m f\n",
      "\u001b[1;31mNotImplementedError\u001b[0m: function is not implemented for this dtype: [how->mean,dtype->object]",
      "\nDuring handling of the above exception, another exception occurred:\n",
      "\u001b[1;31mValueError\u001b[0m                                Traceback (most recent call last)",
      "File \u001b[1;32mc:\\Users\\15623\\anaconda3\\Lib\\site-packages\\pandas\\core\\nanops.py:1692\u001b[0m, in \u001b[0;36m_ensure_numeric\u001b[1;34m(x)\u001b[0m\n\u001b[0;32m   1691\u001b[0m \u001b[39mtry\u001b[39;00m:\n\u001b[1;32m-> 1692\u001b[0m     x \u001b[39m=\u001b[39m \u001b[39mfloat\u001b[39m(x)\n\u001b[0;32m   1693\u001b[0m \u001b[39mexcept\u001b[39;00m (\u001b[39mTypeError\u001b[39;00m, \u001b[39mValueError\u001b[39;00m):\n\u001b[0;32m   1694\u001b[0m     \u001b[39m# e.g. \"1+1j\" or \"foo\"\u001b[39;00m\n",
      "\u001b[1;31mValueError\u001b[0m: could not convert string to float: 'Blake MartinFrank MarshCharles Goodman Jr.Aaron MoyerMichael DeanRobin VegaKenneth JuarezGerald SmithDavid HernandezMatthew SinghJeremiah WhiteLisa AguilarDanielle HarrisKristin JohnsonKevin MartinAnna MyersTimothy HigginsAnthony FordNicole RoseChristopher LongMr. Michael AllenCasey JonesJoseph KellyDebra BrownJacqueline SheaSara MurphyNatalie GrantPeter MillerDavid CannonValerie MayApril FisherBradley HunterJohn WilliamsonAnthony SpencerJoseph AllenAngela WallJames FerrellRobert RodriguezDarius WilliamsBrian TrevinoAndrea GreenAustin JohnstonGuy ThomasDesiree GordonScott ClarkLinda SinghWilliam PerryTerry SantanaApril StevensAnthony TorresWayne GuerreroMonique CarterChristine LeeJay SmithRobert ReyesRichard MacdonaldJonathan TuckerChelsea KempMelissa BowmanWilliam SimpsonAmanda DavisBrandon MedinaPatricia WilliamsJeremy CharlesTyler GonzalezKristen GreenRichard WallerLaura LindseyMark AlvarezMatthew ThomasHeather GouldJacqueline SnowApril Calderon MDMichael WaltersErin HaleMichael AndersonPeggy BautistaGina BarberDavid HarrisNathan JonesAdam CruzPeter GonzalezBarbara RobinsonSteven WongAdam HerringPatricia MillerJim StevensJordan MclaughlinVincent MartinTracey BensonNatasha EverettErin ParksStephen ThompsonDaniel KingBenjamin MurrayKristen SmithJohn CarrilloMark BrowningEric Park DDSBrian MosleyPatricia MarshJennifer AndersonDanielle HoodMatthew CarterStephanie ThomasCathy MercadoSheila LewisPatrick Barker PhDAna BurnsChloe DownsJoshua FloresBianca BoyerWilliam ThompsonJonathan LongSamantha PattersonEmily PowellLouis WatersNathan DominguezKristin KellerJordan StewartBrian DunnEmily MartinJamie MillerNathan AtkinsonKelly MartinezCarlos RamirezAllen Morris Jr.Sarah RobertsPatricia HoBreanna MorrisEmily TurnerAlyssa RodriguezRichard JohnsonMary GreenMegan MillerWanda BaileyRenee RodriguezJeffrey PayneKari CharlesKelly HarmonShannon WeaverPatty NelsonAndrea JonesDale WhitakerKatherine DeanBrittney HenryAaron RodriguezDr. Carl JamesWilliam FrancisDanielle DyerMichael WagnerAmanda RogersPatricia JonesVictor MartinDr. Kimberly BenjaminMichelle BeckerJoseph NunezKeith AlvarezRicardo VazquezMatthew HawkinsNicole SmithSarah HodgeAmber BlevinsBenjamin BatesThomas MarshallAnna JohnsonRyan Graham MDTerri MillerTaylor DominguezLisa HarrisMichael RobinsonMelissa KellyChase RayTracy RodriguezYvonne WareJake MilesChristopher MyersCindy MurphyDylan JohnsonFrank NewmanLisa MyersKristine KellyMelissa AndersonMarissa BlevinsJason HallJoseph HernandezWanda MaddoxArthur KochNicholas DanielJerry RichardsJoel PittsThomas HerreraJennifer CarlsonJorge McdonaldStephanie Howard MDAlyssa WilliamsonPedro LongJames SmithGregory HerringDaniel BarrettTravis ComptonDaniel RowlandJonathon WillisAdam RodriguezDominique LloydJoyce RobertsJon GriffinJoseph ForbesDustin MarquezSean WellsDeanna CombsDanielle HayesKrystal ReynoldsCarl MartinezBrandon PopeAmanda RodriguezMarco WilliamsErica CollinsPenny NguyenLori LeeLori SmithBryan MooreJaclyn CobbVeronica DiazBarbara LarsenSteven HartmanMegan VillaAlex ConnerDanielle HurleyJames CalhounRyan GreenVeronica GomezWilliam SwansonLauren WestJohn BrownTonya SaundersDavid ThomasCrystal EdwardsCathy RamosChris RobertsKatherine TuckerJustin HillSarah AllenJessica BauerJames RodgersJacqueline EwingJacob ThomasNatalie JohnstonFelicia MatthewsRobert LawrenceJoshua MorganSierra JohnsonTravis HeathMelanie AndersonKenneth GarciaMaria BrockAdam PattonMatthew MezaAmanda JohnsonJesse HernandezPenny DeckerBobby WilliamsMargaret HortonRonnie BarrettAllen OnealGerald LangWilliam HudsonDerek SilvaDarlene LeeHarold JohnstonDonna ReedWanda PhillipsMegan JonesTheresa ShieldsMark LeeErica BakerVirginia BallardAaron AtkinsonBianca Huynh MDDaniel PhillipsThomas JohnsonNicole LopezAdam LambMonica RobersonDouglas RodriguezSarah OrtizDeanna MendozaMelissa Dunn MDLauren KochWilliam FrenchJared WashingtonJames JacksonMelissa SandovalMr. Angel JohnsonChad EvansDonald MyersNicole JohnsonWendy RiveraWilliam PinedaRebecca StoutDerek DiazTravis WebbShane PerezJasmine CampbellMason RaymondVincent EllisJoseph McgeeKatelyn DayAmy BeckerKenneth HughesKimberly FrazierMichael Garcia Jr.April HallJessica MatthewsMr. Daniel Nguyen DDSChristopher KelleyHeather WeaverTaylor GambleSteven BaileyRichard HernandezNancy McclurePaul ClarkeEric ArnoldElizabeth MeyerKaitlin BarrettAnthony PatelApril GillespieJohn SnyderRoy DeckerMatthew JonesKenneth MartinezKevin BrowningChristine IbarraMelissa BrownMichael PerezNorman BurnsJames MarshallTaylor CohenAlejandro CarterAllison GardnerEmily CollierDebbie Brown DVMAmy ShawTaylor MedinaLisa RichardsDana CruzJustin HenryRobert WeberTamara MooreKim StewartAdriana SmithJoshua Kim DDSCarol JohnsonMr. Jesse BellEmily WarrenAlexandra HendricksJulie MoralesJason JohnsonLisa JonesMonica SmithEric EdwardsMichael BurnettDerek MayPaul WoodMiguel JohnsonDouglas HardyKaitlyn ChambersCarlos YoungLindsay LinPhillip WashingtonAlexis MatthewsAndrew ThomasDerek Barker Jr.Jeremy WoodAndrew JimenezJennifer ButlerMrs. Renee GordonMichelle MurrayJennifer StoneDavid KirbySheila YoungHeather WatsonRobert RossKristen LunaDawn MartinezSavannah RamseyWilliam SalasHolly MooreJason CarterRyan SmithBrett EricksonChristina AyalaJames GarciaConnor CobbCrystal BuchananSherri PadillaJustin PowellVanessa TuckerTyler HarperRobert GreerBarry HallMargaret LeeDavid DiazRenee MonroeKristen MitchellSamantha MartinJessica FarmerCarlos BrownMiguel MaciasAlejandra WilliamsonMary GriffinMatthew GrantAnnette RossCarolyn MillerErica MillerMark MclaughlinJamie GibsonMatthew RiggsBetty IrwinFrederick LeeHelen GayCourtney ThompsonDiana ChapmanKenneth DiazKenneth HartmanRachel LopezCassandra BaldwinJose ButlerJohn LoveMrs. Amanda MartinMichael MooreJohn VaughnRebecca ChungDaniel HartMackenzie MasonDavid HarveyChristina ButlerSheila BrownJeffrey GalvanRegina ParkerTracy ChapmanEdward SmithShawn PetersonBryan GuerraHeather StokesMartha BestCynthia WolfeDavid TaylorRebecca HansenJessica CarneyJoshua SanchezRegina GarciaCourtney GibsonBrandon DelacruzTheresa SummersKarina LeePeter RileyChristopher OneillDaniel KleinKatherine EdwardsElizabeth ShermanWilliam BrewerLauren LoganAmanda WalkerAmanda McdanielKevin WilliamsMrs. Pamela GarciaAngela RojasBeth SullivanMarie StoutEmily AllenDanielle Stanton MDConnie BushErica ShawPhilip RobinsonMiguel SmithFrank HoffmanKevin ColemanAndrea HallMark BrownKathleen ValdezJessica WardRebecca GonzalesMike McdanielPamela HughesPamela RitterTimothy ScottStephen LawrenceTracey OchoaBridget BurkeJason WhiteMichelle WashingtonRaymond VargasJeffrey GreenMichael MontgomeryAlejandro BarnettElaine JamesBrianna WhiteAlyssa JenningsTony NelsonLaurie FergusonKelly WileyDustin PetersenChristopher WilkersonDr. David MillerCorey BenjaminCharles PerezKyle DeanTonya WalshWendy DavisJoshua LoveMichael AdamsMrs. Sheena Bailey DVMJoan CaldwellBridget GrahamBrian ChangAlicia ButlerJames BrownDiane VargasMichele OnealZachary Garrett IIIDavid JohnsonKristy PopeMadison BurnsCynthia MooreTaylor ReedNathan PrattAmanda MartinBarbara WhiteMichael GrimesLaura NobleKevin QuinnDavid StoneSeth GreenAmy MooreCarolyn AriasAmy Mcintosh MDChristina KhanDr. Frank AndersonBecky JonesKathleen RamirezCatherine WilsonSandra DuncanJeffrey RivasJordan CruzCindy CruzTina RodriguezDavid RiveraBrian SilvaJoseph MurphyDawn HernandezMichael PatelBreanna MercerDavid PayneRuth ArmstrongJennifer JamesRachael HortonAshley TorresDaniel CherryAmanda FieldsVernon RossMarie HernandezMichael KimKevin BarnettMary WilliamsPaul HallBrittney HughesRonald HickmanMallory HowardKendra YangJames TurnerThomas LewisPhillip BishopAndrea BartonChristopher MillerErin PhillipsHeather HallKatrina AdkinsNicole MitchellPatty RyanLinda GravesMargaret AndersonRichard DeckerDarren BrooksHeather SmithMatthew TaylorCynthia GreenChristopher PhillipsMegan OlsonTiffany SmithVictor SmithAmy ParkerKelly ColemanEric KnappJustin WilliamsMallory AndersonJohn ClarkAnne HansenTina ButlerCody SchaeferThomas Burgess MDJoseph HodgesDaniel MillsAmanda Hale DVMGregory SchneiderClinton NguyenRussell ThompsonMegan FlemingDebbie BlackwellLaura JenkinsJordan AndersonAmanda IbarraJonathan KrauseDr. Daniel BowmanTammy JohnsonLinda HerreraJonathan MartinezChristine JohnsonTanya FisherAngelica HumphreyJustin JohnstonApril RodriguezAmber ThompsonMelissa BanksLori Mitchell DDSAmy SmithRichard DayJennifer MackJames SmithNicole PettyTina HillZachary SchultzMrs. Pam Lewis DVMKelsey HarrisRobert MitchellKelly HopkinsAmanda GrahamAmy Gutierrez DDSDawn RamirezKenneth WardMelody ScottAshley BarryAngela WilkinsTodd SimmonsDavid LunaLeonard CoxPeter TuckerCynthia NelsonPeter MillerAaron GarciaPatrick WhitneyMargaret QuinnAmber MooreMatthew AguilarDenise CarterJared BrownAmber VillanuevaAmy CohenMichael LeeStephanie AriasJenna GreerCameron CordovaJeremy PayneNathan ArroyoRussell BanksJoshua RamirezJay KirkAlicia SchwartzAnna CamachoCarla WilsonJessica WrightWilliam BlackAshley TerryJeffery PowellDaniel SandersMichael GarnerMaria WilliamsBrenda RayChelsea LewisNicholas RamosJennifer WashingtonAudrey WellsBarbara WoodAndrea ThompsonJason CoxSarah RobinsonHeidi MartinJanet ChanJeffrey RobbinsTheresa NicholsAmy HansenJoshua BrownKent ShermanEddie AlvarezYvonne Robinson PhDJennifer RamosTracy MorrisonCrystal JohnsonApril TrujilloLisa SanchezDeborah NelsonKevin GoodwinAbigail PerezDonna RoseAndrew WintersJessica HartLauren KlineGregory AllisonThomas JohnsonVanessa StevensonKathleen BeltranMartha Mcdonald DVMKevin JohnsonDr. Mary SchwartzAnthony MeadowsErnest PowellDavid FergusonMariah HoltNancy MartinStacey ThompsonAndrew RyanMallory ChenErika BurchRobert MorrowAustin ChavezJustin WilsonLisa MurrayJeremy WattsJustin ChenRenee BuckleyShannon PriceBarbara WhiteheadJackie KirkAngel MayerDeborah AndersonJacqueline West DDSAnita ZunigaDavid ChapmanBeverly BauerJessica NguyenMelissa LewisAmanda SchaeferJacqueline Snow MDMarcus RushAngela StewartJorge HoDr. Jennifer SheaChristopher CantuJonathan HaleErin BowersAnthony HernandezEduardo SantiagoDana HaynesClayton Williams DVMNatalie WhitakerFrances WhiteMeghan AdamsStephen FitzgeraldAmy BairdMolly BrownAmanda SloanEric WilliamsEmma VasquezSherry GomezAaron CarterAlan ScottJennifer CannonLindsay NicholsonStephanie JonesJose SmithKimberly MooreMelissa SchultzSteven CalhounJohn BallZachary WilliamsKimberly JacksonKristen WilliamsonSamantha HoffmanDanielle GonzalezCharles IngramTimothy GravesAnna RodriguezAmanda KaneJoseph JonesDebra JacksonErik DunlapMeghan HarperJennifer PinedaJohn WhiteKaren FischerTodd DavisLarry Chandler Jr.Veronica PotterRobert VelezAshley WeissErika JohnsonJesus GordonKathy JacksonAshley WilliamsJuan LopezAnna HaynesDon MurrayJohn GarzaSteven WhiteDavid SalazarDaniel WrightRebecca MolinaBetty EricksonCameron Roman Jr.Kelly PierceSergio McfarlandJeffrey ChavezAmanda GalvanRonald PooleJohn WallaceGina AguilarMelissa SullivanJeffery ToddDaniel BurtonJulie AllisonCarolyn CookMike AllenAngela CostaKarina CalderonFelicia CampbellElizabeth DixonNancy WheelerMichael WatsonJennifer LevinePhilip ArnoldCrystal GonzalesMr. Ian SmithLawrence JohnsonPeter JonesChristopher RamirezNicolas JohnsonStephanie RhodesSarah MillerScott CortezChristopher CarrollWilliam RodriguezWyatt HarrisJacob CarlsonJason PerryJoshua FoxJames PerkinsChristine SanfordSarah SnyderDana ChavezJose HansenMelissa Hunt MDFrank RiveraLeah BishopAudrey FieldsRenee Garcia MDAngela WallJose GoldenAndrew RichardsonCynthia McleanMelissa FordKelsey SmithHeidi MasonLaura JohnsonAmanda MooreRobert AndersonMichael RobbinsSamantha ScottJoseph WareMaria DavisKenneth WatkinsMrs. Lori Rogers MDFrank BlackwellMichele TorresJason FergusonWilliam DurhamNicole HaynesCraig MorganEvan WilsonKenneth OlsonSeth GreenRoberto EscobarJustin SchneiderSarah PadillaAshley GardnerCourtney LutzAlbert SheaJennifer McguireJoseph RamosVictoria BakerClaudia WoodScott HughesCassandra HaasKathryn HannaDiana PhelpsKari HuangSara WellsJordan PetersonFrederick RochaKathryn YoungBrittany HodgesSherry GutierrezJohn GrantBenjamin RoweChelsey VillanuevaAlexandra MccarthyRhonda GarciaJon MatthewsKristen HartmanLynn RivasBrandy WestCarmen ThomasThomas LarsonKathryn CoxTasha ButlerChristopher ThompsonCollin ThomasJulia GeorgeChristopher ShermanAmy BooneJames JensenMonica BerryJonathan MckenzieMrs. Christina Mitchell DDSKatherine BrownJordan BrownElizabeth BrownColton KelleyMelanie KentElizabeth VargasNathan RomanAngela JonesAngela LopezBrian ThomasDouglas HawkinsIan GallagherJeffrey GarrisonTeresa WilliamsJustin MillerJill BakerJessica MitchellJoseph GeorgeCandace FrankEric SotoEmily Duran MDRandall MyersTravis LopezElizabeth GonzalezBrian HoldenTodd Grant Jr.Reginald AlvaradoMark BryantDesiree ClarkJulia ChristianTerry FuentesChristina MartinOlivia RiceKristen NealTimothy BrayJennifer YoungSonya JuarezCharles AveryJohnny BanksJames SanchezScott ProctorJessica MoranRobert FernandezMeredith MckeeKathryn StanleyRichard PooleStephanie GarnerStacey ContrerasCheryl OsborneNathaniel JohnsonRandy LewisMichelle DavisJonathan YoungAngel JacksonMichael KennedyLisa PinedaJennifer MurrayKristopher MurphyRobert WagnerMichael HowellMeagan WhitneyChristopher DavisRhonda LynchTara MarshKeith AndersonAdriana SnyderMelanie MillsAllison JohnsonDebra HowardJustin MartinezDarius AtkinsonTimothy JacksonAlison SmithCatherine HortonAndrew TaylorHunter FitzpatrickSarah KirkKristina GarzaZachary ChavezMrs. Wendy HayesKenneth Santiago MDAnthony JenkinsTeresa LeonardJonathan AdamsDr. Matthew HernandezDouglas HamiltonIan WilliamsTroy ScottChristopher LambLouis Hodges DDSRonald MartinezMonica CochranHarry SnowAmanda ColeJustin LeeSamantha CooperChristopher SmithDiane BradfordJeanette YoungLarry MonroeBradley MurphyNina ThomasMr. Michael GrahamDaniel OlsonAndrew HerreraMichelle FoxMike HillErika LoganJulia HowellWilliam BradleyElizabeth ParkAnthony SmithDonald ReevesJordan WardJeanne Fischer MDWilliam HinesJason SullivanMrs. Amanda RoseRobert HinesKimberly CollinsVeronica McmillanTeresa PerezMatthew McdonaldJason HuntRichard LevinePatricia PerryJohnny SchneiderJessica SmithAlan BurnettBobby NobleCatherine HarrisValerie ObrienRebecca Salazar DDSChristopher NelsonDiana PonceKenneth RaymondRay HoffmanMary GarzaRobert DiazMarie StanleyAmanda SolomonScott BrewerKathy BrightKristen CrossAbigail YoungMichael CooperDavid DavisSteven MyersNancy RossMark EverettSteve WalkerJonathan ByrdNicholas DiazStacy DavisAngela TownsendRichard Cherry DDSTimothy GriffinJames Holland MDNicholas TannerDavid DavisDaniel MartinezLauren CampbellTimothy GomezRobert LandryJamie BaileyKenneth AlexanderMatthew GarciaTanya HawkinsJacob PorterDr. Patricia BakerRebecca FloydMark JordanBryan MayerJenna DickersonMary EatonCynthia GeorgeKathy BurgessBrett JenningsFrank RobersonBrandon GardnerKim LewisEdward MunozDr. Rachel GilbertDonna RiddleChristopher TateMichael DavisLouis McdanielNicole BurgessDavid JensenNicole GoodwinChristopher WelchJared LynchNicole BuckDavid GutierrezStephanie HarrisonWilliam PetersonMolly MasonAlbert WrightJoshua FernandezKendra WardEarl CaldwellShane MartinezElizabeth JohnsonMelissa ParksJennifer PettyMichael LeeAustin MooreDustin MossKristine WadeJeffrey DavisLisa VasquezKenneth Avila Jr.Sergio MayDavid RichardsonAndrew PierceChristian MuellerDavid WoodRobin BrownTimothy HillSteven WebsterHenry RamirezMichael RomeroJody HunterCaitlyn SmithDesiree CastroMelanie EsparzaHolly McphersonZachary RiveraChristine HillBrandon FlowersMichael TuckerMisty HatfieldChristine BurtonJames SmithTracy SteinCharles HoltAmy BrownSummer HuntTodd WilliamsSteven NelsonMelissa TranShelby RodriguezBrian MoralesJennifer HuangElizabeth MunozSteven NewtonRobyn HernandezNicholas JonesCurtis LeeDr. Andrea RoseWendy PetersonJennifer HernandezCorey BerryNicole WilliamsRita ReynoldsSara OwensEvan MooreSarah BryantGail CampbellDylan FrancoLindsey NobleMatthew JacksonMorgan ThomasElizabeth ChaseErnest BarnesRichard SheltonKaren BridgesCynthia StoneKristin SloanJennifer CunninghamRebecca ChapmanStacey TerryJohn ShawMr. Eric GordonAmber DiazRachel KellyAshley WalterDaniel HaleyRobert HendrixDonna HolmesKenneth HowardDonald MillsMichael ScottThomas SandersTeresa SullivanBriana LucasKyle RobertsSheri ThomasJordan PattersonDeborah RollinsAllison WhiteTimothy StewartAmanda NelsonSydney KimThomas HinesMichael FoleyAnthony WadeRobert PerezWendy FinleySabrina RasmussenBilly Franco PhDJason FlemingMaxwell LeonardJonathan CooperRandy BlakeMatthew MillsTracy EspinozaBrandy KellerAnita ScottDiana BradleyJohn GonzalezAngela SimpsonHannah HicksCody WilcoxShane DavisThomas WallsDr. Alexander Chang PhDMr. Robert HendricksKimberly JonesMichele MooreLaura MillerJennifer GonzalezVanessa GarciaGerald KimWendy ShepardHarold PetersonEddie WilliamsShawn ObrienRobert HaneyKathryn GonzalesAmy RiceHannah BruceMichele TerryJennifer JohnsonDavid WrightCarlos SmithErnest WongWilliam PottsMark JeffersonNicole RollinsJohn QuinnAndrew ReidKristen KingMatthew WilsonArthur LeeLori WilliamsDaniel GarciaMs. Stephanie Schwartz DDSLoretta PerezRandall BanksAdrian DavisDebra SmithMary LawsonWhitney EstesMorgan AllenSteven HansonAustin KellyGrace HarrisonJose SchmittNatasha DaviesLawrence ZhangMichael BoydBarbara AndersonShannon BlairCarolyn HawkinsCharles MorrisDerrick CarrollCynthia MartinezJesus BooneRebecca JohnsonAndrew AllisonMadeline MonroeCristina HobbsLindsey NavarroMichael NielsenJason BrownBreanna MooreDonald MartinezAbigail EspinozaAdam GriffinKarla McneilRebecca KnappAlicia JohnsonGabriel ArroyoEdward EdwardsDaniel JohnsonKevin LongDr. Devin Sharp PhDKenneth AriasShannon TateKrystal MarshallAlexander McculloughRichard SmithMeagan BakerDavid FullerChad SmithRichard ReyesMadison WagnerWilliam BowenAnthony AlvaradoBrittney Hammond DVMBrandon BrownKristopher WrightMark WarrenElizabeth FrazierMark BaileyChristopher MontgomeryElizabeth WallerLouis WoodsBrandy MitchellRoger KingTara DouglasMelissa OwensDavid GonzalezTodd WilliamsNathaniel OconnellTravis GreenLuke FryDouglas WoodsChristopher SilvaJacob TerryNancy HarrisonMichael SullivanMiss Norma McfarlandLaurie DoughertyJoshua TaylorAndrew CampbellHeather BellBradley MartinezAmy LeeDavid GoodAaron NelsonRobert TylerJaclyn WilliamsJoe KochDerek LopezAngela BryantWalter MaxwellDennis KleinNancy NelsonJason DrakeMary AcevedoDakota AdamsDaryl GregoryKathleen LoveJames ChavezDawn LewisEric ThompsonBrittany EdwardsCharles BaileyGina SimsJohn McdanielHeather ScottChristine GarciaTracy LoweryJay RobertsBrandon OrtizElizabeth EllisonPatricia WoodTroy MorganAdriana WallEric LewisRobert DukeCarol TorresRobert HooperMandy HensleyKayla PetersenReginald MolinaTasha GrayDawn ChristensenMarcus WilsonJason RodriguezKimberly FisherMichael JohnsonPatricia VillanuevaDavid TorresHeather RobinsonKathryn BernardDebbie TurnerKayla BurtonAmanda BatesKathleen KnoxMr. Colton Collins IIJamie MasonDwayne SmithCynthia CastilloBrandon WilliamsCrystal MaldonadoHaley GreenKimberly PorterElizabeth CarrilloJames HowellAnthony WelchTammie RogersSteven LeSharon PadillaJonathan GardnerJulie DavisStacie HollandDiana GarrettJessica SchmidtMallory GravesKerry HendersonBrandon VaughnAnita WilsonNancy SmithAshley LopezMichael ParkMr. Mason Hernandez MDCindy PowellKayla ScottKimberly JohnstonAnn FloresBrittney AdamsPatricia MillerJonathan GallowayVeronica GriffithMichelle RamosJoe NunezKathy BushEmily HessChase HortonBrittany CarrCharles GonzalezThomas AlvarezJason OrtizRhonda FergusonBrenda DixonKenneth BrooksTyler SmithAlison AndersonBethany HarveyNicholas CostaRyan AllenGabriel Ashley'",
      "\nDuring handling of the above exception, another exception occurred:\n",
      "\u001b[1;31mValueError\u001b[0m                                Traceback (most recent call last)",
      "File \u001b[1;32mc:\\Users\\15623\\anaconda3\\Lib\\site-packages\\pandas\\core\\nanops.py:1696\u001b[0m, in \u001b[0;36m_ensure_numeric\u001b[1;34m(x)\u001b[0m\n\u001b[0;32m   1695\u001b[0m \u001b[39mtry\u001b[39;00m:\n\u001b[1;32m-> 1696\u001b[0m     x \u001b[39m=\u001b[39m \u001b[39mcomplex\u001b[39m(x)\n\u001b[0;32m   1697\u001b[0m \u001b[39mexcept\u001b[39;00m \u001b[39mValueError\u001b[39;00m \u001b[39mas\u001b[39;00m err:\n\u001b[0;32m   1698\u001b[0m     \u001b[39m# e.g. \"foo\"\u001b[39;00m\n",
      "\u001b[1;31mValueError\u001b[0m: complex() arg is a malformed string",
      "\nThe above exception was the direct cause of the following exception:\n",
      "\u001b[1;31mTypeError\u001b[0m                                 Traceback (most recent call last)",
      "\u001b[1;32mc:\\Users\\15623\\Documents\\UCI Bootcamp 2023\\Module 4\\Starter_Code\\PyCitySchools\\PyCitySchools_starter.ipynb Cell 28\u001b[0m line \u001b[0;36m8\n\u001b[0;32m      <a href='vscode-notebook-cell:/c%3A/Users/15623/Documents/UCI%20Bootcamp%202023/Module%204/Starter_Code/PyCitySchools/PyCitySchools_starter.ipynb#X36sZmlsZQ%3D%3D?line=4'>5</a>\u001b[0m twelfth_graders \u001b[39m=\u001b[39m school_data_complete[(school_data_complete[\u001b[39m\"\u001b[39m\u001b[39mgrade\u001b[39m\u001b[39m\"\u001b[39m] \u001b[39m==\u001b[39m \u001b[39m\"\u001b[39m\u001b[39m12th\u001b[39m\u001b[39m\"\u001b[39m)]\n\u001b[0;32m      <a href='vscode-notebook-cell:/c%3A/Users/15623/Documents/UCI%20Bootcamp%202023/Module%204/Starter_Code/PyCitySchools/PyCitySchools_starter.ipynb#X36sZmlsZQ%3D%3D?line=6'>7</a>\u001b[0m \u001b[39m# Group by \"school_name\" and take the mean of each.\u001b[39;00m\n\u001b[1;32m----> <a href='vscode-notebook-cell:/c%3A/Users/15623/Documents/UCI%20Bootcamp%202023/Module%204/Starter_Code/PyCitySchools/PyCitySchools_starter.ipynb#X36sZmlsZQ%3D%3D?line=7'>8</a>\u001b[0m ninth_graders_scores \u001b[39m=\u001b[39m ninth_graders\u001b[39m.\u001b[39mgroupby([\u001b[39m\"\u001b[39m\u001b[39mschool_name\u001b[39m\u001b[39m\"\u001b[39m])\u001b[39m.\u001b[39mmean()[\u001b[39m\"\u001b[39m\u001b[39mmath_score\u001b[39m\u001b[39m\"\u001b[39m]\n\u001b[0;32m      <a href='vscode-notebook-cell:/c%3A/Users/15623/Documents/UCI%20Bootcamp%202023/Module%204/Starter_Code/PyCitySchools/PyCitySchools_starter.ipynb#X36sZmlsZQ%3D%3D?line=8'>9</a>\u001b[0m tenth_graders_scores \u001b[39m=\u001b[39m tenth_graders\u001b[39m.\u001b[39mgroupby([\u001b[39m\"\u001b[39m\u001b[39mschool_name\u001b[39m\u001b[39m\"\u001b[39m])\u001b[39m.\u001b[39mmean()[\u001b[39m\"\u001b[39m\u001b[39mmath_score\u001b[39m\u001b[39m\"\u001b[39m]\n\u001b[0;32m     <a href='vscode-notebook-cell:/c%3A/Users/15623/Documents/UCI%20Bootcamp%202023/Module%204/Starter_Code/PyCitySchools/PyCitySchools_starter.ipynb#X36sZmlsZQ%3D%3D?line=9'>10</a>\u001b[0m eleventh_graders_scores \u001b[39m=\u001b[39m eleventh_graders\u001b[39m.\u001b[39mgroupby([\u001b[39m\"\u001b[39m\u001b[39mschool_name\u001b[39m\u001b[39m\"\u001b[39m])\u001b[39m.\u001b[39mmean()[\u001b[39m\"\u001b[39m\u001b[39mmath_score\u001b[39m\u001b[39m\"\u001b[39m]\n",
      "File \u001b[1;32mc:\\Users\\15623\\anaconda3\\Lib\\site-packages\\pandas\\core\\groupby\\groupby.py:1855\u001b[0m, in \u001b[0;36mGroupBy.mean\u001b[1;34m(self, numeric_only, engine, engine_kwargs)\u001b[0m\n\u001b[0;32m   1853\u001b[0m     \u001b[39mreturn\u001b[39;00m \u001b[39mself\u001b[39m\u001b[39m.\u001b[39m_numba_agg_general(sliding_mean, engine_kwargs)\n\u001b[0;32m   1854\u001b[0m \u001b[39melse\u001b[39;00m:\n\u001b[1;32m-> 1855\u001b[0m     result \u001b[39m=\u001b[39m \u001b[39mself\u001b[39m\u001b[39m.\u001b[39m_cython_agg_general(\n\u001b[0;32m   1856\u001b[0m         \u001b[39m\"\u001b[39m\u001b[39mmean\u001b[39m\u001b[39m\"\u001b[39m,\n\u001b[0;32m   1857\u001b[0m         alt\u001b[39m=\u001b[39m\u001b[39mlambda\u001b[39;00m x: Series(x)\u001b[39m.\u001b[39mmean(numeric_only\u001b[39m=\u001b[39mnumeric_only),\n\u001b[0;32m   1858\u001b[0m         numeric_only\u001b[39m=\u001b[39mnumeric_only,\n\u001b[0;32m   1859\u001b[0m     )\n\u001b[0;32m   1860\u001b[0m     \u001b[39mreturn\u001b[39;00m result\u001b[39m.\u001b[39m__finalize__(\u001b[39mself\u001b[39m\u001b[39m.\u001b[39mobj, method\u001b[39m=\u001b[39m\u001b[39m\"\u001b[39m\u001b[39mgroupby\u001b[39m\u001b[39m\"\u001b[39m)\n",
      "File \u001b[1;32mc:\\Users\\15623\\anaconda3\\Lib\\site-packages\\pandas\\core\\groupby\\groupby.py:1507\u001b[0m, in \u001b[0;36mGroupBy._cython_agg_general\u001b[1;34m(self, how, alt, numeric_only, min_count, **kwargs)\u001b[0m\n\u001b[0;32m   1503\u001b[0m         result \u001b[39m=\u001b[39m \u001b[39mself\u001b[39m\u001b[39m.\u001b[39m_agg_py_fallback(values, ndim\u001b[39m=\u001b[39mdata\u001b[39m.\u001b[39mndim, alt\u001b[39m=\u001b[39malt)\n\u001b[0;32m   1505\u001b[0m     \u001b[39mreturn\u001b[39;00m result\n\u001b[1;32m-> 1507\u001b[0m new_mgr \u001b[39m=\u001b[39m data\u001b[39m.\u001b[39mgrouped_reduce(array_func)\n\u001b[0;32m   1508\u001b[0m res \u001b[39m=\u001b[39m \u001b[39mself\u001b[39m\u001b[39m.\u001b[39m_wrap_agged_manager(new_mgr)\n\u001b[0;32m   1509\u001b[0m out \u001b[39m=\u001b[39m \u001b[39mself\u001b[39m\u001b[39m.\u001b[39m_wrap_aggregated_output(res)\n",
      "File \u001b[1;32mc:\\Users\\15623\\anaconda3\\Lib\\site-packages\\pandas\\core\\internals\\managers.py:1503\u001b[0m, in \u001b[0;36mBlockManager.grouped_reduce\u001b[1;34m(self, func)\u001b[0m\n\u001b[0;32m   1499\u001b[0m \u001b[39mif\u001b[39;00m blk\u001b[39m.\u001b[39mis_object:\n\u001b[0;32m   1500\u001b[0m     \u001b[39m# split on object-dtype blocks bc some columns may raise\u001b[39;00m\n\u001b[0;32m   1501\u001b[0m     \u001b[39m#  while others do not.\u001b[39;00m\n\u001b[0;32m   1502\u001b[0m     \u001b[39mfor\u001b[39;00m sb \u001b[39min\u001b[39;00m blk\u001b[39m.\u001b[39m_split():\n\u001b[1;32m-> 1503\u001b[0m         applied \u001b[39m=\u001b[39m sb\u001b[39m.\u001b[39mapply(func)\n\u001b[0;32m   1504\u001b[0m         result_blocks \u001b[39m=\u001b[39m extend_blocks(applied, result_blocks)\n\u001b[0;32m   1505\u001b[0m \u001b[39melse\u001b[39;00m:\n",
      "File \u001b[1;32mc:\\Users\\15623\\anaconda3\\Lib\\site-packages\\pandas\\core\\internals\\blocks.py:329\u001b[0m, in \u001b[0;36mBlock.apply\u001b[1;34m(self, func, **kwargs)\u001b[0m\n\u001b[0;32m    323\u001b[0m \u001b[39m@final\u001b[39m\n\u001b[0;32m    324\u001b[0m \u001b[39mdef\u001b[39;00m \u001b[39mapply\u001b[39m(\u001b[39mself\u001b[39m, func, \u001b[39m*\u001b[39m\u001b[39m*\u001b[39mkwargs) \u001b[39m-\u001b[39m\u001b[39m>\u001b[39m \u001b[39mlist\u001b[39m[Block]:\n\u001b[0;32m    325\u001b[0m \u001b[39m    \u001b[39m\u001b[39m\"\"\"\u001b[39;00m\n\u001b[0;32m    326\u001b[0m \u001b[39m    apply the function to my values; return a block if we are not\u001b[39;00m\n\u001b[0;32m    327\u001b[0m \u001b[39m    one\u001b[39;00m\n\u001b[0;32m    328\u001b[0m \u001b[39m    \"\"\"\u001b[39;00m\n\u001b[1;32m--> 329\u001b[0m     result \u001b[39m=\u001b[39m func(\u001b[39mself\u001b[39m\u001b[39m.\u001b[39mvalues, \u001b[39m*\u001b[39m\u001b[39m*\u001b[39mkwargs)\n\u001b[0;32m    331\u001b[0m     \u001b[39mreturn\u001b[39;00m \u001b[39mself\u001b[39m\u001b[39m.\u001b[39m_split_op_result(result)\n",
      "File \u001b[1;32mc:\\Users\\15623\\anaconda3\\Lib\\site-packages\\pandas\\core\\groupby\\groupby.py:1503\u001b[0m, in \u001b[0;36mGroupBy._cython_agg_general.<locals>.array_func\u001b[1;34m(values)\u001b[0m\n\u001b[0;32m   1490\u001b[0m     result \u001b[39m=\u001b[39m \u001b[39mself\u001b[39m\u001b[39m.\u001b[39mgrouper\u001b[39m.\u001b[39m_cython_operation(\n\u001b[0;32m   1491\u001b[0m         \u001b[39m\"\u001b[39m\u001b[39maggregate\u001b[39m\u001b[39m\"\u001b[39m,\n\u001b[0;32m   1492\u001b[0m         values,\n\u001b[1;32m   (...)\u001b[0m\n\u001b[0;32m   1496\u001b[0m         \u001b[39m*\u001b[39m\u001b[39m*\u001b[39mkwargs,\n\u001b[0;32m   1497\u001b[0m     )\n\u001b[0;32m   1498\u001b[0m \u001b[39mexcept\u001b[39;00m \u001b[39mNotImplementedError\u001b[39;00m:\n\u001b[0;32m   1499\u001b[0m     \u001b[39m# generally if we have numeric_only=False\u001b[39;00m\n\u001b[0;32m   1500\u001b[0m     \u001b[39m# and non-applicable functions\u001b[39;00m\n\u001b[0;32m   1501\u001b[0m     \u001b[39m# try to python agg\u001b[39;00m\n\u001b[0;32m   1502\u001b[0m     \u001b[39m# TODO: shouldn't min_count matter?\u001b[39;00m\n\u001b[1;32m-> 1503\u001b[0m     result \u001b[39m=\u001b[39m \u001b[39mself\u001b[39m\u001b[39m.\u001b[39m_agg_py_fallback(values, ndim\u001b[39m=\u001b[39mdata\u001b[39m.\u001b[39mndim, alt\u001b[39m=\u001b[39malt)\n\u001b[0;32m   1505\u001b[0m \u001b[39mreturn\u001b[39;00m result\n",
      "File \u001b[1;32mc:\\Users\\15623\\anaconda3\\Lib\\site-packages\\pandas\\core\\groupby\\groupby.py:1457\u001b[0m, in \u001b[0;36mGroupBy._agg_py_fallback\u001b[1;34m(self, values, ndim, alt)\u001b[0m\n\u001b[0;32m   1452\u001b[0m     ser \u001b[39m=\u001b[39m df\u001b[39m.\u001b[39miloc[:, \u001b[39m0\u001b[39m]\n\u001b[0;32m   1454\u001b[0m \u001b[39m# We do not get here with UDFs, so we know that our dtype\u001b[39;00m\n\u001b[0;32m   1455\u001b[0m \u001b[39m#  should always be preserved by the implemented aggregations\u001b[39;00m\n\u001b[0;32m   1456\u001b[0m \u001b[39m# TODO: Is this exactly right; see WrappedCythonOp get_result_dtype?\u001b[39;00m\n\u001b[1;32m-> 1457\u001b[0m res_values \u001b[39m=\u001b[39m \u001b[39mself\u001b[39m\u001b[39m.\u001b[39mgrouper\u001b[39m.\u001b[39magg_series(ser, alt, preserve_dtype\u001b[39m=\u001b[39m\u001b[39mTrue\u001b[39;00m)\n\u001b[0;32m   1459\u001b[0m \u001b[39mif\u001b[39;00m \u001b[39misinstance\u001b[39m(values, Categorical):\n\u001b[0;32m   1460\u001b[0m     \u001b[39m# Because we only get here with known dtype-preserving\u001b[39;00m\n\u001b[0;32m   1461\u001b[0m     \u001b[39m#  reductions, we cast back to Categorical.\u001b[39;00m\n\u001b[0;32m   1462\u001b[0m     \u001b[39m# TODO: if we ever get \"rank\" working, exclude it here.\u001b[39;00m\n\u001b[0;32m   1463\u001b[0m     res_values \u001b[39m=\u001b[39m \u001b[39mtype\u001b[39m(values)\u001b[39m.\u001b[39m_from_sequence(res_values, dtype\u001b[39m=\u001b[39mvalues\u001b[39m.\u001b[39mdtype)\n",
      "File \u001b[1;32mc:\\Users\\15623\\anaconda3\\Lib\\site-packages\\pandas\\core\\groupby\\ops.py:994\u001b[0m, in \u001b[0;36mBaseGrouper.agg_series\u001b[1;34m(self, obj, func, preserve_dtype)\u001b[0m\n\u001b[0;32m    987\u001b[0m \u001b[39mif\u001b[39;00m \u001b[39mlen\u001b[39m(obj) \u001b[39m>\u001b[39m \u001b[39m0\u001b[39m \u001b[39mand\u001b[39;00m \u001b[39mnot\u001b[39;00m \u001b[39misinstance\u001b[39m(obj\u001b[39m.\u001b[39m_values, np\u001b[39m.\u001b[39mndarray):\n\u001b[0;32m    988\u001b[0m     \u001b[39m# we can preserve a little bit more aggressively with EA dtype\u001b[39;00m\n\u001b[0;32m    989\u001b[0m     \u001b[39m#  because maybe_cast_pointwise_result will do a try/except\u001b[39;00m\n\u001b[0;32m    990\u001b[0m     \u001b[39m#  with _from_sequence.  NB we are assuming here that _from_sequence\u001b[39;00m\n\u001b[0;32m    991\u001b[0m     \u001b[39m#  is sufficiently strict that it casts appropriately.\u001b[39;00m\n\u001b[0;32m    992\u001b[0m     preserve_dtype \u001b[39m=\u001b[39m \u001b[39mTrue\u001b[39;00m\n\u001b[1;32m--> 994\u001b[0m result \u001b[39m=\u001b[39m \u001b[39mself\u001b[39m\u001b[39m.\u001b[39m_aggregate_series_pure_python(obj, func)\n\u001b[0;32m    996\u001b[0m npvalues \u001b[39m=\u001b[39m lib\u001b[39m.\u001b[39mmaybe_convert_objects(result, try_float\u001b[39m=\u001b[39m\u001b[39mFalse\u001b[39;00m)\n\u001b[0;32m    997\u001b[0m \u001b[39mif\u001b[39;00m preserve_dtype:\n",
      "File \u001b[1;32mc:\\Users\\15623\\anaconda3\\Lib\\site-packages\\pandas\\core\\groupby\\ops.py:1015\u001b[0m, in \u001b[0;36mBaseGrouper._aggregate_series_pure_python\u001b[1;34m(self, obj, func)\u001b[0m\n\u001b[0;32m   1012\u001b[0m splitter \u001b[39m=\u001b[39m \u001b[39mself\u001b[39m\u001b[39m.\u001b[39m_get_splitter(obj, axis\u001b[39m=\u001b[39m\u001b[39m0\u001b[39m)\n\u001b[0;32m   1014\u001b[0m \u001b[39mfor\u001b[39;00m i, group \u001b[39min\u001b[39;00m \u001b[39menumerate\u001b[39m(splitter):\n\u001b[1;32m-> 1015\u001b[0m     res \u001b[39m=\u001b[39m func(group)\n\u001b[0;32m   1016\u001b[0m     res \u001b[39m=\u001b[39m libreduction\u001b[39m.\u001b[39mextract_result(res)\n\u001b[0;32m   1018\u001b[0m     \u001b[39mif\u001b[39;00m \u001b[39mnot\u001b[39;00m initialized:\n\u001b[0;32m   1019\u001b[0m         \u001b[39m# We only do this validation on the first iteration\u001b[39;00m\n",
      "File \u001b[1;32mc:\\Users\\15623\\anaconda3\\Lib\\site-packages\\pandas\\core\\groupby\\groupby.py:1857\u001b[0m, in \u001b[0;36mGroupBy.mean.<locals>.<lambda>\u001b[1;34m(x)\u001b[0m\n\u001b[0;32m   1853\u001b[0m     \u001b[39mreturn\u001b[39;00m \u001b[39mself\u001b[39m\u001b[39m.\u001b[39m_numba_agg_general(sliding_mean, engine_kwargs)\n\u001b[0;32m   1854\u001b[0m \u001b[39melse\u001b[39;00m:\n\u001b[0;32m   1855\u001b[0m     result \u001b[39m=\u001b[39m \u001b[39mself\u001b[39m\u001b[39m.\u001b[39m_cython_agg_general(\n\u001b[0;32m   1856\u001b[0m         \u001b[39m\"\u001b[39m\u001b[39mmean\u001b[39m\u001b[39m\"\u001b[39m,\n\u001b[1;32m-> 1857\u001b[0m         alt\u001b[39m=\u001b[39m\u001b[39mlambda\u001b[39;00m x: Series(x)\u001b[39m.\u001b[39mmean(numeric_only\u001b[39m=\u001b[39mnumeric_only),\n\u001b[0;32m   1858\u001b[0m         numeric_only\u001b[39m=\u001b[39mnumeric_only,\n\u001b[0;32m   1859\u001b[0m     )\n\u001b[0;32m   1860\u001b[0m     \u001b[39mreturn\u001b[39;00m result\u001b[39m.\u001b[39m__finalize__(\u001b[39mself\u001b[39m\u001b[39m.\u001b[39mobj, method\u001b[39m=\u001b[39m\u001b[39m\"\u001b[39m\u001b[39mgroupby\u001b[39m\u001b[39m\"\u001b[39m)\n",
      "File \u001b[1;32mc:\\Users\\15623\\anaconda3\\Lib\\site-packages\\pandas\\core\\generic.py:11556\u001b[0m, in \u001b[0;36mNDFrame._add_numeric_operations.<locals>.mean\u001b[1;34m(self, axis, skipna, numeric_only, **kwargs)\u001b[0m\n\u001b[0;32m  11539\u001b[0m \u001b[39m@doc\u001b[39m(\n\u001b[0;32m  11540\u001b[0m     _num_doc,\n\u001b[0;32m  11541\u001b[0m     desc\u001b[39m=\u001b[39m\u001b[39m\"\u001b[39m\u001b[39mReturn the mean of the values over the requested axis.\u001b[39m\u001b[39m\"\u001b[39m,\n\u001b[1;32m   (...)\u001b[0m\n\u001b[0;32m  11554\u001b[0m     \u001b[39m*\u001b[39m\u001b[39m*\u001b[39mkwargs,\n\u001b[0;32m  11555\u001b[0m ):\n\u001b[1;32m> 11556\u001b[0m     \u001b[39mreturn\u001b[39;00m NDFrame\u001b[39m.\u001b[39mmean(\u001b[39mself\u001b[39m, axis, skipna, numeric_only, \u001b[39m*\u001b[39m\u001b[39m*\u001b[39mkwargs)\n",
      "File \u001b[1;32mc:\\Users\\15623\\anaconda3\\Lib\\site-packages\\pandas\\core\\generic.py:11201\u001b[0m, in \u001b[0;36mNDFrame.mean\u001b[1;34m(self, axis, skipna, numeric_only, **kwargs)\u001b[0m\n\u001b[0;32m  11194\u001b[0m \u001b[39mdef\u001b[39;00m \u001b[39mmean\u001b[39m(\n\u001b[0;32m  11195\u001b[0m     \u001b[39mself\u001b[39m,\n\u001b[0;32m  11196\u001b[0m     axis: Axis \u001b[39m|\u001b[39m \u001b[39mNone\u001b[39;00m \u001b[39m=\u001b[39m \u001b[39m0\u001b[39m,\n\u001b[1;32m   (...)\u001b[0m\n\u001b[0;32m  11199\u001b[0m     \u001b[39m*\u001b[39m\u001b[39m*\u001b[39mkwargs,\n\u001b[0;32m  11200\u001b[0m ) \u001b[39m-\u001b[39m\u001b[39m>\u001b[39m Series \u001b[39m|\u001b[39m \u001b[39mfloat\u001b[39m:\n\u001b[1;32m> 11201\u001b[0m     \u001b[39mreturn\u001b[39;00m \u001b[39mself\u001b[39m\u001b[39m.\u001b[39m_stat_function(\n\u001b[0;32m  11202\u001b[0m         \u001b[39m\"\u001b[39m\u001b[39mmean\u001b[39m\u001b[39m\"\u001b[39m, nanops\u001b[39m.\u001b[39mnanmean, axis, skipna, numeric_only, \u001b[39m*\u001b[39m\u001b[39m*\u001b[39mkwargs\n\u001b[0;32m  11203\u001b[0m     )\n",
      "File \u001b[1;32mc:\\Users\\15623\\anaconda3\\Lib\\site-packages\\pandas\\core\\generic.py:11158\u001b[0m, in \u001b[0;36mNDFrame._stat_function\u001b[1;34m(self, name, func, axis, skipna, numeric_only, **kwargs)\u001b[0m\n\u001b[0;32m  11154\u001b[0m     nv\u001b[39m.\u001b[39mvalidate_stat_func((), kwargs, fname\u001b[39m=\u001b[39mname)\n\u001b[0;32m  11156\u001b[0m validate_bool_kwarg(skipna, \u001b[39m\"\u001b[39m\u001b[39mskipna\u001b[39m\u001b[39m\"\u001b[39m, none_allowed\u001b[39m=\u001b[39m\u001b[39mFalse\u001b[39;00m)\n\u001b[1;32m> 11158\u001b[0m \u001b[39mreturn\u001b[39;00m \u001b[39mself\u001b[39m\u001b[39m.\u001b[39m_reduce(\n\u001b[0;32m  11159\u001b[0m     func, name\u001b[39m=\u001b[39mname, axis\u001b[39m=\u001b[39maxis, skipna\u001b[39m=\u001b[39mskipna, numeric_only\u001b[39m=\u001b[39mnumeric_only\n\u001b[0;32m  11160\u001b[0m )\n",
      "File \u001b[1;32mc:\\Users\\15623\\anaconda3\\Lib\\site-packages\\pandas\\core\\series.py:4670\u001b[0m, in \u001b[0;36mSeries._reduce\u001b[1;34m(self, op, name, axis, skipna, numeric_only, filter_type, **kwds)\u001b[0m\n\u001b[0;32m   4665\u001b[0m     \u001b[39mraise\u001b[39;00m \u001b[39mTypeError\u001b[39;00m(\n\u001b[0;32m   4666\u001b[0m         \u001b[39mf\u001b[39m\u001b[39m\"\u001b[39m\u001b[39mSeries.\u001b[39m\u001b[39m{\u001b[39;00mname\u001b[39m}\u001b[39;00m\u001b[39m does not allow \u001b[39m\u001b[39m{\u001b[39;00mkwd_name\u001b[39m}\u001b[39;00m\u001b[39m=\u001b[39m\u001b[39m{\u001b[39;00mnumeric_only\u001b[39m}\u001b[39;00m\u001b[39m \u001b[39m\u001b[39m\"\u001b[39m\n\u001b[0;32m   4667\u001b[0m         \u001b[39m\"\u001b[39m\u001b[39mwith non-numeric dtypes.\u001b[39m\u001b[39m\"\u001b[39m\n\u001b[0;32m   4668\u001b[0m     )\n\u001b[0;32m   4669\u001b[0m \u001b[39mwith\u001b[39;00m np\u001b[39m.\u001b[39merrstate(\u001b[39mall\u001b[39m\u001b[39m=\u001b[39m\u001b[39m\"\u001b[39m\u001b[39mignore\u001b[39m\u001b[39m\"\u001b[39m):\n\u001b[1;32m-> 4670\u001b[0m     \u001b[39mreturn\u001b[39;00m op(delegate, skipna\u001b[39m=\u001b[39mskipna, \u001b[39m*\u001b[39m\u001b[39m*\u001b[39mkwds)\n",
      "File \u001b[1;32mc:\\Users\\15623\\anaconda3\\Lib\\site-packages\\pandas\\core\\nanops.py:96\u001b[0m, in \u001b[0;36mdisallow.__call__.<locals>._f\u001b[1;34m(*args, **kwargs)\u001b[0m\n\u001b[0;32m     94\u001b[0m \u001b[39mtry\u001b[39;00m:\n\u001b[0;32m     95\u001b[0m     \u001b[39mwith\u001b[39;00m np\u001b[39m.\u001b[39merrstate(invalid\u001b[39m=\u001b[39m\u001b[39m\"\u001b[39m\u001b[39mignore\u001b[39m\u001b[39m\"\u001b[39m):\n\u001b[1;32m---> 96\u001b[0m         \u001b[39mreturn\u001b[39;00m f(\u001b[39m*\u001b[39margs, \u001b[39m*\u001b[39m\u001b[39m*\u001b[39mkwargs)\n\u001b[0;32m     97\u001b[0m \u001b[39mexcept\u001b[39;00m \u001b[39mValueError\u001b[39;00m \u001b[39mas\u001b[39;00m e:\n\u001b[0;32m     98\u001b[0m     \u001b[39m# we want to transform an object array\u001b[39;00m\n\u001b[0;32m     99\u001b[0m     \u001b[39m# ValueError message to the more typical TypeError\u001b[39;00m\n\u001b[0;32m    100\u001b[0m     \u001b[39m# e.g. this is normally a disallowed function on\u001b[39;00m\n\u001b[0;32m    101\u001b[0m     \u001b[39m# object arrays that contain strings\u001b[39;00m\n\u001b[0;32m    102\u001b[0m     \u001b[39mif\u001b[39;00m is_object_dtype(args[\u001b[39m0\u001b[39m]):\n",
      "File \u001b[1;32mc:\\Users\\15623\\anaconda3\\Lib\\site-packages\\pandas\\core\\nanops.py:158\u001b[0m, in \u001b[0;36mbottleneck_switch.__call__.<locals>.f\u001b[1;34m(values, axis, skipna, **kwds)\u001b[0m\n\u001b[0;32m    156\u001b[0m         result \u001b[39m=\u001b[39m alt(values, axis\u001b[39m=\u001b[39maxis, skipna\u001b[39m=\u001b[39mskipna, \u001b[39m*\u001b[39m\u001b[39m*\u001b[39mkwds)\n\u001b[0;32m    157\u001b[0m \u001b[39melse\u001b[39;00m:\n\u001b[1;32m--> 158\u001b[0m     result \u001b[39m=\u001b[39m alt(values, axis\u001b[39m=\u001b[39maxis, skipna\u001b[39m=\u001b[39mskipna, \u001b[39m*\u001b[39m\u001b[39m*\u001b[39mkwds)\n\u001b[0;32m    160\u001b[0m \u001b[39mreturn\u001b[39;00m result\n",
      "File \u001b[1;32mc:\\Users\\15623\\anaconda3\\Lib\\site-packages\\pandas\\core\\nanops.py:421\u001b[0m, in \u001b[0;36m_datetimelike_compat.<locals>.new_func\u001b[1;34m(values, axis, skipna, mask, **kwargs)\u001b[0m\n\u001b[0;32m    418\u001b[0m \u001b[39mif\u001b[39;00m datetimelike \u001b[39mand\u001b[39;00m mask \u001b[39mis\u001b[39;00m \u001b[39mNone\u001b[39;00m:\n\u001b[0;32m    419\u001b[0m     mask \u001b[39m=\u001b[39m isna(values)\n\u001b[1;32m--> 421\u001b[0m result \u001b[39m=\u001b[39m func(values, axis\u001b[39m=\u001b[39maxis, skipna\u001b[39m=\u001b[39mskipna, mask\u001b[39m=\u001b[39mmask, \u001b[39m*\u001b[39m\u001b[39m*\u001b[39mkwargs)\n\u001b[0;32m    423\u001b[0m \u001b[39mif\u001b[39;00m datetimelike:\n\u001b[0;32m    424\u001b[0m     result \u001b[39m=\u001b[39m _wrap_results(result, orig_values\u001b[39m.\u001b[39mdtype, fill_value\u001b[39m=\u001b[39miNaT)\n",
      "File \u001b[1;32mc:\\Users\\15623\\anaconda3\\Lib\\site-packages\\pandas\\core\\nanops.py:727\u001b[0m, in \u001b[0;36mnanmean\u001b[1;34m(values, axis, skipna, mask)\u001b[0m\n\u001b[0;32m    724\u001b[0m     dtype_count \u001b[39m=\u001b[39m dtype\n\u001b[0;32m    726\u001b[0m count \u001b[39m=\u001b[39m _get_counts(values\u001b[39m.\u001b[39mshape, mask, axis, dtype\u001b[39m=\u001b[39mdtype_count)\n\u001b[1;32m--> 727\u001b[0m the_sum \u001b[39m=\u001b[39m _ensure_numeric(values\u001b[39m.\u001b[39msum(axis, dtype\u001b[39m=\u001b[39mdtype_sum))\n\u001b[0;32m    729\u001b[0m \u001b[39mif\u001b[39;00m axis \u001b[39mis\u001b[39;00m \u001b[39mnot\u001b[39;00m \u001b[39mNone\u001b[39;00m \u001b[39mand\u001b[39;00m \u001b[39mgetattr\u001b[39m(the_sum, \u001b[39m\"\u001b[39m\u001b[39mndim\u001b[39m\u001b[39m\"\u001b[39m, \u001b[39mFalse\u001b[39;00m):\n\u001b[0;32m    730\u001b[0m     count \u001b[39m=\u001b[39m cast(np\u001b[39m.\u001b[39mndarray, count)\n",
      "File \u001b[1;32mc:\\Users\\15623\\anaconda3\\Lib\\site-packages\\pandas\\core\\nanops.py:1699\u001b[0m, in \u001b[0;36m_ensure_numeric\u001b[1;34m(x)\u001b[0m\n\u001b[0;32m   1696\u001b[0m             x \u001b[39m=\u001b[39m \u001b[39mcomplex\u001b[39m(x)\n\u001b[0;32m   1697\u001b[0m         \u001b[39mexcept\u001b[39;00m \u001b[39mValueError\u001b[39;00m \u001b[39mas\u001b[39;00m err:\n\u001b[0;32m   1698\u001b[0m             \u001b[39m# e.g. \"foo\"\u001b[39;00m\n\u001b[1;32m-> 1699\u001b[0m             \u001b[39mraise\u001b[39;00m \u001b[39mTypeError\u001b[39;00m(\u001b[39mf\u001b[39m\u001b[39m\"\u001b[39m\u001b[39mCould not convert \u001b[39m\u001b[39m{\u001b[39;00mx\u001b[39m}\u001b[39;00m\u001b[39m to numeric\u001b[39m\u001b[39m\"\u001b[39m) \u001b[39mfrom\u001b[39;00m \u001b[39merr\u001b[39;00m\n\u001b[0;32m   1700\u001b[0m \u001b[39mreturn\u001b[39;00m x\n",
      "\u001b[1;31mTypeError\u001b[0m: Could not convert Blake MartinFrank MarshCharles Goodman Jr.Aaron MoyerMichael DeanRobin VegaKenneth JuarezGerald SmithDavid HernandezMatthew SinghJeremiah WhiteLisa AguilarDanielle HarrisKristin JohnsonKevin MartinAnna MyersTimothy HigginsAnthony FordNicole RoseChristopher LongMr. Michael AllenCasey JonesJoseph KellyDebra BrownJacqueline SheaSara MurphyNatalie GrantPeter MillerDavid CannonValerie MayApril FisherBradley HunterJohn WilliamsonAnthony SpencerJoseph AllenAngela WallJames FerrellRobert RodriguezDarius WilliamsBrian TrevinoAndrea GreenAustin JohnstonGuy ThomasDesiree GordonScott ClarkLinda SinghWilliam PerryTerry SantanaApril StevensAnthony TorresWayne GuerreroMonique CarterChristine LeeJay SmithRobert ReyesRichard MacdonaldJonathan TuckerChelsea KempMelissa BowmanWilliam SimpsonAmanda DavisBrandon MedinaPatricia WilliamsJeremy CharlesTyler GonzalezKristen GreenRichard WallerLaura LindseyMark AlvarezMatthew ThomasHeather GouldJacqueline SnowApril Calderon MDMichael WaltersErin HaleMichael AndersonPeggy BautistaGina BarberDavid HarrisNathan JonesAdam CruzPeter GonzalezBarbara RobinsonSteven WongAdam HerringPatricia MillerJim StevensJordan MclaughlinVincent MartinTracey BensonNatasha EverettErin ParksStephen ThompsonDaniel KingBenjamin MurrayKristen SmithJohn CarrilloMark BrowningEric Park DDSBrian MosleyPatricia MarshJennifer AndersonDanielle HoodMatthew CarterStephanie ThomasCathy MercadoSheila LewisPatrick Barker PhDAna BurnsChloe DownsJoshua FloresBianca BoyerWilliam ThompsonJonathan LongSamantha PattersonEmily PowellLouis WatersNathan DominguezKristin KellerJordan StewartBrian DunnEmily MartinJamie MillerNathan AtkinsonKelly MartinezCarlos RamirezAllen Morris Jr.Sarah RobertsPatricia HoBreanna MorrisEmily TurnerAlyssa RodriguezRichard JohnsonMary GreenMegan MillerWanda BaileyRenee RodriguezJeffrey PayneKari CharlesKelly HarmonShannon WeaverPatty NelsonAndrea JonesDale WhitakerKatherine DeanBrittney HenryAaron RodriguezDr. Carl JamesWilliam FrancisDanielle DyerMichael WagnerAmanda RogersPatricia JonesVictor MartinDr. Kimberly BenjaminMichelle BeckerJoseph NunezKeith AlvarezRicardo VazquezMatthew HawkinsNicole SmithSarah HodgeAmber BlevinsBenjamin BatesThomas MarshallAnna JohnsonRyan Graham MDTerri MillerTaylor DominguezLisa HarrisMichael RobinsonMelissa KellyChase RayTracy RodriguezYvonne WareJake MilesChristopher MyersCindy MurphyDylan JohnsonFrank NewmanLisa MyersKristine KellyMelissa AndersonMarissa BlevinsJason HallJoseph HernandezWanda MaddoxArthur KochNicholas DanielJerry RichardsJoel PittsThomas HerreraJennifer CarlsonJorge McdonaldStephanie Howard MDAlyssa WilliamsonPedro LongJames SmithGregory HerringDaniel BarrettTravis ComptonDaniel RowlandJonathon WillisAdam RodriguezDominique LloydJoyce RobertsJon GriffinJoseph ForbesDustin MarquezSean WellsDeanna CombsDanielle HayesKrystal ReynoldsCarl MartinezBrandon PopeAmanda RodriguezMarco WilliamsErica CollinsPenny NguyenLori LeeLori SmithBryan MooreJaclyn CobbVeronica DiazBarbara LarsenSteven HartmanMegan VillaAlex ConnerDanielle HurleyJames CalhounRyan GreenVeronica GomezWilliam SwansonLauren WestJohn BrownTonya SaundersDavid ThomasCrystal EdwardsCathy RamosChris RobertsKatherine TuckerJustin HillSarah AllenJessica BauerJames RodgersJacqueline EwingJacob ThomasNatalie JohnstonFelicia MatthewsRobert LawrenceJoshua MorganSierra JohnsonTravis HeathMelanie AndersonKenneth GarciaMaria BrockAdam PattonMatthew MezaAmanda JohnsonJesse HernandezPenny DeckerBobby WilliamsMargaret HortonRonnie BarrettAllen OnealGerald LangWilliam HudsonDerek SilvaDarlene LeeHarold JohnstonDonna ReedWanda PhillipsMegan JonesTheresa ShieldsMark LeeErica BakerVirginia BallardAaron AtkinsonBianca Huynh MDDaniel PhillipsThomas JohnsonNicole LopezAdam LambMonica RobersonDouglas RodriguezSarah OrtizDeanna MendozaMelissa Dunn MDLauren KochWilliam FrenchJared WashingtonJames JacksonMelissa SandovalMr. Angel JohnsonChad EvansDonald MyersNicole JohnsonWendy RiveraWilliam PinedaRebecca StoutDerek DiazTravis WebbShane PerezJasmine CampbellMason RaymondVincent EllisJoseph McgeeKatelyn DayAmy BeckerKenneth HughesKimberly FrazierMichael Garcia Jr.April HallJessica MatthewsMr. Daniel Nguyen DDSChristopher KelleyHeather WeaverTaylor GambleSteven BaileyRichard HernandezNancy McclurePaul ClarkeEric ArnoldElizabeth MeyerKaitlin BarrettAnthony PatelApril GillespieJohn SnyderRoy DeckerMatthew JonesKenneth MartinezKevin BrowningChristine IbarraMelissa BrownMichael PerezNorman BurnsJames MarshallTaylor CohenAlejandro CarterAllison GardnerEmily CollierDebbie Brown DVMAmy ShawTaylor MedinaLisa RichardsDana CruzJustin HenryRobert WeberTamara MooreKim StewartAdriana SmithJoshua Kim DDSCarol JohnsonMr. Jesse BellEmily WarrenAlexandra HendricksJulie MoralesJason JohnsonLisa JonesMonica SmithEric EdwardsMichael BurnettDerek MayPaul WoodMiguel JohnsonDouglas HardyKaitlyn ChambersCarlos YoungLindsay LinPhillip WashingtonAlexis MatthewsAndrew ThomasDerek Barker Jr.Jeremy WoodAndrew JimenezJennifer ButlerMrs. Renee GordonMichelle MurrayJennifer StoneDavid KirbySheila YoungHeather WatsonRobert RossKristen LunaDawn MartinezSavannah RamseyWilliam SalasHolly MooreJason CarterRyan SmithBrett EricksonChristina AyalaJames GarciaConnor CobbCrystal BuchananSherri PadillaJustin PowellVanessa TuckerTyler HarperRobert GreerBarry HallMargaret LeeDavid DiazRenee MonroeKristen MitchellSamantha MartinJessica FarmerCarlos BrownMiguel MaciasAlejandra WilliamsonMary GriffinMatthew GrantAnnette RossCarolyn MillerErica MillerMark MclaughlinJamie GibsonMatthew RiggsBetty IrwinFrederick LeeHelen GayCourtney ThompsonDiana ChapmanKenneth DiazKenneth HartmanRachel LopezCassandra BaldwinJose ButlerJohn LoveMrs. Amanda MartinMichael MooreJohn VaughnRebecca ChungDaniel HartMackenzie MasonDavid HarveyChristina ButlerSheila BrownJeffrey GalvanRegina ParkerTracy ChapmanEdward SmithShawn PetersonBryan GuerraHeather StokesMartha BestCynthia WolfeDavid TaylorRebecca HansenJessica CarneyJoshua SanchezRegina GarciaCourtney GibsonBrandon DelacruzTheresa SummersKarina LeePeter RileyChristopher OneillDaniel KleinKatherine EdwardsElizabeth ShermanWilliam BrewerLauren LoganAmanda WalkerAmanda McdanielKevin WilliamsMrs. Pamela GarciaAngela RojasBeth SullivanMarie StoutEmily AllenDanielle Stanton MDConnie BushErica ShawPhilip RobinsonMiguel SmithFrank HoffmanKevin ColemanAndrea HallMark BrownKathleen ValdezJessica WardRebecca GonzalesMike McdanielPamela HughesPamela RitterTimothy ScottStephen LawrenceTracey OchoaBridget BurkeJason WhiteMichelle WashingtonRaymond VargasJeffrey GreenMichael MontgomeryAlejandro BarnettElaine JamesBrianna WhiteAlyssa JenningsTony NelsonLaurie FergusonKelly WileyDustin PetersenChristopher WilkersonDr. David MillerCorey BenjaminCharles PerezKyle DeanTonya WalshWendy DavisJoshua LoveMichael AdamsMrs. Sheena Bailey DVMJoan CaldwellBridget GrahamBrian ChangAlicia ButlerJames BrownDiane VargasMichele OnealZachary Garrett IIIDavid JohnsonKristy PopeMadison BurnsCynthia MooreTaylor ReedNathan PrattAmanda MartinBarbara WhiteMichael GrimesLaura NobleKevin QuinnDavid StoneSeth GreenAmy MooreCarolyn AriasAmy Mcintosh MDChristina KhanDr. Frank AndersonBecky JonesKathleen RamirezCatherine WilsonSandra DuncanJeffrey RivasJordan CruzCindy CruzTina RodriguezDavid RiveraBrian SilvaJoseph MurphyDawn HernandezMichael PatelBreanna MercerDavid PayneRuth ArmstrongJennifer JamesRachael HortonAshley TorresDaniel CherryAmanda FieldsVernon RossMarie HernandezMichael KimKevin BarnettMary WilliamsPaul HallBrittney HughesRonald HickmanMallory HowardKendra YangJames TurnerThomas LewisPhillip BishopAndrea BartonChristopher MillerErin PhillipsHeather HallKatrina AdkinsNicole MitchellPatty RyanLinda GravesMargaret AndersonRichard DeckerDarren BrooksHeather SmithMatthew TaylorCynthia GreenChristopher PhillipsMegan OlsonTiffany SmithVictor SmithAmy ParkerKelly ColemanEric KnappJustin WilliamsMallory AndersonJohn ClarkAnne HansenTina ButlerCody SchaeferThomas Burgess MDJoseph HodgesDaniel MillsAmanda Hale DVMGregory SchneiderClinton NguyenRussell ThompsonMegan FlemingDebbie BlackwellLaura JenkinsJordan AndersonAmanda IbarraJonathan KrauseDr. Daniel BowmanTammy JohnsonLinda HerreraJonathan MartinezChristine JohnsonTanya FisherAngelica HumphreyJustin JohnstonApril RodriguezAmber ThompsonMelissa BanksLori Mitchell DDSAmy SmithRichard DayJennifer MackJames SmithNicole PettyTina HillZachary SchultzMrs. Pam Lewis DVMKelsey HarrisRobert MitchellKelly HopkinsAmanda GrahamAmy Gutierrez DDSDawn RamirezKenneth WardMelody ScottAshley BarryAngela WilkinsTodd SimmonsDavid LunaLeonard CoxPeter TuckerCynthia NelsonPeter MillerAaron GarciaPatrick WhitneyMargaret QuinnAmber MooreMatthew AguilarDenise CarterJared BrownAmber VillanuevaAmy CohenMichael LeeStephanie AriasJenna GreerCameron CordovaJeremy PayneNathan ArroyoRussell BanksJoshua RamirezJay KirkAlicia SchwartzAnna CamachoCarla WilsonJessica WrightWilliam BlackAshley TerryJeffery PowellDaniel SandersMichael GarnerMaria WilliamsBrenda RayChelsea LewisNicholas RamosJennifer WashingtonAudrey WellsBarbara WoodAndrea ThompsonJason CoxSarah RobinsonHeidi MartinJanet ChanJeffrey RobbinsTheresa NicholsAmy HansenJoshua BrownKent ShermanEddie AlvarezYvonne Robinson PhDJennifer RamosTracy MorrisonCrystal JohnsonApril TrujilloLisa SanchezDeborah NelsonKevin GoodwinAbigail PerezDonna RoseAndrew WintersJessica HartLauren KlineGregory AllisonThomas JohnsonVanessa StevensonKathleen BeltranMartha Mcdonald DVMKevin JohnsonDr. Mary SchwartzAnthony MeadowsErnest PowellDavid FergusonMariah HoltNancy MartinStacey ThompsonAndrew RyanMallory ChenErika BurchRobert MorrowAustin ChavezJustin WilsonLisa MurrayJeremy WattsJustin ChenRenee BuckleyShannon PriceBarbara WhiteheadJackie KirkAngel MayerDeborah AndersonJacqueline West DDSAnita ZunigaDavid ChapmanBeverly BauerJessica NguyenMelissa LewisAmanda SchaeferJacqueline Snow MDMarcus RushAngela StewartJorge HoDr. Jennifer SheaChristopher CantuJonathan HaleErin BowersAnthony HernandezEduardo SantiagoDana HaynesClayton Williams DVMNatalie WhitakerFrances WhiteMeghan AdamsStephen FitzgeraldAmy BairdMolly BrownAmanda SloanEric WilliamsEmma VasquezSherry GomezAaron CarterAlan ScottJennifer CannonLindsay NicholsonStephanie JonesJose SmithKimberly MooreMelissa SchultzSteven CalhounJohn BallZachary WilliamsKimberly JacksonKristen WilliamsonSamantha HoffmanDanielle GonzalezCharles IngramTimothy GravesAnna RodriguezAmanda KaneJoseph JonesDebra JacksonErik DunlapMeghan HarperJennifer PinedaJohn WhiteKaren FischerTodd DavisLarry Chandler Jr.Veronica PotterRobert VelezAshley WeissErika JohnsonJesus GordonKathy JacksonAshley WilliamsJuan LopezAnna HaynesDon MurrayJohn GarzaSteven WhiteDavid SalazarDaniel WrightRebecca MolinaBetty EricksonCameron Roman Jr.Kelly PierceSergio McfarlandJeffrey ChavezAmanda GalvanRonald PooleJohn WallaceGina AguilarMelissa SullivanJeffery ToddDaniel BurtonJulie AllisonCarolyn CookMike AllenAngela CostaKarina CalderonFelicia CampbellElizabeth DixonNancy WheelerMichael WatsonJennifer LevinePhilip ArnoldCrystal GonzalesMr. Ian SmithLawrence JohnsonPeter JonesChristopher RamirezNicolas JohnsonStephanie RhodesSarah MillerScott CortezChristopher CarrollWilliam RodriguezWyatt HarrisJacob CarlsonJason PerryJoshua FoxJames PerkinsChristine SanfordSarah SnyderDana ChavezJose HansenMelissa Hunt MDFrank RiveraLeah BishopAudrey FieldsRenee Garcia MDAngela WallJose GoldenAndrew RichardsonCynthia McleanMelissa FordKelsey SmithHeidi MasonLaura JohnsonAmanda MooreRobert AndersonMichael RobbinsSamantha ScottJoseph WareMaria DavisKenneth WatkinsMrs. Lori Rogers MDFrank BlackwellMichele TorresJason FergusonWilliam DurhamNicole HaynesCraig MorganEvan WilsonKenneth OlsonSeth GreenRoberto EscobarJustin SchneiderSarah PadillaAshley GardnerCourtney LutzAlbert SheaJennifer McguireJoseph RamosVictoria BakerClaudia WoodScott HughesCassandra HaasKathryn HannaDiana PhelpsKari HuangSara WellsJordan PetersonFrederick RochaKathryn YoungBrittany HodgesSherry GutierrezJohn GrantBenjamin RoweChelsey VillanuevaAlexandra MccarthyRhonda GarciaJon MatthewsKristen HartmanLynn RivasBrandy WestCarmen ThomasThomas LarsonKathryn CoxTasha ButlerChristopher ThompsonCollin ThomasJulia GeorgeChristopher ShermanAmy BooneJames JensenMonica BerryJonathan MckenzieMrs. Christina Mitchell DDSKatherine BrownJordan BrownElizabeth BrownColton KelleyMelanie KentElizabeth VargasNathan RomanAngela JonesAngela LopezBrian ThomasDouglas HawkinsIan GallagherJeffrey GarrisonTeresa WilliamsJustin MillerJill BakerJessica MitchellJoseph GeorgeCandace FrankEric SotoEmily Duran MDRandall MyersTravis LopezElizabeth GonzalezBrian HoldenTodd Grant Jr.Reginald AlvaradoMark BryantDesiree ClarkJulia ChristianTerry FuentesChristina MartinOlivia RiceKristen NealTimothy BrayJennifer YoungSonya JuarezCharles AveryJohnny BanksJames SanchezScott ProctorJessica MoranRobert FernandezMeredith MckeeKathryn StanleyRichard PooleStephanie GarnerStacey ContrerasCheryl OsborneNathaniel JohnsonRandy LewisMichelle DavisJonathan YoungAngel JacksonMichael KennedyLisa PinedaJennifer MurrayKristopher MurphyRobert WagnerMichael HowellMeagan WhitneyChristopher DavisRhonda LynchTara MarshKeith AndersonAdriana SnyderMelanie MillsAllison JohnsonDebra HowardJustin MartinezDarius AtkinsonTimothy JacksonAlison SmithCatherine HortonAndrew TaylorHunter FitzpatrickSarah KirkKristina GarzaZachary ChavezMrs. Wendy HayesKenneth Santiago MDAnthony JenkinsTeresa LeonardJonathan AdamsDr. Matthew HernandezDouglas HamiltonIan WilliamsTroy ScottChristopher LambLouis Hodges DDSRonald MartinezMonica CochranHarry SnowAmanda ColeJustin LeeSamantha CooperChristopher SmithDiane BradfordJeanette YoungLarry MonroeBradley MurphyNina ThomasMr. Michael GrahamDaniel OlsonAndrew HerreraMichelle FoxMike HillErika LoganJulia HowellWilliam BradleyElizabeth ParkAnthony SmithDonald ReevesJordan WardJeanne Fischer MDWilliam HinesJason SullivanMrs. Amanda RoseRobert HinesKimberly CollinsVeronica McmillanTeresa PerezMatthew McdonaldJason HuntRichard LevinePatricia PerryJohnny SchneiderJessica SmithAlan BurnettBobby NobleCatherine HarrisValerie ObrienRebecca Salazar DDSChristopher NelsonDiana PonceKenneth RaymondRay HoffmanMary GarzaRobert DiazMarie StanleyAmanda SolomonScott BrewerKathy BrightKristen CrossAbigail YoungMichael CooperDavid DavisSteven MyersNancy RossMark EverettSteve WalkerJonathan ByrdNicholas DiazStacy DavisAngela TownsendRichard Cherry DDSTimothy GriffinJames Holland MDNicholas TannerDavid DavisDaniel MartinezLauren CampbellTimothy GomezRobert LandryJamie BaileyKenneth AlexanderMatthew GarciaTanya HawkinsJacob PorterDr. Patricia BakerRebecca FloydMark JordanBryan MayerJenna DickersonMary EatonCynthia GeorgeKathy BurgessBrett JenningsFrank RobersonBrandon GardnerKim LewisEdward MunozDr. Rachel GilbertDonna RiddleChristopher TateMichael DavisLouis McdanielNicole BurgessDavid JensenNicole GoodwinChristopher WelchJared LynchNicole BuckDavid GutierrezStephanie HarrisonWilliam PetersonMolly MasonAlbert WrightJoshua FernandezKendra WardEarl CaldwellShane MartinezElizabeth JohnsonMelissa ParksJennifer PettyMichael LeeAustin MooreDustin MossKristine WadeJeffrey DavisLisa VasquezKenneth Avila Jr.Sergio MayDavid RichardsonAndrew PierceChristian MuellerDavid WoodRobin BrownTimothy HillSteven WebsterHenry RamirezMichael RomeroJody HunterCaitlyn SmithDesiree CastroMelanie EsparzaHolly McphersonZachary RiveraChristine HillBrandon FlowersMichael TuckerMisty HatfieldChristine BurtonJames SmithTracy SteinCharles HoltAmy BrownSummer HuntTodd WilliamsSteven NelsonMelissa TranShelby RodriguezBrian MoralesJennifer HuangElizabeth MunozSteven NewtonRobyn HernandezNicholas JonesCurtis LeeDr. Andrea RoseWendy PetersonJennifer HernandezCorey BerryNicole WilliamsRita ReynoldsSara OwensEvan MooreSarah BryantGail CampbellDylan FrancoLindsey NobleMatthew JacksonMorgan ThomasElizabeth ChaseErnest BarnesRichard SheltonKaren BridgesCynthia StoneKristin SloanJennifer CunninghamRebecca ChapmanStacey TerryJohn ShawMr. Eric GordonAmber DiazRachel KellyAshley WalterDaniel HaleyRobert HendrixDonna HolmesKenneth HowardDonald MillsMichael ScottThomas SandersTeresa SullivanBriana LucasKyle RobertsSheri ThomasJordan PattersonDeborah RollinsAllison WhiteTimothy StewartAmanda NelsonSydney KimThomas HinesMichael FoleyAnthony WadeRobert PerezWendy FinleySabrina RasmussenBilly Franco PhDJason FlemingMaxwell LeonardJonathan CooperRandy BlakeMatthew MillsTracy EspinozaBrandy KellerAnita ScottDiana BradleyJohn GonzalezAngela SimpsonHannah HicksCody WilcoxShane DavisThomas WallsDr. Alexander Chang PhDMr. Robert HendricksKimberly JonesMichele MooreLaura MillerJennifer GonzalezVanessa GarciaGerald KimWendy ShepardHarold PetersonEddie WilliamsShawn ObrienRobert HaneyKathryn GonzalesAmy RiceHannah BruceMichele TerryJennifer JohnsonDavid WrightCarlos SmithErnest WongWilliam PottsMark JeffersonNicole RollinsJohn QuinnAndrew ReidKristen KingMatthew WilsonArthur LeeLori WilliamsDaniel GarciaMs. Stephanie Schwartz DDSLoretta PerezRandall BanksAdrian DavisDebra SmithMary LawsonWhitney EstesMorgan AllenSteven HansonAustin KellyGrace HarrisonJose SchmittNatasha DaviesLawrence ZhangMichael BoydBarbara AndersonShannon BlairCarolyn HawkinsCharles MorrisDerrick CarrollCynthia MartinezJesus BooneRebecca JohnsonAndrew AllisonMadeline MonroeCristina HobbsLindsey NavarroMichael NielsenJason BrownBreanna MooreDonald MartinezAbigail EspinozaAdam GriffinKarla McneilRebecca KnappAlicia JohnsonGabriel ArroyoEdward EdwardsDaniel JohnsonKevin LongDr. Devin Sharp PhDKenneth AriasShannon TateKrystal MarshallAlexander McculloughRichard SmithMeagan BakerDavid FullerChad SmithRichard ReyesMadison WagnerWilliam BowenAnthony AlvaradoBrittney Hammond DVMBrandon BrownKristopher WrightMark WarrenElizabeth FrazierMark BaileyChristopher MontgomeryElizabeth WallerLouis WoodsBrandy MitchellRoger KingTara DouglasMelissa OwensDavid GonzalezTodd WilliamsNathaniel OconnellTravis GreenLuke FryDouglas WoodsChristopher SilvaJacob TerryNancy HarrisonMichael SullivanMiss Norma McfarlandLaurie DoughertyJoshua TaylorAndrew CampbellHeather BellBradley MartinezAmy LeeDavid GoodAaron NelsonRobert TylerJaclyn WilliamsJoe KochDerek LopezAngela BryantWalter MaxwellDennis KleinNancy NelsonJason DrakeMary AcevedoDakota AdamsDaryl GregoryKathleen LoveJames ChavezDawn LewisEric ThompsonBrittany EdwardsCharles BaileyGina SimsJohn McdanielHeather ScottChristine GarciaTracy LoweryJay RobertsBrandon OrtizElizabeth EllisonPatricia WoodTroy MorganAdriana WallEric LewisRobert DukeCarol TorresRobert HooperMandy HensleyKayla PetersenReginald MolinaTasha GrayDawn ChristensenMarcus WilsonJason RodriguezKimberly FisherMichael JohnsonPatricia VillanuevaDavid TorresHeather RobinsonKathryn BernardDebbie TurnerKayla BurtonAmanda BatesKathleen KnoxMr. Colton Collins IIJamie MasonDwayne SmithCynthia CastilloBrandon WilliamsCrystal MaldonadoHaley GreenKimberly PorterElizabeth CarrilloJames HowellAnthony WelchTammie RogersSteven LeSharon PadillaJonathan GardnerJulie DavisStacie HollandDiana GarrettJessica SchmidtMallory GravesKerry HendersonBrandon VaughnAnita WilsonNancy SmithAshley LopezMichael ParkMr. Mason Hernandez MDCindy PowellKayla ScottKimberly JohnstonAnn FloresBrittney AdamsPatricia MillerJonathan GallowayVeronica GriffithMichelle RamosJoe NunezKathy BushEmily HessChase HortonBrittany CarrCharles GonzalezThomas AlvarezJason OrtizRhonda FergusonBrenda DixonKenneth BrooksTyler SmithAlison AndersonBethany HarveyNicholas CostaRyan AllenGabriel Ashley to numeric"
     ]
    }
   ],
   "source": [
    "# Use the code provided to separate the data by grade\n",
    "ninth_graders = school_data_complete[(school_data_complete[\"grade\"] == \"9th\")]\n",
    "tenth_graders = school_data_complete[(school_data_complete[\"grade\"] == \"10th\")]\n",
    "eleventh_graders = school_data_complete[(school_data_complete[\"grade\"] == \"11th\")]\n",
    "twelfth_graders = school_data_complete[(school_data_complete[\"grade\"] == \"12th\")]\n",
    "\n",
    "# Group by \"school_name\" and take the mean of each.\n",
    "ninth_graders_scores = ninth_graders.groupby([\"school_name\"]).mean()[\"math_score\"]\n",
    "tenth_graders_scores = tenth_graders.groupby([\"school_name\"]).mean()[\"math_score\"]\n",
    "eleventh_graders_scores = eleventh_graders.groupby([\"school_name\"]).mean()[\"math_score\"]\n",
    "twelfth_graders_scores = twelfth_graders.groupby([\"school_name\"]).mean()[\"math_score\"]\n",
    "\n",
    "# Combine each of the scores above into single DataFrame called `math_scores_by_grade`\n",
    "math_scores_by_grade = pd.DataFrame({\"9th\": ninth_grader_math_scores, \n",
    "                                     \"10th\": tenth_grader_math_scores,\n",
    "                                     \"11th\": eleventh_grader_math_scores,\n",
    "                                     \"12th\": twelfth_grader_math_scores})\n",
    "\n",
    "# Minor data wrangling\n",
    "math_scores_by_grade.index.name = None\n",
    "\n",
    "# Display the DataFrame\n",
    "math_scores_by_grade"
   ]
  },
  {
   "cell_type": "markdown",
   "metadata": {},
   "source": [
    "## Reading Score by Grade "
   ]
  },
  {
   "cell_type": "code",
   "execution_count": 132,
   "metadata": {},
   "outputs": [
    {
     "ename": "TypeError",
     "evalue": "Could not convert Blake MartinFrank MarshCharles Goodman Jr.Aaron MoyerMichael DeanRobin VegaKenneth JuarezGerald SmithDavid HernandezMatthew SinghJeremiah WhiteLisa AguilarDanielle HarrisKristin JohnsonKevin MartinAnna MyersTimothy HigginsAnthony FordNicole RoseChristopher LongMr. Michael AllenCasey JonesJoseph KellyDebra BrownJacqueline SheaSara MurphyNatalie GrantPeter MillerDavid CannonValerie MayApril FisherBradley HunterJohn WilliamsonAnthony SpencerJoseph AllenAngela WallJames FerrellRobert RodriguezDarius WilliamsBrian TrevinoAndrea GreenAustin JohnstonGuy ThomasDesiree GordonScott ClarkLinda SinghWilliam PerryTerry SantanaApril StevensAnthony TorresWayne GuerreroMonique CarterChristine LeeJay SmithRobert ReyesRichard MacdonaldJonathan TuckerChelsea KempMelissa BowmanWilliam SimpsonAmanda DavisBrandon MedinaPatricia WilliamsJeremy CharlesTyler GonzalezKristen GreenRichard WallerLaura LindseyMark AlvarezMatthew ThomasHeather GouldJacqueline SnowApril Calderon MDMichael WaltersErin HaleMichael AndersonPeggy BautistaGina BarberDavid HarrisNathan JonesAdam CruzPeter GonzalezBarbara RobinsonSteven WongAdam HerringPatricia MillerJim StevensJordan MclaughlinVincent MartinTracey BensonNatasha EverettErin ParksStephen ThompsonDaniel KingBenjamin MurrayKristen SmithJohn CarrilloMark BrowningEric Park DDSBrian MosleyPatricia MarshJennifer AndersonDanielle HoodMatthew CarterStephanie ThomasCathy MercadoSheila LewisPatrick Barker PhDAna BurnsChloe DownsJoshua FloresBianca BoyerWilliam ThompsonJonathan LongSamantha PattersonEmily PowellLouis WatersNathan DominguezKristin KellerJordan StewartBrian DunnEmily MartinJamie MillerNathan AtkinsonKelly MartinezCarlos RamirezAllen Morris Jr.Sarah RobertsPatricia HoBreanna MorrisEmily TurnerAlyssa RodriguezRichard JohnsonMary GreenMegan MillerWanda BaileyRenee RodriguezJeffrey PayneKari CharlesKelly HarmonShannon WeaverPatty NelsonAndrea JonesDale WhitakerKatherine DeanBrittney HenryAaron RodriguezDr. Carl JamesWilliam FrancisDanielle DyerMichael WagnerAmanda RogersPatricia JonesVictor MartinDr. Kimberly BenjaminMichelle BeckerJoseph NunezKeith AlvarezRicardo VazquezMatthew HawkinsNicole SmithSarah HodgeAmber BlevinsBenjamin BatesThomas MarshallAnna JohnsonRyan Graham MDTerri MillerTaylor DominguezLisa HarrisMichael RobinsonMelissa KellyChase RayTracy RodriguezYvonne WareJake MilesChristopher MyersCindy MurphyDylan JohnsonFrank NewmanLisa MyersKristine KellyMelissa AndersonMarissa BlevinsJason HallJoseph HernandezWanda MaddoxArthur KochNicholas DanielJerry RichardsJoel PittsThomas HerreraJennifer CarlsonJorge McdonaldStephanie Howard MDAlyssa WilliamsonPedro LongJames SmithGregory HerringDaniel BarrettTravis ComptonDaniel RowlandJonathon WillisAdam RodriguezDominique LloydJoyce RobertsJon GriffinJoseph ForbesDustin MarquezSean WellsDeanna CombsDanielle HayesKrystal ReynoldsCarl MartinezBrandon PopeAmanda RodriguezMarco WilliamsErica CollinsPenny NguyenLori LeeLori SmithBryan MooreJaclyn CobbVeronica DiazBarbara LarsenSteven HartmanMegan VillaAlex ConnerDanielle HurleyJames CalhounRyan GreenVeronica GomezWilliam SwansonLauren WestJohn BrownTonya SaundersDavid ThomasCrystal EdwardsCathy RamosChris RobertsKatherine TuckerJustin HillSarah AllenJessica BauerJames RodgersJacqueline EwingJacob ThomasNatalie JohnstonFelicia MatthewsRobert LawrenceJoshua MorganSierra JohnsonTravis HeathMelanie AndersonKenneth GarciaMaria BrockAdam PattonMatthew MezaAmanda JohnsonJesse HernandezPenny DeckerBobby WilliamsMargaret HortonRonnie BarrettAllen OnealGerald LangWilliam HudsonDerek SilvaDarlene LeeHarold JohnstonDonna ReedWanda PhillipsMegan JonesTheresa ShieldsMark LeeErica BakerVirginia BallardAaron AtkinsonBianca Huynh MDDaniel PhillipsThomas JohnsonNicole LopezAdam LambMonica RobersonDouglas RodriguezSarah OrtizDeanna MendozaMelissa Dunn MDLauren KochWilliam FrenchJared WashingtonJames JacksonMelissa SandovalMr. Angel JohnsonChad EvansDonald MyersNicole JohnsonWendy RiveraWilliam PinedaRebecca StoutDerek DiazTravis WebbShane PerezJasmine CampbellMason RaymondVincent EllisJoseph McgeeKatelyn DayAmy BeckerKenneth HughesKimberly FrazierMichael Garcia Jr.April HallJessica MatthewsMr. Daniel Nguyen DDSChristopher KelleyHeather WeaverTaylor GambleSteven BaileyRichard HernandezNancy McclurePaul ClarkeEric ArnoldElizabeth MeyerKaitlin BarrettAnthony PatelApril GillespieJohn SnyderRoy DeckerMatthew JonesKenneth MartinezKevin BrowningChristine IbarraMelissa BrownMichael PerezNorman BurnsJames MarshallTaylor CohenAlejandro CarterAllison GardnerEmily CollierDebbie Brown DVMAmy ShawTaylor MedinaLisa RichardsDana CruzJustin HenryRobert WeberTamara MooreKim StewartAdriana SmithJoshua Kim DDSCarol JohnsonMr. Jesse BellEmily WarrenAlexandra HendricksJulie MoralesJason JohnsonLisa JonesMonica SmithEric EdwardsMichael BurnettDerek MayPaul WoodMiguel JohnsonDouglas HardyKaitlyn ChambersCarlos YoungLindsay LinPhillip WashingtonAlexis MatthewsAndrew ThomasDerek Barker Jr.Jeremy WoodAndrew JimenezJennifer ButlerMrs. Renee GordonMichelle MurrayJennifer StoneDavid KirbySheila YoungHeather WatsonRobert RossKristen LunaDawn MartinezSavannah RamseyWilliam SalasHolly MooreJason CarterRyan SmithBrett EricksonChristina AyalaJames GarciaConnor CobbCrystal BuchananSherri PadillaJustin PowellVanessa TuckerTyler HarperRobert GreerBarry HallMargaret LeeDavid DiazRenee MonroeKristen MitchellSamantha MartinJessica FarmerCarlos BrownMiguel MaciasAlejandra WilliamsonMary GriffinMatthew GrantAnnette RossCarolyn MillerErica MillerMark MclaughlinJamie GibsonMatthew RiggsBetty IrwinFrederick LeeHelen GayCourtney ThompsonDiana ChapmanKenneth DiazKenneth HartmanRachel LopezCassandra BaldwinJose ButlerJohn LoveMrs. Amanda MartinMichael MooreJohn VaughnRebecca ChungDaniel HartMackenzie MasonDavid HarveyChristina ButlerSheila BrownJeffrey GalvanRegina ParkerTracy ChapmanEdward SmithShawn PetersonBryan GuerraHeather StokesMartha BestCynthia WolfeDavid TaylorRebecca HansenJessica CarneyJoshua SanchezRegina GarciaCourtney GibsonBrandon DelacruzTheresa SummersKarina LeePeter RileyChristopher OneillDaniel KleinKatherine EdwardsElizabeth ShermanWilliam BrewerLauren LoganAmanda WalkerAmanda McdanielKevin WilliamsMrs. Pamela GarciaAngela RojasBeth SullivanMarie StoutEmily AllenDanielle Stanton MDConnie BushErica ShawPhilip RobinsonMiguel SmithFrank HoffmanKevin ColemanAndrea HallMark BrownKathleen ValdezJessica WardRebecca GonzalesMike McdanielPamela HughesPamela RitterTimothy ScottStephen LawrenceTracey OchoaBridget BurkeJason WhiteMichelle WashingtonRaymond VargasJeffrey GreenMichael MontgomeryAlejandro BarnettElaine JamesBrianna WhiteAlyssa JenningsTony NelsonLaurie FergusonKelly WileyDustin PetersenChristopher WilkersonDr. David MillerCorey BenjaminCharles PerezKyle DeanTonya WalshWendy DavisJoshua LoveMichael AdamsMrs. Sheena Bailey DVMJoan CaldwellBridget GrahamBrian ChangAlicia ButlerJames BrownDiane VargasMichele OnealZachary Garrett IIIDavid JohnsonKristy PopeMadison BurnsCynthia MooreTaylor ReedNathan PrattAmanda MartinBarbara WhiteMichael GrimesLaura NobleKevin QuinnDavid StoneSeth GreenAmy MooreCarolyn AriasAmy Mcintosh MDChristina KhanDr. Frank AndersonBecky JonesKathleen RamirezCatherine WilsonSandra DuncanJeffrey RivasJordan CruzCindy CruzTina RodriguezDavid RiveraBrian SilvaJoseph MurphyDawn HernandezMichael PatelBreanna MercerDavid PayneRuth ArmstrongJennifer JamesRachael HortonAshley TorresDaniel CherryAmanda FieldsVernon RossMarie HernandezMichael KimKevin BarnettMary WilliamsPaul HallBrittney HughesRonald HickmanMallory HowardKendra YangJames TurnerThomas LewisPhillip BishopAndrea BartonChristopher MillerErin PhillipsHeather HallKatrina AdkinsNicole MitchellPatty RyanLinda GravesMargaret AndersonRichard DeckerDarren BrooksHeather SmithMatthew TaylorCynthia GreenChristopher PhillipsMegan OlsonTiffany SmithVictor SmithAmy ParkerKelly ColemanEric KnappJustin WilliamsMallory AndersonJohn ClarkAnne HansenTina ButlerCody SchaeferThomas Burgess MDJoseph HodgesDaniel MillsAmanda Hale DVMGregory SchneiderClinton NguyenRussell ThompsonMegan FlemingDebbie BlackwellLaura JenkinsJordan AndersonAmanda IbarraJonathan KrauseDr. Daniel BowmanTammy JohnsonLinda HerreraJonathan MartinezChristine JohnsonTanya FisherAngelica HumphreyJustin JohnstonApril RodriguezAmber ThompsonMelissa BanksLori Mitchell DDSAmy SmithRichard DayJennifer MackJames SmithNicole PettyTina HillZachary SchultzMrs. Pam Lewis DVMKelsey HarrisRobert MitchellKelly HopkinsAmanda GrahamAmy Gutierrez DDSDawn RamirezKenneth WardMelody ScottAshley BarryAngela WilkinsTodd SimmonsDavid LunaLeonard CoxPeter TuckerCynthia NelsonPeter MillerAaron GarciaPatrick WhitneyMargaret QuinnAmber MooreMatthew AguilarDenise CarterJared BrownAmber VillanuevaAmy CohenMichael LeeStephanie AriasJenna GreerCameron CordovaJeremy PayneNathan ArroyoRussell BanksJoshua RamirezJay KirkAlicia SchwartzAnna CamachoCarla WilsonJessica WrightWilliam BlackAshley TerryJeffery PowellDaniel SandersMichael GarnerMaria WilliamsBrenda RayChelsea LewisNicholas RamosJennifer WashingtonAudrey WellsBarbara WoodAndrea ThompsonJason CoxSarah RobinsonHeidi MartinJanet ChanJeffrey RobbinsTheresa NicholsAmy HansenJoshua BrownKent ShermanEddie AlvarezYvonne Robinson PhDJennifer RamosTracy MorrisonCrystal JohnsonApril TrujilloLisa SanchezDeborah NelsonKevin GoodwinAbigail PerezDonna RoseAndrew WintersJessica HartLauren KlineGregory AllisonThomas JohnsonVanessa StevensonKathleen BeltranMartha Mcdonald DVMKevin JohnsonDr. Mary SchwartzAnthony MeadowsErnest PowellDavid FergusonMariah HoltNancy MartinStacey ThompsonAndrew RyanMallory ChenErika BurchRobert MorrowAustin ChavezJustin WilsonLisa MurrayJeremy WattsJustin ChenRenee BuckleyShannon PriceBarbara WhiteheadJackie KirkAngel MayerDeborah AndersonJacqueline West DDSAnita ZunigaDavid ChapmanBeverly BauerJessica NguyenMelissa LewisAmanda SchaeferJacqueline Snow MDMarcus RushAngela StewartJorge HoDr. Jennifer SheaChristopher CantuJonathan HaleErin BowersAnthony HernandezEduardo SantiagoDana HaynesClayton Williams DVMNatalie WhitakerFrances WhiteMeghan AdamsStephen FitzgeraldAmy BairdMolly BrownAmanda SloanEric WilliamsEmma VasquezSherry GomezAaron CarterAlan ScottJennifer CannonLindsay NicholsonStephanie JonesJose SmithKimberly MooreMelissa SchultzSteven CalhounJohn BallZachary WilliamsKimberly JacksonKristen WilliamsonSamantha HoffmanDanielle GonzalezCharles IngramTimothy GravesAnna RodriguezAmanda KaneJoseph JonesDebra JacksonErik DunlapMeghan HarperJennifer PinedaJohn WhiteKaren FischerTodd DavisLarry Chandler Jr.Veronica PotterRobert VelezAshley WeissErika JohnsonJesus GordonKathy JacksonAshley WilliamsJuan LopezAnna HaynesDon MurrayJohn GarzaSteven WhiteDavid SalazarDaniel WrightRebecca MolinaBetty EricksonCameron Roman Jr.Kelly PierceSergio McfarlandJeffrey ChavezAmanda GalvanRonald PooleJohn WallaceGina AguilarMelissa SullivanJeffery ToddDaniel BurtonJulie AllisonCarolyn CookMike AllenAngela CostaKarina CalderonFelicia CampbellElizabeth DixonNancy WheelerMichael WatsonJennifer LevinePhilip ArnoldCrystal GonzalesMr. Ian SmithLawrence JohnsonPeter JonesChristopher RamirezNicolas JohnsonStephanie RhodesSarah MillerScott CortezChristopher CarrollWilliam RodriguezWyatt HarrisJacob CarlsonJason PerryJoshua FoxJames PerkinsChristine SanfordSarah SnyderDana ChavezJose HansenMelissa Hunt MDFrank RiveraLeah BishopAudrey FieldsRenee Garcia MDAngela WallJose GoldenAndrew RichardsonCynthia McleanMelissa FordKelsey SmithHeidi MasonLaura JohnsonAmanda MooreRobert AndersonMichael RobbinsSamantha ScottJoseph WareMaria DavisKenneth WatkinsMrs. Lori Rogers MDFrank BlackwellMichele TorresJason FergusonWilliam DurhamNicole HaynesCraig MorganEvan WilsonKenneth OlsonSeth GreenRoberto EscobarJustin SchneiderSarah PadillaAshley GardnerCourtney LutzAlbert SheaJennifer McguireJoseph RamosVictoria BakerClaudia WoodScott HughesCassandra HaasKathryn HannaDiana PhelpsKari HuangSara WellsJordan PetersonFrederick RochaKathryn YoungBrittany HodgesSherry GutierrezJohn GrantBenjamin RoweChelsey VillanuevaAlexandra MccarthyRhonda GarciaJon MatthewsKristen HartmanLynn RivasBrandy WestCarmen ThomasThomas LarsonKathryn CoxTasha ButlerChristopher ThompsonCollin ThomasJulia GeorgeChristopher ShermanAmy BooneJames JensenMonica BerryJonathan MckenzieMrs. Christina Mitchell DDSKatherine BrownJordan BrownElizabeth BrownColton KelleyMelanie KentElizabeth VargasNathan RomanAngela JonesAngela LopezBrian ThomasDouglas HawkinsIan GallagherJeffrey GarrisonTeresa WilliamsJustin MillerJill BakerJessica MitchellJoseph GeorgeCandace FrankEric SotoEmily Duran MDRandall MyersTravis LopezElizabeth GonzalezBrian HoldenTodd Grant Jr.Reginald AlvaradoMark BryantDesiree ClarkJulia ChristianTerry FuentesChristina MartinOlivia RiceKristen NealTimothy BrayJennifer YoungSonya JuarezCharles AveryJohnny BanksJames SanchezScott ProctorJessica MoranRobert FernandezMeredith MckeeKathryn StanleyRichard PooleStephanie GarnerStacey ContrerasCheryl OsborneNathaniel JohnsonRandy LewisMichelle DavisJonathan YoungAngel JacksonMichael KennedyLisa PinedaJennifer MurrayKristopher MurphyRobert WagnerMichael HowellMeagan WhitneyChristopher DavisRhonda LynchTara MarshKeith AndersonAdriana SnyderMelanie MillsAllison JohnsonDebra HowardJustin MartinezDarius AtkinsonTimothy JacksonAlison SmithCatherine HortonAndrew TaylorHunter FitzpatrickSarah KirkKristina GarzaZachary ChavezMrs. Wendy HayesKenneth Santiago MDAnthony JenkinsTeresa LeonardJonathan AdamsDr. Matthew HernandezDouglas HamiltonIan WilliamsTroy ScottChristopher LambLouis Hodges DDSRonald MartinezMonica CochranHarry SnowAmanda ColeJustin LeeSamantha CooperChristopher SmithDiane BradfordJeanette YoungLarry MonroeBradley MurphyNina ThomasMr. Michael GrahamDaniel OlsonAndrew HerreraMichelle FoxMike HillErika LoganJulia HowellWilliam BradleyElizabeth ParkAnthony SmithDonald ReevesJordan WardJeanne Fischer MDWilliam HinesJason SullivanMrs. Amanda RoseRobert HinesKimberly CollinsVeronica McmillanTeresa PerezMatthew McdonaldJason HuntRichard LevinePatricia PerryJohnny SchneiderJessica SmithAlan BurnettBobby NobleCatherine HarrisValerie ObrienRebecca Salazar DDSChristopher NelsonDiana PonceKenneth RaymondRay HoffmanMary GarzaRobert DiazMarie StanleyAmanda SolomonScott BrewerKathy BrightKristen CrossAbigail YoungMichael CooperDavid DavisSteven MyersNancy RossMark EverettSteve WalkerJonathan ByrdNicholas DiazStacy DavisAngela TownsendRichard Cherry DDSTimothy GriffinJames Holland MDNicholas TannerDavid DavisDaniel MartinezLauren CampbellTimothy GomezRobert LandryJamie BaileyKenneth AlexanderMatthew GarciaTanya HawkinsJacob PorterDr. Patricia BakerRebecca FloydMark JordanBryan MayerJenna DickersonMary EatonCynthia GeorgeKathy BurgessBrett JenningsFrank RobersonBrandon GardnerKim LewisEdward MunozDr. Rachel GilbertDonna RiddleChristopher TateMichael DavisLouis McdanielNicole BurgessDavid JensenNicole GoodwinChristopher WelchJared LynchNicole BuckDavid GutierrezStephanie HarrisonWilliam PetersonMolly MasonAlbert WrightJoshua FernandezKendra WardEarl CaldwellShane MartinezElizabeth JohnsonMelissa ParksJennifer PettyMichael LeeAustin MooreDustin MossKristine WadeJeffrey DavisLisa VasquezKenneth Avila Jr.Sergio MayDavid RichardsonAndrew PierceChristian MuellerDavid WoodRobin BrownTimothy HillSteven WebsterHenry RamirezMichael RomeroJody HunterCaitlyn SmithDesiree CastroMelanie EsparzaHolly McphersonZachary RiveraChristine HillBrandon FlowersMichael TuckerMisty HatfieldChristine BurtonJames SmithTracy SteinCharles HoltAmy BrownSummer HuntTodd WilliamsSteven NelsonMelissa TranShelby RodriguezBrian MoralesJennifer HuangElizabeth MunozSteven NewtonRobyn HernandezNicholas JonesCurtis LeeDr. Andrea RoseWendy PetersonJennifer HernandezCorey BerryNicole WilliamsRita ReynoldsSara OwensEvan MooreSarah BryantGail CampbellDylan FrancoLindsey NobleMatthew JacksonMorgan ThomasElizabeth ChaseErnest BarnesRichard SheltonKaren BridgesCynthia StoneKristin SloanJennifer CunninghamRebecca ChapmanStacey TerryJohn ShawMr. Eric GordonAmber DiazRachel KellyAshley WalterDaniel HaleyRobert HendrixDonna HolmesKenneth HowardDonald MillsMichael ScottThomas SandersTeresa SullivanBriana LucasKyle RobertsSheri ThomasJordan PattersonDeborah RollinsAllison WhiteTimothy StewartAmanda NelsonSydney KimThomas HinesMichael FoleyAnthony WadeRobert PerezWendy FinleySabrina RasmussenBilly Franco PhDJason FlemingMaxwell LeonardJonathan CooperRandy BlakeMatthew MillsTracy EspinozaBrandy KellerAnita ScottDiana BradleyJohn GonzalezAngela SimpsonHannah HicksCody WilcoxShane DavisThomas WallsDr. Alexander Chang PhDMr. Robert HendricksKimberly JonesMichele MooreLaura MillerJennifer GonzalezVanessa GarciaGerald KimWendy ShepardHarold PetersonEddie WilliamsShawn ObrienRobert HaneyKathryn GonzalesAmy RiceHannah BruceMichele TerryJennifer JohnsonDavid WrightCarlos SmithErnest WongWilliam PottsMark JeffersonNicole RollinsJohn QuinnAndrew ReidKristen KingMatthew WilsonArthur LeeLori WilliamsDaniel GarciaMs. Stephanie Schwartz DDSLoretta PerezRandall BanksAdrian DavisDebra SmithMary LawsonWhitney EstesMorgan AllenSteven HansonAustin KellyGrace HarrisonJose SchmittNatasha DaviesLawrence ZhangMichael BoydBarbara AndersonShannon BlairCarolyn HawkinsCharles MorrisDerrick CarrollCynthia MartinezJesus BooneRebecca JohnsonAndrew AllisonMadeline MonroeCristina HobbsLindsey NavarroMichael NielsenJason BrownBreanna MooreDonald MartinezAbigail EspinozaAdam GriffinKarla McneilRebecca KnappAlicia JohnsonGabriel ArroyoEdward EdwardsDaniel JohnsonKevin LongDr. Devin Sharp PhDKenneth AriasShannon TateKrystal MarshallAlexander McculloughRichard SmithMeagan BakerDavid FullerChad SmithRichard ReyesMadison WagnerWilliam BowenAnthony AlvaradoBrittney Hammond DVMBrandon BrownKristopher WrightMark WarrenElizabeth FrazierMark BaileyChristopher MontgomeryElizabeth WallerLouis WoodsBrandy MitchellRoger KingTara DouglasMelissa OwensDavid GonzalezTodd WilliamsNathaniel OconnellTravis GreenLuke FryDouglas WoodsChristopher SilvaJacob TerryNancy HarrisonMichael SullivanMiss Norma McfarlandLaurie DoughertyJoshua TaylorAndrew CampbellHeather BellBradley MartinezAmy LeeDavid GoodAaron NelsonRobert TylerJaclyn WilliamsJoe KochDerek LopezAngela BryantWalter MaxwellDennis KleinNancy NelsonJason DrakeMary AcevedoDakota AdamsDaryl GregoryKathleen LoveJames ChavezDawn LewisEric ThompsonBrittany EdwardsCharles BaileyGina SimsJohn McdanielHeather ScottChristine GarciaTracy LoweryJay RobertsBrandon OrtizElizabeth EllisonPatricia WoodTroy MorganAdriana WallEric LewisRobert DukeCarol TorresRobert HooperMandy HensleyKayla PetersenReginald MolinaTasha GrayDawn ChristensenMarcus WilsonJason RodriguezKimberly FisherMichael JohnsonPatricia VillanuevaDavid TorresHeather RobinsonKathryn BernardDebbie TurnerKayla BurtonAmanda BatesKathleen KnoxMr. Colton Collins IIJamie MasonDwayne SmithCynthia CastilloBrandon WilliamsCrystal MaldonadoHaley GreenKimberly PorterElizabeth CarrilloJames HowellAnthony WelchTammie RogersSteven LeSharon PadillaJonathan GardnerJulie DavisStacie HollandDiana GarrettJessica SchmidtMallory GravesKerry HendersonBrandon VaughnAnita WilsonNancy SmithAshley LopezMichael ParkMr. Mason Hernandez MDCindy PowellKayla ScottKimberly JohnstonAnn FloresBrittney AdamsPatricia MillerJonathan GallowayVeronica GriffithMichelle RamosJoe NunezKathy BushEmily HessChase HortonBrittany CarrCharles GonzalezThomas AlvarezJason OrtizRhonda FergusonBrenda DixonKenneth BrooksTyler SmithAlison AndersonBethany HarveyNicholas CostaRyan AllenGabriel Ashley to numeric",
     "output_type": "error",
     "traceback": [
      "\u001b[1;31m---------------------------------------------------------------------------\u001b[0m",
      "\u001b[1;31mNotImplementedError\u001b[0m                       Traceback (most recent call last)",
      "File \u001b[1;32mc:\\Users\\15623\\anaconda3\\Lib\\site-packages\\pandas\\core\\groupby\\groupby.py:1490\u001b[0m, in \u001b[0;36mGroupBy._cython_agg_general.<locals>.array_func\u001b[1;34m(values)\u001b[0m\n\u001b[0;32m   1489\u001b[0m \u001b[39mtry\u001b[39;00m:\n\u001b[1;32m-> 1490\u001b[0m     result \u001b[39m=\u001b[39m \u001b[39mself\u001b[39m\u001b[39m.\u001b[39mgrouper\u001b[39m.\u001b[39m_cython_operation(\n\u001b[0;32m   1491\u001b[0m         \u001b[39m\"\u001b[39m\u001b[39maggregate\u001b[39m\u001b[39m\"\u001b[39m,\n\u001b[0;32m   1492\u001b[0m         values,\n\u001b[0;32m   1493\u001b[0m         how,\n\u001b[0;32m   1494\u001b[0m         axis\u001b[39m=\u001b[39mdata\u001b[39m.\u001b[39mndim \u001b[39m-\u001b[39m \u001b[39m1\u001b[39m,\n\u001b[0;32m   1495\u001b[0m         min_count\u001b[39m=\u001b[39mmin_count,\n\u001b[0;32m   1496\u001b[0m         \u001b[39m*\u001b[39m\u001b[39m*\u001b[39mkwargs,\n\u001b[0;32m   1497\u001b[0m     )\n\u001b[0;32m   1498\u001b[0m \u001b[39mexcept\u001b[39;00m \u001b[39mNotImplementedError\u001b[39;00m:\n\u001b[0;32m   1499\u001b[0m     \u001b[39m# generally if we have numeric_only=False\u001b[39;00m\n\u001b[0;32m   1500\u001b[0m     \u001b[39m# and non-applicable functions\u001b[39;00m\n\u001b[0;32m   1501\u001b[0m     \u001b[39m# try to python agg\u001b[39;00m\n\u001b[0;32m   1502\u001b[0m     \u001b[39m# TODO: shouldn't min_count matter?\u001b[39;00m\n",
      "File \u001b[1;32mc:\\Users\\15623\\anaconda3\\Lib\\site-packages\\pandas\\core\\groupby\\ops.py:959\u001b[0m, in \u001b[0;36mBaseGrouper._cython_operation\u001b[1;34m(self, kind, values, how, axis, min_count, **kwargs)\u001b[0m\n\u001b[0;32m    958\u001b[0m ngroups \u001b[39m=\u001b[39m \u001b[39mself\u001b[39m\u001b[39m.\u001b[39mngroups\n\u001b[1;32m--> 959\u001b[0m \u001b[39mreturn\u001b[39;00m cy_op\u001b[39m.\u001b[39mcython_operation(\n\u001b[0;32m    960\u001b[0m     values\u001b[39m=\u001b[39mvalues,\n\u001b[0;32m    961\u001b[0m     axis\u001b[39m=\u001b[39maxis,\n\u001b[0;32m    962\u001b[0m     min_count\u001b[39m=\u001b[39mmin_count,\n\u001b[0;32m    963\u001b[0m     comp_ids\u001b[39m=\u001b[39mids,\n\u001b[0;32m    964\u001b[0m     ngroups\u001b[39m=\u001b[39mngroups,\n\u001b[0;32m    965\u001b[0m     \u001b[39m*\u001b[39m\u001b[39m*\u001b[39mkwargs,\n\u001b[0;32m    966\u001b[0m )\n",
      "File \u001b[1;32mc:\\Users\\15623\\anaconda3\\Lib\\site-packages\\pandas\\core\\groupby\\ops.py:657\u001b[0m, in \u001b[0;36mWrappedCythonOp.cython_operation\u001b[1;34m(self, values, axis, min_count, comp_ids, ngroups, **kwargs)\u001b[0m\n\u001b[0;32m    649\u001b[0m     \u001b[39mreturn\u001b[39;00m \u001b[39mself\u001b[39m\u001b[39m.\u001b[39m_ea_wrap_cython_operation(\n\u001b[0;32m    650\u001b[0m         values,\n\u001b[0;32m    651\u001b[0m         min_count\u001b[39m=\u001b[39mmin_count,\n\u001b[1;32m   (...)\u001b[0m\n\u001b[0;32m    654\u001b[0m         \u001b[39m*\u001b[39m\u001b[39m*\u001b[39mkwargs,\n\u001b[0;32m    655\u001b[0m     )\n\u001b[1;32m--> 657\u001b[0m \u001b[39mreturn\u001b[39;00m \u001b[39mself\u001b[39m\u001b[39m.\u001b[39m_cython_op_ndim_compat(\n\u001b[0;32m    658\u001b[0m     values,\n\u001b[0;32m    659\u001b[0m     min_count\u001b[39m=\u001b[39mmin_count,\n\u001b[0;32m    660\u001b[0m     ngroups\u001b[39m=\u001b[39mngroups,\n\u001b[0;32m    661\u001b[0m     comp_ids\u001b[39m=\u001b[39mcomp_ids,\n\u001b[0;32m    662\u001b[0m     mask\u001b[39m=\u001b[39m\u001b[39mNone\u001b[39;00m,\n\u001b[0;32m    663\u001b[0m     \u001b[39m*\u001b[39m\u001b[39m*\u001b[39mkwargs,\n\u001b[0;32m    664\u001b[0m )\n",
      "File \u001b[1;32mc:\\Users\\15623\\anaconda3\\Lib\\site-packages\\pandas\\core\\groupby\\ops.py:497\u001b[0m, in \u001b[0;36mWrappedCythonOp._cython_op_ndim_compat\u001b[1;34m(self, values, min_count, ngroups, comp_ids, mask, result_mask, **kwargs)\u001b[0m\n\u001b[0;32m    495\u001b[0m     \u001b[39mreturn\u001b[39;00m res\u001b[39m.\u001b[39mT\n\u001b[1;32m--> 497\u001b[0m \u001b[39mreturn\u001b[39;00m \u001b[39mself\u001b[39m\u001b[39m.\u001b[39m_call_cython_op(\n\u001b[0;32m    498\u001b[0m     values,\n\u001b[0;32m    499\u001b[0m     min_count\u001b[39m=\u001b[39mmin_count,\n\u001b[0;32m    500\u001b[0m     ngroups\u001b[39m=\u001b[39mngroups,\n\u001b[0;32m    501\u001b[0m     comp_ids\u001b[39m=\u001b[39mcomp_ids,\n\u001b[0;32m    502\u001b[0m     mask\u001b[39m=\u001b[39mmask,\n\u001b[0;32m    503\u001b[0m     result_mask\u001b[39m=\u001b[39mresult_mask,\n\u001b[0;32m    504\u001b[0m     \u001b[39m*\u001b[39m\u001b[39m*\u001b[39mkwargs,\n\u001b[0;32m    505\u001b[0m )\n",
      "File \u001b[1;32mc:\\Users\\15623\\anaconda3\\Lib\\site-packages\\pandas\\core\\groupby\\ops.py:541\u001b[0m, in \u001b[0;36mWrappedCythonOp._call_cython_op\u001b[1;34m(self, values, min_count, ngroups, comp_ids, mask, result_mask, **kwargs)\u001b[0m\n\u001b[0;32m    540\u001b[0m out_shape \u001b[39m=\u001b[39m \u001b[39mself\u001b[39m\u001b[39m.\u001b[39m_get_output_shape(ngroups, values)\n\u001b[1;32m--> 541\u001b[0m func \u001b[39m=\u001b[39m \u001b[39mself\u001b[39m\u001b[39m.\u001b[39m_get_cython_function(\u001b[39mself\u001b[39m\u001b[39m.\u001b[39mkind, \u001b[39mself\u001b[39m\u001b[39m.\u001b[39mhow, values\u001b[39m.\u001b[39mdtype, is_numeric)\n\u001b[0;32m    542\u001b[0m values \u001b[39m=\u001b[39m \u001b[39mself\u001b[39m\u001b[39m.\u001b[39m_get_cython_vals(values)\n",
      "File \u001b[1;32mc:\\Users\\15623\\anaconda3\\Lib\\site-packages\\pandas\\core\\groupby\\ops.py:173\u001b[0m, in \u001b[0;36mWrappedCythonOp._get_cython_function\u001b[1;34m(cls, kind, how, dtype, is_numeric)\u001b[0m\n\u001b[0;32m    171\u001b[0m \u001b[39mif\u001b[39;00m \u001b[39m\"\u001b[39m\u001b[39mobject\u001b[39m\u001b[39m\"\u001b[39m \u001b[39mnot\u001b[39;00m \u001b[39min\u001b[39;00m f\u001b[39m.\u001b[39m__signatures__:\n\u001b[0;32m    172\u001b[0m     \u001b[39m# raise NotImplementedError here rather than TypeError later\u001b[39;00m\n\u001b[1;32m--> 173\u001b[0m     \u001b[39mraise\u001b[39;00m \u001b[39mNotImplementedError\u001b[39;00m(\n\u001b[0;32m    174\u001b[0m         \u001b[39mf\u001b[39m\u001b[39m\"\u001b[39m\u001b[39mfunction is not implemented for this dtype: \u001b[39m\u001b[39m\"\u001b[39m\n\u001b[0;32m    175\u001b[0m         \u001b[39mf\u001b[39m\u001b[39m\"\u001b[39m\u001b[39m[how->\u001b[39m\u001b[39m{\u001b[39;00mhow\u001b[39m}\u001b[39;00m\u001b[39m,dtype->\u001b[39m\u001b[39m{\u001b[39;00mdtype_str\u001b[39m}\u001b[39;00m\u001b[39m]\u001b[39m\u001b[39m\"\u001b[39m\n\u001b[0;32m    176\u001b[0m     )\n\u001b[0;32m    177\u001b[0m \u001b[39mreturn\u001b[39;00m f\n",
      "\u001b[1;31mNotImplementedError\u001b[0m: function is not implemented for this dtype: [how->mean,dtype->object]",
      "\nDuring handling of the above exception, another exception occurred:\n",
      "\u001b[1;31mValueError\u001b[0m                                Traceback (most recent call last)",
      "File \u001b[1;32mc:\\Users\\15623\\anaconda3\\Lib\\site-packages\\pandas\\core\\nanops.py:1692\u001b[0m, in \u001b[0;36m_ensure_numeric\u001b[1;34m(x)\u001b[0m\n\u001b[0;32m   1691\u001b[0m \u001b[39mtry\u001b[39;00m:\n\u001b[1;32m-> 1692\u001b[0m     x \u001b[39m=\u001b[39m \u001b[39mfloat\u001b[39m(x)\n\u001b[0;32m   1693\u001b[0m \u001b[39mexcept\u001b[39;00m (\u001b[39mTypeError\u001b[39;00m, \u001b[39mValueError\u001b[39;00m):\n\u001b[0;32m   1694\u001b[0m     \u001b[39m# e.g. \"1+1j\" or \"foo\"\u001b[39;00m\n",
      "\u001b[1;31mValueError\u001b[0m: could not convert string to float: 'Blake MartinFrank MarshCharles Goodman Jr.Aaron MoyerMichael DeanRobin VegaKenneth JuarezGerald SmithDavid HernandezMatthew SinghJeremiah WhiteLisa AguilarDanielle HarrisKristin JohnsonKevin MartinAnna MyersTimothy HigginsAnthony FordNicole RoseChristopher LongMr. Michael AllenCasey JonesJoseph KellyDebra BrownJacqueline SheaSara MurphyNatalie GrantPeter MillerDavid CannonValerie MayApril FisherBradley HunterJohn WilliamsonAnthony SpencerJoseph AllenAngela WallJames FerrellRobert RodriguezDarius WilliamsBrian TrevinoAndrea GreenAustin JohnstonGuy ThomasDesiree GordonScott ClarkLinda SinghWilliam PerryTerry SantanaApril StevensAnthony TorresWayne GuerreroMonique CarterChristine LeeJay SmithRobert ReyesRichard MacdonaldJonathan TuckerChelsea KempMelissa BowmanWilliam SimpsonAmanda DavisBrandon MedinaPatricia WilliamsJeremy CharlesTyler GonzalezKristen GreenRichard WallerLaura LindseyMark AlvarezMatthew ThomasHeather GouldJacqueline SnowApril Calderon MDMichael WaltersErin HaleMichael AndersonPeggy BautistaGina BarberDavid HarrisNathan JonesAdam CruzPeter GonzalezBarbara RobinsonSteven WongAdam HerringPatricia MillerJim StevensJordan MclaughlinVincent MartinTracey BensonNatasha EverettErin ParksStephen ThompsonDaniel KingBenjamin MurrayKristen SmithJohn CarrilloMark BrowningEric Park DDSBrian MosleyPatricia MarshJennifer AndersonDanielle HoodMatthew CarterStephanie ThomasCathy MercadoSheila LewisPatrick Barker PhDAna BurnsChloe DownsJoshua FloresBianca BoyerWilliam ThompsonJonathan LongSamantha PattersonEmily PowellLouis WatersNathan DominguezKristin KellerJordan StewartBrian DunnEmily MartinJamie MillerNathan AtkinsonKelly MartinezCarlos RamirezAllen Morris Jr.Sarah RobertsPatricia HoBreanna MorrisEmily TurnerAlyssa RodriguezRichard JohnsonMary GreenMegan MillerWanda BaileyRenee RodriguezJeffrey PayneKari CharlesKelly HarmonShannon WeaverPatty NelsonAndrea JonesDale WhitakerKatherine DeanBrittney HenryAaron RodriguezDr. Carl JamesWilliam FrancisDanielle DyerMichael WagnerAmanda RogersPatricia JonesVictor MartinDr. Kimberly BenjaminMichelle BeckerJoseph NunezKeith AlvarezRicardo VazquezMatthew HawkinsNicole SmithSarah HodgeAmber BlevinsBenjamin BatesThomas MarshallAnna JohnsonRyan Graham MDTerri MillerTaylor DominguezLisa HarrisMichael RobinsonMelissa KellyChase RayTracy RodriguezYvonne WareJake MilesChristopher MyersCindy MurphyDylan JohnsonFrank NewmanLisa MyersKristine KellyMelissa AndersonMarissa BlevinsJason HallJoseph HernandezWanda MaddoxArthur KochNicholas DanielJerry RichardsJoel PittsThomas HerreraJennifer CarlsonJorge McdonaldStephanie Howard MDAlyssa WilliamsonPedro LongJames SmithGregory HerringDaniel BarrettTravis ComptonDaniel RowlandJonathon WillisAdam RodriguezDominique LloydJoyce RobertsJon GriffinJoseph ForbesDustin MarquezSean WellsDeanna CombsDanielle HayesKrystal ReynoldsCarl MartinezBrandon PopeAmanda RodriguezMarco WilliamsErica CollinsPenny NguyenLori LeeLori SmithBryan MooreJaclyn CobbVeronica DiazBarbara LarsenSteven HartmanMegan VillaAlex ConnerDanielle HurleyJames CalhounRyan GreenVeronica GomezWilliam SwansonLauren WestJohn BrownTonya SaundersDavid ThomasCrystal EdwardsCathy RamosChris RobertsKatherine TuckerJustin HillSarah AllenJessica BauerJames RodgersJacqueline EwingJacob ThomasNatalie JohnstonFelicia MatthewsRobert LawrenceJoshua MorganSierra JohnsonTravis HeathMelanie AndersonKenneth GarciaMaria BrockAdam PattonMatthew MezaAmanda JohnsonJesse HernandezPenny DeckerBobby WilliamsMargaret HortonRonnie BarrettAllen OnealGerald LangWilliam HudsonDerek SilvaDarlene LeeHarold JohnstonDonna ReedWanda PhillipsMegan JonesTheresa ShieldsMark LeeErica BakerVirginia BallardAaron AtkinsonBianca Huynh MDDaniel PhillipsThomas JohnsonNicole LopezAdam LambMonica RobersonDouglas RodriguezSarah OrtizDeanna MendozaMelissa Dunn MDLauren KochWilliam FrenchJared WashingtonJames JacksonMelissa SandovalMr. Angel JohnsonChad EvansDonald MyersNicole JohnsonWendy RiveraWilliam PinedaRebecca StoutDerek DiazTravis WebbShane PerezJasmine CampbellMason RaymondVincent EllisJoseph McgeeKatelyn DayAmy BeckerKenneth HughesKimberly FrazierMichael Garcia Jr.April HallJessica MatthewsMr. Daniel Nguyen DDSChristopher KelleyHeather WeaverTaylor GambleSteven BaileyRichard HernandezNancy McclurePaul ClarkeEric ArnoldElizabeth MeyerKaitlin BarrettAnthony PatelApril GillespieJohn SnyderRoy DeckerMatthew JonesKenneth MartinezKevin BrowningChristine IbarraMelissa BrownMichael PerezNorman BurnsJames MarshallTaylor CohenAlejandro CarterAllison GardnerEmily CollierDebbie Brown DVMAmy ShawTaylor MedinaLisa RichardsDana CruzJustin HenryRobert WeberTamara MooreKim StewartAdriana SmithJoshua Kim DDSCarol JohnsonMr. Jesse BellEmily WarrenAlexandra HendricksJulie MoralesJason JohnsonLisa JonesMonica SmithEric EdwardsMichael BurnettDerek MayPaul WoodMiguel JohnsonDouglas HardyKaitlyn ChambersCarlos YoungLindsay LinPhillip WashingtonAlexis MatthewsAndrew ThomasDerek Barker Jr.Jeremy WoodAndrew JimenezJennifer ButlerMrs. Renee GordonMichelle MurrayJennifer StoneDavid KirbySheila YoungHeather WatsonRobert RossKristen LunaDawn MartinezSavannah RamseyWilliam SalasHolly MooreJason CarterRyan SmithBrett EricksonChristina AyalaJames GarciaConnor CobbCrystal BuchananSherri PadillaJustin PowellVanessa TuckerTyler HarperRobert GreerBarry HallMargaret LeeDavid DiazRenee MonroeKristen MitchellSamantha MartinJessica FarmerCarlos BrownMiguel MaciasAlejandra WilliamsonMary GriffinMatthew GrantAnnette RossCarolyn MillerErica MillerMark MclaughlinJamie GibsonMatthew RiggsBetty IrwinFrederick LeeHelen GayCourtney ThompsonDiana ChapmanKenneth DiazKenneth HartmanRachel LopezCassandra BaldwinJose ButlerJohn LoveMrs. Amanda MartinMichael MooreJohn VaughnRebecca ChungDaniel HartMackenzie MasonDavid HarveyChristina ButlerSheila BrownJeffrey GalvanRegina ParkerTracy ChapmanEdward SmithShawn PetersonBryan GuerraHeather StokesMartha BestCynthia WolfeDavid TaylorRebecca HansenJessica CarneyJoshua SanchezRegina GarciaCourtney GibsonBrandon DelacruzTheresa SummersKarina LeePeter RileyChristopher OneillDaniel KleinKatherine EdwardsElizabeth ShermanWilliam BrewerLauren LoganAmanda WalkerAmanda McdanielKevin WilliamsMrs. Pamela GarciaAngela RojasBeth SullivanMarie StoutEmily AllenDanielle Stanton MDConnie BushErica ShawPhilip RobinsonMiguel SmithFrank HoffmanKevin ColemanAndrea HallMark BrownKathleen ValdezJessica WardRebecca GonzalesMike McdanielPamela HughesPamela RitterTimothy ScottStephen LawrenceTracey OchoaBridget BurkeJason WhiteMichelle WashingtonRaymond VargasJeffrey GreenMichael MontgomeryAlejandro BarnettElaine JamesBrianna WhiteAlyssa JenningsTony NelsonLaurie FergusonKelly WileyDustin PetersenChristopher WilkersonDr. David MillerCorey BenjaminCharles PerezKyle DeanTonya WalshWendy DavisJoshua LoveMichael AdamsMrs. Sheena Bailey DVMJoan CaldwellBridget GrahamBrian ChangAlicia ButlerJames BrownDiane VargasMichele OnealZachary Garrett IIIDavid JohnsonKristy PopeMadison BurnsCynthia MooreTaylor ReedNathan PrattAmanda MartinBarbara WhiteMichael GrimesLaura NobleKevin QuinnDavid StoneSeth GreenAmy MooreCarolyn AriasAmy Mcintosh MDChristina KhanDr. Frank AndersonBecky JonesKathleen RamirezCatherine WilsonSandra DuncanJeffrey RivasJordan CruzCindy CruzTina RodriguezDavid RiveraBrian SilvaJoseph MurphyDawn HernandezMichael PatelBreanna MercerDavid PayneRuth ArmstrongJennifer JamesRachael HortonAshley TorresDaniel CherryAmanda FieldsVernon RossMarie HernandezMichael KimKevin BarnettMary WilliamsPaul HallBrittney HughesRonald HickmanMallory HowardKendra YangJames TurnerThomas LewisPhillip BishopAndrea BartonChristopher MillerErin PhillipsHeather HallKatrina AdkinsNicole MitchellPatty RyanLinda GravesMargaret AndersonRichard DeckerDarren BrooksHeather SmithMatthew TaylorCynthia GreenChristopher PhillipsMegan OlsonTiffany SmithVictor SmithAmy ParkerKelly ColemanEric KnappJustin WilliamsMallory AndersonJohn ClarkAnne HansenTina ButlerCody SchaeferThomas Burgess MDJoseph HodgesDaniel MillsAmanda Hale DVMGregory SchneiderClinton NguyenRussell ThompsonMegan FlemingDebbie BlackwellLaura JenkinsJordan AndersonAmanda IbarraJonathan KrauseDr. Daniel BowmanTammy JohnsonLinda HerreraJonathan MartinezChristine JohnsonTanya FisherAngelica HumphreyJustin JohnstonApril RodriguezAmber ThompsonMelissa BanksLori Mitchell DDSAmy SmithRichard DayJennifer MackJames SmithNicole PettyTina HillZachary SchultzMrs. Pam Lewis DVMKelsey HarrisRobert MitchellKelly HopkinsAmanda GrahamAmy Gutierrez DDSDawn RamirezKenneth WardMelody ScottAshley BarryAngela WilkinsTodd SimmonsDavid LunaLeonard CoxPeter TuckerCynthia NelsonPeter MillerAaron GarciaPatrick WhitneyMargaret QuinnAmber MooreMatthew AguilarDenise CarterJared BrownAmber VillanuevaAmy CohenMichael LeeStephanie AriasJenna GreerCameron CordovaJeremy PayneNathan ArroyoRussell BanksJoshua RamirezJay KirkAlicia SchwartzAnna CamachoCarla WilsonJessica WrightWilliam BlackAshley TerryJeffery PowellDaniel SandersMichael GarnerMaria WilliamsBrenda RayChelsea LewisNicholas RamosJennifer WashingtonAudrey WellsBarbara WoodAndrea ThompsonJason CoxSarah RobinsonHeidi MartinJanet ChanJeffrey RobbinsTheresa NicholsAmy HansenJoshua BrownKent ShermanEddie AlvarezYvonne Robinson PhDJennifer RamosTracy MorrisonCrystal JohnsonApril TrujilloLisa SanchezDeborah NelsonKevin GoodwinAbigail PerezDonna RoseAndrew WintersJessica HartLauren KlineGregory AllisonThomas JohnsonVanessa StevensonKathleen BeltranMartha Mcdonald DVMKevin JohnsonDr. Mary SchwartzAnthony MeadowsErnest PowellDavid FergusonMariah HoltNancy MartinStacey ThompsonAndrew RyanMallory ChenErika BurchRobert MorrowAustin ChavezJustin WilsonLisa MurrayJeremy WattsJustin ChenRenee BuckleyShannon PriceBarbara WhiteheadJackie KirkAngel MayerDeborah AndersonJacqueline West DDSAnita ZunigaDavid ChapmanBeverly BauerJessica NguyenMelissa LewisAmanda SchaeferJacqueline Snow MDMarcus RushAngela StewartJorge HoDr. Jennifer SheaChristopher CantuJonathan HaleErin BowersAnthony HernandezEduardo SantiagoDana HaynesClayton Williams DVMNatalie WhitakerFrances WhiteMeghan AdamsStephen FitzgeraldAmy BairdMolly BrownAmanda SloanEric WilliamsEmma VasquezSherry GomezAaron CarterAlan ScottJennifer CannonLindsay NicholsonStephanie JonesJose SmithKimberly MooreMelissa SchultzSteven CalhounJohn BallZachary WilliamsKimberly JacksonKristen WilliamsonSamantha HoffmanDanielle GonzalezCharles IngramTimothy GravesAnna RodriguezAmanda KaneJoseph JonesDebra JacksonErik DunlapMeghan HarperJennifer PinedaJohn WhiteKaren FischerTodd DavisLarry Chandler Jr.Veronica PotterRobert VelezAshley WeissErika JohnsonJesus GordonKathy JacksonAshley WilliamsJuan LopezAnna HaynesDon MurrayJohn GarzaSteven WhiteDavid SalazarDaniel WrightRebecca MolinaBetty EricksonCameron Roman Jr.Kelly PierceSergio McfarlandJeffrey ChavezAmanda GalvanRonald PooleJohn WallaceGina AguilarMelissa SullivanJeffery ToddDaniel BurtonJulie AllisonCarolyn CookMike AllenAngela CostaKarina CalderonFelicia CampbellElizabeth DixonNancy WheelerMichael WatsonJennifer LevinePhilip ArnoldCrystal GonzalesMr. Ian SmithLawrence JohnsonPeter JonesChristopher RamirezNicolas JohnsonStephanie RhodesSarah MillerScott CortezChristopher CarrollWilliam RodriguezWyatt HarrisJacob CarlsonJason PerryJoshua FoxJames PerkinsChristine SanfordSarah SnyderDana ChavezJose HansenMelissa Hunt MDFrank RiveraLeah BishopAudrey FieldsRenee Garcia MDAngela WallJose GoldenAndrew RichardsonCynthia McleanMelissa FordKelsey SmithHeidi MasonLaura JohnsonAmanda MooreRobert AndersonMichael RobbinsSamantha ScottJoseph WareMaria DavisKenneth WatkinsMrs. Lori Rogers MDFrank BlackwellMichele TorresJason FergusonWilliam DurhamNicole HaynesCraig MorganEvan WilsonKenneth OlsonSeth GreenRoberto EscobarJustin SchneiderSarah PadillaAshley GardnerCourtney LutzAlbert SheaJennifer McguireJoseph RamosVictoria BakerClaudia WoodScott HughesCassandra HaasKathryn HannaDiana PhelpsKari HuangSara WellsJordan PetersonFrederick RochaKathryn YoungBrittany HodgesSherry GutierrezJohn GrantBenjamin RoweChelsey VillanuevaAlexandra MccarthyRhonda GarciaJon MatthewsKristen HartmanLynn RivasBrandy WestCarmen ThomasThomas LarsonKathryn CoxTasha ButlerChristopher ThompsonCollin ThomasJulia GeorgeChristopher ShermanAmy BooneJames JensenMonica BerryJonathan MckenzieMrs. Christina Mitchell DDSKatherine BrownJordan BrownElizabeth BrownColton KelleyMelanie KentElizabeth VargasNathan RomanAngela JonesAngela LopezBrian ThomasDouglas HawkinsIan GallagherJeffrey GarrisonTeresa WilliamsJustin MillerJill BakerJessica MitchellJoseph GeorgeCandace FrankEric SotoEmily Duran MDRandall MyersTravis LopezElizabeth GonzalezBrian HoldenTodd Grant Jr.Reginald AlvaradoMark BryantDesiree ClarkJulia ChristianTerry FuentesChristina MartinOlivia RiceKristen NealTimothy BrayJennifer YoungSonya JuarezCharles AveryJohnny BanksJames SanchezScott ProctorJessica MoranRobert FernandezMeredith MckeeKathryn StanleyRichard PooleStephanie GarnerStacey ContrerasCheryl OsborneNathaniel JohnsonRandy LewisMichelle DavisJonathan YoungAngel JacksonMichael KennedyLisa PinedaJennifer MurrayKristopher MurphyRobert WagnerMichael HowellMeagan WhitneyChristopher DavisRhonda LynchTara MarshKeith AndersonAdriana SnyderMelanie MillsAllison JohnsonDebra HowardJustin MartinezDarius AtkinsonTimothy JacksonAlison SmithCatherine HortonAndrew TaylorHunter FitzpatrickSarah KirkKristina GarzaZachary ChavezMrs. Wendy HayesKenneth Santiago MDAnthony JenkinsTeresa LeonardJonathan AdamsDr. Matthew HernandezDouglas HamiltonIan WilliamsTroy ScottChristopher LambLouis Hodges DDSRonald MartinezMonica CochranHarry SnowAmanda ColeJustin LeeSamantha CooperChristopher SmithDiane BradfordJeanette YoungLarry MonroeBradley MurphyNina ThomasMr. Michael GrahamDaniel OlsonAndrew HerreraMichelle FoxMike HillErika LoganJulia HowellWilliam BradleyElizabeth ParkAnthony SmithDonald ReevesJordan WardJeanne Fischer MDWilliam HinesJason SullivanMrs. Amanda RoseRobert HinesKimberly CollinsVeronica McmillanTeresa PerezMatthew McdonaldJason HuntRichard LevinePatricia PerryJohnny SchneiderJessica SmithAlan BurnettBobby NobleCatherine HarrisValerie ObrienRebecca Salazar DDSChristopher NelsonDiana PonceKenneth RaymondRay HoffmanMary GarzaRobert DiazMarie StanleyAmanda SolomonScott BrewerKathy BrightKristen CrossAbigail YoungMichael CooperDavid DavisSteven MyersNancy RossMark EverettSteve WalkerJonathan ByrdNicholas DiazStacy DavisAngela TownsendRichard Cherry DDSTimothy GriffinJames Holland MDNicholas TannerDavid DavisDaniel MartinezLauren CampbellTimothy GomezRobert LandryJamie BaileyKenneth AlexanderMatthew GarciaTanya HawkinsJacob PorterDr. Patricia BakerRebecca FloydMark JordanBryan MayerJenna DickersonMary EatonCynthia GeorgeKathy BurgessBrett JenningsFrank RobersonBrandon GardnerKim LewisEdward MunozDr. Rachel GilbertDonna RiddleChristopher TateMichael DavisLouis McdanielNicole BurgessDavid JensenNicole GoodwinChristopher WelchJared LynchNicole BuckDavid GutierrezStephanie HarrisonWilliam PetersonMolly MasonAlbert WrightJoshua FernandezKendra WardEarl CaldwellShane MartinezElizabeth JohnsonMelissa ParksJennifer PettyMichael LeeAustin MooreDustin MossKristine WadeJeffrey DavisLisa VasquezKenneth Avila Jr.Sergio MayDavid RichardsonAndrew PierceChristian MuellerDavid WoodRobin BrownTimothy HillSteven WebsterHenry RamirezMichael RomeroJody HunterCaitlyn SmithDesiree CastroMelanie EsparzaHolly McphersonZachary RiveraChristine HillBrandon FlowersMichael TuckerMisty HatfieldChristine BurtonJames SmithTracy SteinCharles HoltAmy BrownSummer HuntTodd WilliamsSteven NelsonMelissa TranShelby RodriguezBrian MoralesJennifer HuangElizabeth MunozSteven NewtonRobyn HernandezNicholas JonesCurtis LeeDr. Andrea RoseWendy PetersonJennifer HernandezCorey BerryNicole WilliamsRita ReynoldsSara OwensEvan MooreSarah BryantGail CampbellDylan FrancoLindsey NobleMatthew JacksonMorgan ThomasElizabeth ChaseErnest BarnesRichard SheltonKaren BridgesCynthia StoneKristin SloanJennifer CunninghamRebecca ChapmanStacey TerryJohn ShawMr. Eric GordonAmber DiazRachel KellyAshley WalterDaniel HaleyRobert HendrixDonna HolmesKenneth HowardDonald MillsMichael ScottThomas SandersTeresa SullivanBriana LucasKyle RobertsSheri ThomasJordan PattersonDeborah RollinsAllison WhiteTimothy StewartAmanda NelsonSydney KimThomas HinesMichael FoleyAnthony WadeRobert PerezWendy FinleySabrina RasmussenBilly Franco PhDJason FlemingMaxwell LeonardJonathan CooperRandy BlakeMatthew MillsTracy EspinozaBrandy KellerAnita ScottDiana BradleyJohn GonzalezAngela SimpsonHannah HicksCody WilcoxShane DavisThomas WallsDr. Alexander Chang PhDMr. Robert HendricksKimberly JonesMichele MooreLaura MillerJennifer GonzalezVanessa GarciaGerald KimWendy ShepardHarold PetersonEddie WilliamsShawn ObrienRobert HaneyKathryn GonzalesAmy RiceHannah BruceMichele TerryJennifer JohnsonDavid WrightCarlos SmithErnest WongWilliam PottsMark JeffersonNicole RollinsJohn QuinnAndrew ReidKristen KingMatthew WilsonArthur LeeLori WilliamsDaniel GarciaMs. Stephanie Schwartz DDSLoretta PerezRandall BanksAdrian DavisDebra SmithMary LawsonWhitney EstesMorgan AllenSteven HansonAustin KellyGrace HarrisonJose SchmittNatasha DaviesLawrence ZhangMichael BoydBarbara AndersonShannon BlairCarolyn HawkinsCharles MorrisDerrick CarrollCynthia MartinezJesus BooneRebecca JohnsonAndrew AllisonMadeline MonroeCristina HobbsLindsey NavarroMichael NielsenJason BrownBreanna MooreDonald MartinezAbigail EspinozaAdam GriffinKarla McneilRebecca KnappAlicia JohnsonGabriel ArroyoEdward EdwardsDaniel JohnsonKevin LongDr. Devin Sharp PhDKenneth AriasShannon TateKrystal MarshallAlexander McculloughRichard SmithMeagan BakerDavid FullerChad SmithRichard ReyesMadison WagnerWilliam BowenAnthony AlvaradoBrittney Hammond DVMBrandon BrownKristopher WrightMark WarrenElizabeth FrazierMark BaileyChristopher MontgomeryElizabeth WallerLouis WoodsBrandy MitchellRoger KingTara DouglasMelissa OwensDavid GonzalezTodd WilliamsNathaniel OconnellTravis GreenLuke FryDouglas WoodsChristopher SilvaJacob TerryNancy HarrisonMichael SullivanMiss Norma McfarlandLaurie DoughertyJoshua TaylorAndrew CampbellHeather BellBradley MartinezAmy LeeDavid GoodAaron NelsonRobert TylerJaclyn WilliamsJoe KochDerek LopezAngela BryantWalter MaxwellDennis KleinNancy NelsonJason DrakeMary AcevedoDakota AdamsDaryl GregoryKathleen LoveJames ChavezDawn LewisEric ThompsonBrittany EdwardsCharles BaileyGina SimsJohn McdanielHeather ScottChristine GarciaTracy LoweryJay RobertsBrandon OrtizElizabeth EllisonPatricia WoodTroy MorganAdriana WallEric LewisRobert DukeCarol TorresRobert HooperMandy HensleyKayla PetersenReginald MolinaTasha GrayDawn ChristensenMarcus WilsonJason RodriguezKimberly FisherMichael JohnsonPatricia VillanuevaDavid TorresHeather RobinsonKathryn BernardDebbie TurnerKayla BurtonAmanda BatesKathleen KnoxMr. Colton Collins IIJamie MasonDwayne SmithCynthia CastilloBrandon WilliamsCrystal MaldonadoHaley GreenKimberly PorterElizabeth CarrilloJames HowellAnthony WelchTammie RogersSteven LeSharon PadillaJonathan GardnerJulie DavisStacie HollandDiana GarrettJessica SchmidtMallory GravesKerry HendersonBrandon VaughnAnita WilsonNancy SmithAshley LopezMichael ParkMr. Mason Hernandez MDCindy PowellKayla ScottKimberly JohnstonAnn FloresBrittney AdamsPatricia MillerJonathan GallowayVeronica GriffithMichelle RamosJoe NunezKathy BushEmily HessChase HortonBrittany CarrCharles GonzalezThomas AlvarezJason OrtizRhonda FergusonBrenda DixonKenneth BrooksTyler SmithAlison AndersonBethany HarveyNicholas CostaRyan AllenGabriel Ashley'",
      "\nDuring handling of the above exception, another exception occurred:\n",
      "\u001b[1;31mValueError\u001b[0m                                Traceback (most recent call last)",
      "File \u001b[1;32mc:\\Users\\15623\\anaconda3\\Lib\\site-packages\\pandas\\core\\nanops.py:1696\u001b[0m, in \u001b[0;36m_ensure_numeric\u001b[1;34m(x)\u001b[0m\n\u001b[0;32m   1695\u001b[0m \u001b[39mtry\u001b[39;00m:\n\u001b[1;32m-> 1696\u001b[0m     x \u001b[39m=\u001b[39m \u001b[39mcomplex\u001b[39m(x)\n\u001b[0;32m   1697\u001b[0m \u001b[39mexcept\u001b[39;00m \u001b[39mValueError\u001b[39;00m \u001b[39mas\u001b[39;00m err:\n\u001b[0;32m   1698\u001b[0m     \u001b[39m# e.g. \"foo\"\u001b[39;00m\n",
      "\u001b[1;31mValueError\u001b[0m: complex() arg is a malformed string",
      "\nThe above exception was the direct cause of the following exception:\n",
      "\u001b[1;31mTypeError\u001b[0m                                 Traceback (most recent call last)",
      "\u001b[1;32mc:\\Users\\15623\\Documents\\UCI Bootcamp 2023\\Module 4\\Starter_Code\\PyCitySchools\\PyCitySchools_starter.ipynb Cell 30\u001b[0m line \u001b[0;36m8\n\u001b[0;32m      <a href='vscode-notebook-cell:/c%3A/Users/15623/Documents/UCI%20Bootcamp%202023/Module%204/Starter_Code/PyCitySchools/PyCitySchools_starter.ipynb#X41sZmlsZQ%3D%3D?line=4'>5</a>\u001b[0m twelfth_graders \u001b[39m=\u001b[39m school_data_complete[(school_data_complete[\u001b[39m\"\u001b[39m\u001b[39mgrade\u001b[39m\u001b[39m\"\u001b[39m] \u001b[39m==\u001b[39m \u001b[39m\"\u001b[39m\u001b[39m12th\u001b[39m\u001b[39m\"\u001b[39m)]\n\u001b[0;32m      <a href='vscode-notebook-cell:/c%3A/Users/15623/Documents/UCI%20Bootcamp%202023/Module%204/Starter_Code/PyCitySchools/PyCitySchools_starter.ipynb#X41sZmlsZQ%3D%3D?line=6'>7</a>\u001b[0m \u001b[39m# Group by \"school_name\" and take the mean of each.\u001b[39;00m\n\u001b[1;32m----> <a href='vscode-notebook-cell:/c%3A/Users/15623/Documents/UCI%20Bootcamp%202023/Module%204/Starter_Code/PyCitySchools/PyCitySchools_starter.ipynb#X41sZmlsZQ%3D%3D?line=7'>8</a>\u001b[0m ninth_graders_scores \u001b[39m=\u001b[39m ninth_graders\u001b[39m.\u001b[39mgroupby([\u001b[39m\"\u001b[39m\u001b[39mschool_name\u001b[39m\u001b[39m\"\u001b[39m])\u001b[39m.\u001b[39mmean()[\u001b[39m\"\u001b[39m\u001b[39mreading_score\u001b[39m\u001b[39m\"\u001b[39m]\n\u001b[0;32m      <a href='vscode-notebook-cell:/c%3A/Users/15623/Documents/UCI%20Bootcamp%202023/Module%204/Starter_Code/PyCitySchools/PyCitySchools_starter.ipynb#X41sZmlsZQ%3D%3D?line=8'>9</a>\u001b[0m tenth_graders_scores \u001b[39m=\u001b[39m tenth_graders\u001b[39m.\u001b[39mgroupby([\u001b[39m\"\u001b[39m\u001b[39mschool_name\u001b[39m\u001b[39m\"\u001b[39m])\u001b[39m.\u001b[39mmean()[\u001b[39m\"\u001b[39m\u001b[39mreading_score\u001b[39m\u001b[39m\"\u001b[39m]\n\u001b[0;32m     <a href='vscode-notebook-cell:/c%3A/Users/15623/Documents/UCI%20Bootcamp%202023/Module%204/Starter_Code/PyCitySchools/PyCitySchools_starter.ipynb#X41sZmlsZQ%3D%3D?line=9'>10</a>\u001b[0m eleventh_graders_scores \u001b[39m=\u001b[39m eleventh_graders\u001b[39m.\u001b[39mgroupby([\u001b[39m\"\u001b[39m\u001b[39mschool_name\u001b[39m\u001b[39m\"\u001b[39m])\u001b[39m.\u001b[39mmean()[\u001b[39m\"\u001b[39m\u001b[39mreading_score\u001b[39m\u001b[39m\"\u001b[39m]\n",
      "File \u001b[1;32mc:\\Users\\15623\\anaconda3\\Lib\\site-packages\\pandas\\core\\groupby\\groupby.py:1855\u001b[0m, in \u001b[0;36mGroupBy.mean\u001b[1;34m(self, numeric_only, engine, engine_kwargs)\u001b[0m\n\u001b[0;32m   1853\u001b[0m     \u001b[39mreturn\u001b[39;00m \u001b[39mself\u001b[39m\u001b[39m.\u001b[39m_numba_agg_general(sliding_mean, engine_kwargs)\n\u001b[0;32m   1854\u001b[0m \u001b[39melse\u001b[39;00m:\n\u001b[1;32m-> 1855\u001b[0m     result \u001b[39m=\u001b[39m \u001b[39mself\u001b[39m\u001b[39m.\u001b[39m_cython_agg_general(\n\u001b[0;32m   1856\u001b[0m         \u001b[39m\"\u001b[39m\u001b[39mmean\u001b[39m\u001b[39m\"\u001b[39m,\n\u001b[0;32m   1857\u001b[0m         alt\u001b[39m=\u001b[39m\u001b[39mlambda\u001b[39;00m x: Series(x)\u001b[39m.\u001b[39mmean(numeric_only\u001b[39m=\u001b[39mnumeric_only),\n\u001b[0;32m   1858\u001b[0m         numeric_only\u001b[39m=\u001b[39mnumeric_only,\n\u001b[0;32m   1859\u001b[0m     )\n\u001b[0;32m   1860\u001b[0m     \u001b[39mreturn\u001b[39;00m result\u001b[39m.\u001b[39m__finalize__(\u001b[39mself\u001b[39m\u001b[39m.\u001b[39mobj, method\u001b[39m=\u001b[39m\u001b[39m\"\u001b[39m\u001b[39mgroupby\u001b[39m\u001b[39m\"\u001b[39m)\n",
      "File \u001b[1;32mc:\\Users\\15623\\anaconda3\\Lib\\site-packages\\pandas\\core\\groupby\\groupby.py:1507\u001b[0m, in \u001b[0;36mGroupBy._cython_agg_general\u001b[1;34m(self, how, alt, numeric_only, min_count, **kwargs)\u001b[0m\n\u001b[0;32m   1503\u001b[0m         result \u001b[39m=\u001b[39m \u001b[39mself\u001b[39m\u001b[39m.\u001b[39m_agg_py_fallback(values, ndim\u001b[39m=\u001b[39mdata\u001b[39m.\u001b[39mndim, alt\u001b[39m=\u001b[39malt)\n\u001b[0;32m   1505\u001b[0m     \u001b[39mreturn\u001b[39;00m result\n\u001b[1;32m-> 1507\u001b[0m new_mgr \u001b[39m=\u001b[39m data\u001b[39m.\u001b[39mgrouped_reduce(array_func)\n\u001b[0;32m   1508\u001b[0m res \u001b[39m=\u001b[39m \u001b[39mself\u001b[39m\u001b[39m.\u001b[39m_wrap_agged_manager(new_mgr)\n\u001b[0;32m   1509\u001b[0m out \u001b[39m=\u001b[39m \u001b[39mself\u001b[39m\u001b[39m.\u001b[39m_wrap_aggregated_output(res)\n",
      "File \u001b[1;32mc:\\Users\\15623\\anaconda3\\Lib\\site-packages\\pandas\\core\\internals\\managers.py:1503\u001b[0m, in \u001b[0;36mBlockManager.grouped_reduce\u001b[1;34m(self, func)\u001b[0m\n\u001b[0;32m   1499\u001b[0m \u001b[39mif\u001b[39;00m blk\u001b[39m.\u001b[39mis_object:\n\u001b[0;32m   1500\u001b[0m     \u001b[39m# split on object-dtype blocks bc some columns may raise\u001b[39;00m\n\u001b[0;32m   1501\u001b[0m     \u001b[39m#  while others do not.\u001b[39;00m\n\u001b[0;32m   1502\u001b[0m     \u001b[39mfor\u001b[39;00m sb \u001b[39min\u001b[39;00m blk\u001b[39m.\u001b[39m_split():\n\u001b[1;32m-> 1503\u001b[0m         applied \u001b[39m=\u001b[39m sb\u001b[39m.\u001b[39mapply(func)\n\u001b[0;32m   1504\u001b[0m         result_blocks \u001b[39m=\u001b[39m extend_blocks(applied, result_blocks)\n\u001b[0;32m   1505\u001b[0m \u001b[39melse\u001b[39;00m:\n",
      "File \u001b[1;32mc:\\Users\\15623\\anaconda3\\Lib\\site-packages\\pandas\\core\\internals\\blocks.py:329\u001b[0m, in \u001b[0;36mBlock.apply\u001b[1;34m(self, func, **kwargs)\u001b[0m\n\u001b[0;32m    323\u001b[0m \u001b[39m@final\u001b[39m\n\u001b[0;32m    324\u001b[0m \u001b[39mdef\u001b[39;00m \u001b[39mapply\u001b[39m(\u001b[39mself\u001b[39m, func, \u001b[39m*\u001b[39m\u001b[39m*\u001b[39mkwargs) \u001b[39m-\u001b[39m\u001b[39m>\u001b[39m \u001b[39mlist\u001b[39m[Block]:\n\u001b[0;32m    325\u001b[0m \u001b[39m    \u001b[39m\u001b[39m\"\"\"\u001b[39;00m\n\u001b[0;32m    326\u001b[0m \u001b[39m    apply the function to my values; return a block if we are not\u001b[39;00m\n\u001b[0;32m    327\u001b[0m \u001b[39m    one\u001b[39;00m\n\u001b[0;32m    328\u001b[0m \u001b[39m    \"\"\"\u001b[39;00m\n\u001b[1;32m--> 329\u001b[0m     result \u001b[39m=\u001b[39m func(\u001b[39mself\u001b[39m\u001b[39m.\u001b[39mvalues, \u001b[39m*\u001b[39m\u001b[39m*\u001b[39mkwargs)\n\u001b[0;32m    331\u001b[0m     \u001b[39mreturn\u001b[39;00m \u001b[39mself\u001b[39m\u001b[39m.\u001b[39m_split_op_result(result)\n",
      "File \u001b[1;32mc:\\Users\\15623\\anaconda3\\Lib\\site-packages\\pandas\\core\\groupby\\groupby.py:1503\u001b[0m, in \u001b[0;36mGroupBy._cython_agg_general.<locals>.array_func\u001b[1;34m(values)\u001b[0m\n\u001b[0;32m   1490\u001b[0m     result \u001b[39m=\u001b[39m \u001b[39mself\u001b[39m\u001b[39m.\u001b[39mgrouper\u001b[39m.\u001b[39m_cython_operation(\n\u001b[0;32m   1491\u001b[0m         \u001b[39m\"\u001b[39m\u001b[39maggregate\u001b[39m\u001b[39m\"\u001b[39m,\n\u001b[0;32m   1492\u001b[0m         values,\n\u001b[1;32m   (...)\u001b[0m\n\u001b[0;32m   1496\u001b[0m         \u001b[39m*\u001b[39m\u001b[39m*\u001b[39mkwargs,\n\u001b[0;32m   1497\u001b[0m     )\n\u001b[0;32m   1498\u001b[0m \u001b[39mexcept\u001b[39;00m \u001b[39mNotImplementedError\u001b[39;00m:\n\u001b[0;32m   1499\u001b[0m     \u001b[39m# generally if we have numeric_only=False\u001b[39;00m\n\u001b[0;32m   1500\u001b[0m     \u001b[39m# and non-applicable functions\u001b[39;00m\n\u001b[0;32m   1501\u001b[0m     \u001b[39m# try to python agg\u001b[39;00m\n\u001b[0;32m   1502\u001b[0m     \u001b[39m# TODO: shouldn't min_count matter?\u001b[39;00m\n\u001b[1;32m-> 1503\u001b[0m     result \u001b[39m=\u001b[39m \u001b[39mself\u001b[39m\u001b[39m.\u001b[39m_agg_py_fallback(values, ndim\u001b[39m=\u001b[39mdata\u001b[39m.\u001b[39mndim, alt\u001b[39m=\u001b[39malt)\n\u001b[0;32m   1505\u001b[0m \u001b[39mreturn\u001b[39;00m result\n",
      "File \u001b[1;32mc:\\Users\\15623\\anaconda3\\Lib\\site-packages\\pandas\\core\\groupby\\groupby.py:1457\u001b[0m, in \u001b[0;36mGroupBy._agg_py_fallback\u001b[1;34m(self, values, ndim, alt)\u001b[0m\n\u001b[0;32m   1452\u001b[0m     ser \u001b[39m=\u001b[39m df\u001b[39m.\u001b[39miloc[:, \u001b[39m0\u001b[39m]\n\u001b[0;32m   1454\u001b[0m \u001b[39m# We do not get here with UDFs, so we know that our dtype\u001b[39;00m\n\u001b[0;32m   1455\u001b[0m \u001b[39m#  should always be preserved by the implemented aggregations\u001b[39;00m\n\u001b[0;32m   1456\u001b[0m \u001b[39m# TODO: Is this exactly right; see WrappedCythonOp get_result_dtype?\u001b[39;00m\n\u001b[1;32m-> 1457\u001b[0m res_values \u001b[39m=\u001b[39m \u001b[39mself\u001b[39m\u001b[39m.\u001b[39mgrouper\u001b[39m.\u001b[39magg_series(ser, alt, preserve_dtype\u001b[39m=\u001b[39m\u001b[39mTrue\u001b[39;00m)\n\u001b[0;32m   1459\u001b[0m \u001b[39mif\u001b[39;00m \u001b[39misinstance\u001b[39m(values, Categorical):\n\u001b[0;32m   1460\u001b[0m     \u001b[39m# Because we only get here with known dtype-preserving\u001b[39;00m\n\u001b[0;32m   1461\u001b[0m     \u001b[39m#  reductions, we cast back to Categorical.\u001b[39;00m\n\u001b[0;32m   1462\u001b[0m     \u001b[39m# TODO: if we ever get \"rank\" working, exclude it here.\u001b[39;00m\n\u001b[0;32m   1463\u001b[0m     res_values \u001b[39m=\u001b[39m \u001b[39mtype\u001b[39m(values)\u001b[39m.\u001b[39m_from_sequence(res_values, dtype\u001b[39m=\u001b[39mvalues\u001b[39m.\u001b[39mdtype)\n",
      "File \u001b[1;32mc:\\Users\\15623\\anaconda3\\Lib\\site-packages\\pandas\\core\\groupby\\ops.py:994\u001b[0m, in \u001b[0;36mBaseGrouper.agg_series\u001b[1;34m(self, obj, func, preserve_dtype)\u001b[0m\n\u001b[0;32m    987\u001b[0m \u001b[39mif\u001b[39;00m \u001b[39mlen\u001b[39m(obj) \u001b[39m>\u001b[39m \u001b[39m0\u001b[39m \u001b[39mand\u001b[39;00m \u001b[39mnot\u001b[39;00m \u001b[39misinstance\u001b[39m(obj\u001b[39m.\u001b[39m_values, np\u001b[39m.\u001b[39mndarray):\n\u001b[0;32m    988\u001b[0m     \u001b[39m# we can preserve a little bit more aggressively with EA dtype\u001b[39;00m\n\u001b[0;32m    989\u001b[0m     \u001b[39m#  because maybe_cast_pointwise_result will do a try/except\u001b[39;00m\n\u001b[0;32m    990\u001b[0m     \u001b[39m#  with _from_sequence.  NB we are assuming here that _from_sequence\u001b[39;00m\n\u001b[0;32m    991\u001b[0m     \u001b[39m#  is sufficiently strict that it casts appropriately.\u001b[39;00m\n\u001b[0;32m    992\u001b[0m     preserve_dtype \u001b[39m=\u001b[39m \u001b[39mTrue\u001b[39;00m\n\u001b[1;32m--> 994\u001b[0m result \u001b[39m=\u001b[39m \u001b[39mself\u001b[39m\u001b[39m.\u001b[39m_aggregate_series_pure_python(obj, func)\n\u001b[0;32m    996\u001b[0m npvalues \u001b[39m=\u001b[39m lib\u001b[39m.\u001b[39mmaybe_convert_objects(result, try_float\u001b[39m=\u001b[39m\u001b[39mFalse\u001b[39;00m)\n\u001b[0;32m    997\u001b[0m \u001b[39mif\u001b[39;00m preserve_dtype:\n",
      "File \u001b[1;32mc:\\Users\\15623\\anaconda3\\Lib\\site-packages\\pandas\\core\\groupby\\ops.py:1015\u001b[0m, in \u001b[0;36mBaseGrouper._aggregate_series_pure_python\u001b[1;34m(self, obj, func)\u001b[0m\n\u001b[0;32m   1012\u001b[0m splitter \u001b[39m=\u001b[39m \u001b[39mself\u001b[39m\u001b[39m.\u001b[39m_get_splitter(obj, axis\u001b[39m=\u001b[39m\u001b[39m0\u001b[39m)\n\u001b[0;32m   1014\u001b[0m \u001b[39mfor\u001b[39;00m i, group \u001b[39min\u001b[39;00m \u001b[39menumerate\u001b[39m(splitter):\n\u001b[1;32m-> 1015\u001b[0m     res \u001b[39m=\u001b[39m func(group)\n\u001b[0;32m   1016\u001b[0m     res \u001b[39m=\u001b[39m libreduction\u001b[39m.\u001b[39mextract_result(res)\n\u001b[0;32m   1018\u001b[0m     \u001b[39mif\u001b[39;00m \u001b[39mnot\u001b[39;00m initialized:\n\u001b[0;32m   1019\u001b[0m         \u001b[39m# We only do this validation on the first iteration\u001b[39;00m\n",
      "File \u001b[1;32mc:\\Users\\15623\\anaconda3\\Lib\\site-packages\\pandas\\core\\groupby\\groupby.py:1857\u001b[0m, in \u001b[0;36mGroupBy.mean.<locals>.<lambda>\u001b[1;34m(x)\u001b[0m\n\u001b[0;32m   1853\u001b[0m     \u001b[39mreturn\u001b[39;00m \u001b[39mself\u001b[39m\u001b[39m.\u001b[39m_numba_agg_general(sliding_mean, engine_kwargs)\n\u001b[0;32m   1854\u001b[0m \u001b[39melse\u001b[39;00m:\n\u001b[0;32m   1855\u001b[0m     result \u001b[39m=\u001b[39m \u001b[39mself\u001b[39m\u001b[39m.\u001b[39m_cython_agg_general(\n\u001b[0;32m   1856\u001b[0m         \u001b[39m\"\u001b[39m\u001b[39mmean\u001b[39m\u001b[39m\"\u001b[39m,\n\u001b[1;32m-> 1857\u001b[0m         alt\u001b[39m=\u001b[39m\u001b[39mlambda\u001b[39;00m x: Series(x)\u001b[39m.\u001b[39mmean(numeric_only\u001b[39m=\u001b[39mnumeric_only),\n\u001b[0;32m   1858\u001b[0m         numeric_only\u001b[39m=\u001b[39mnumeric_only,\n\u001b[0;32m   1859\u001b[0m     )\n\u001b[0;32m   1860\u001b[0m     \u001b[39mreturn\u001b[39;00m result\u001b[39m.\u001b[39m__finalize__(\u001b[39mself\u001b[39m\u001b[39m.\u001b[39mobj, method\u001b[39m=\u001b[39m\u001b[39m\"\u001b[39m\u001b[39mgroupby\u001b[39m\u001b[39m\"\u001b[39m)\n",
      "File \u001b[1;32mc:\\Users\\15623\\anaconda3\\Lib\\site-packages\\pandas\\core\\generic.py:11556\u001b[0m, in \u001b[0;36mNDFrame._add_numeric_operations.<locals>.mean\u001b[1;34m(self, axis, skipna, numeric_only, **kwargs)\u001b[0m\n\u001b[0;32m  11539\u001b[0m \u001b[39m@doc\u001b[39m(\n\u001b[0;32m  11540\u001b[0m     _num_doc,\n\u001b[0;32m  11541\u001b[0m     desc\u001b[39m=\u001b[39m\u001b[39m\"\u001b[39m\u001b[39mReturn the mean of the values over the requested axis.\u001b[39m\u001b[39m\"\u001b[39m,\n\u001b[1;32m   (...)\u001b[0m\n\u001b[0;32m  11554\u001b[0m     \u001b[39m*\u001b[39m\u001b[39m*\u001b[39mkwargs,\n\u001b[0;32m  11555\u001b[0m ):\n\u001b[1;32m> 11556\u001b[0m     \u001b[39mreturn\u001b[39;00m NDFrame\u001b[39m.\u001b[39mmean(\u001b[39mself\u001b[39m, axis, skipna, numeric_only, \u001b[39m*\u001b[39m\u001b[39m*\u001b[39mkwargs)\n",
      "File \u001b[1;32mc:\\Users\\15623\\anaconda3\\Lib\\site-packages\\pandas\\core\\generic.py:11201\u001b[0m, in \u001b[0;36mNDFrame.mean\u001b[1;34m(self, axis, skipna, numeric_only, **kwargs)\u001b[0m\n\u001b[0;32m  11194\u001b[0m \u001b[39mdef\u001b[39;00m \u001b[39mmean\u001b[39m(\n\u001b[0;32m  11195\u001b[0m     \u001b[39mself\u001b[39m,\n\u001b[0;32m  11196\u001b[0m     axis: Axis \u001b[39m|\u001b[39m \u001b[39mNone\u001b[39;00m \u001b[39m=\u001b[39m \u001b[39m0\u001b[39m,\n\u001b[1;32m   (...)\u001b[0m\n\u001b[0;32m  11199\u001b[0m     \u001b[39m*\u001b[39m\u001b[39m*\u001b[39mkwargs,\n\u001b[0;32m  11200\u001b[0m ) \u001b[39m-\u001b[39m\u001b[39m>\u001b[39m Series \u001b[39m|\u001b[39m \u001b[39mfloat\u001b[39m:\n\u001b[1;32m> 11201\u001b[0m     \u001b[39mreturn\u001b[39;00m \u001b[39mself\u001b[39m\u001b[39m.\u001b[39m_stat_function(\n\u001b[0;32m  11202\u001b[0m         \u001b[39m\"\u001b[39m\u001b[39mmean\u001b[39m\u001b[39m\"\u001b[39m, nanops\u001b[39m.\u001b[39mnanmean, axis, skipna, numeric_only, \u001b[39m*\u001b[39m\u001b[39m*\u001b[39mkwargs\n\u001b[0;32m  11203\u001b[0m     )\n",
      "File \u001b[1;32mc:\\Users\\15623\\anaconda3\\Lib\\site-packages\\pandas\\core\\generic.py:11158\u001b[0m, in \u001b[0;36mNDFrame._stat_function\u001b[1;34m(self, name, func, axis, skipna, numeric_only, **kwargs)\u001b[0m\n\u001b[0;32m  11154\u001b[0m     nv\u001b[39m.\u001b[39mvalidate_stat_func((), kwargs, fname\u001b[39m=\u001b[39mname)\n\u001b[0;32m  11156\u001b[0m validate_bool_kwarg(skipna, \u001b[39m\"\u001b[39m\u001b[39mskipna\u001b[39m\u001b[39m\"\u001b[39m, none_allowed\u001b[39m=\u001b[39m\u001b[39mFalse\u001b[39;00m)\n\u001b[1;32m> 11158\u001b[0m \u001b[39mreturn\u001b[39;00m \u001b[39mself\u001b[39m\u001b[39m.\u001b[39m_reduce(\n\u001b[0;32m  11159\u001b[0m     func, name\u001b[39m=\u001b[39mname, axis\u001b[39m=\u001b[39maxis, skipna\u001b[39m=\u001b[39mskipna, numeric_only\u001b[39m=\u001b[39mnumeric_only\n\u001b[0;32m  11160\u001b[0m )\n",
      "File \u001b[1;32mc:\\Users\\15623\\anaconda3\\Lib\\site-packages\\pandas\\core\\series.py:4670\u001b[0m, in \u001b[0;36mSeries._reduce\u001b[1;34m(self, op, name, axis, skipna, numeric_only, filter_type, **kwds)\u001b[0m\n\u001b[0;32m   4665\u001b[0m     \u001b[39mraise\u001b[39;00m \u001b[39mTypeError\u001b[39;00m(\n\u001b[0;32m   4666\u001b[0m         \u001b[39mf\u001b[39m\u001b[39m\"\u001b[39m\u001b[39mSeries.\u001b[39m\u001b[39m{\u001b[39;00mname\u001b[39m}\u001b[39;00m\u001b[39m does not allow \u001b[39m\u001b[39m{\u001b[39;00mkwd_name\u001b[39m}\u001b[39;00m\u001b[39m=\u001b[39m\u001b[39m{\u001b[39;00mnumeric_only\u001b[39m}\u001b[39;00m\u001b[39m \u001b[39m\u001b[39m\"\u001b[39m\n\u001b[0;32m   4667\u001b[0m         \u001b[39m\"\u001b[39m\u001b[39mwith non-numeric dtypes.\u001b[39m\u001b[39m\"\u001b[39m\n\u001b[0;32m   4668\u001b[0m     )\n\u001b[0;32m   4669\u001b[0m \u001b[39mwith\u001b[39;00m np\u001b[39m.\u001b[39merrstate(\u001b[39mall\u001b[39m\u001b[39m=\u001b[39m\u001b[39m\"\u001b[39m\u001b[39mignore\u001b[39m\u001b[39m\"\u001b[39m):\n\u001b[1;32m-> 4670\u001b[0m     \u001b[39mreturn\u001b[39;00m op(delegate, skipna\u001b[39m=\u001b[39mskipna, \u001b[39m*\u001b[39m\u001b[39m*\u001b[39mkwds)\n",
      "File \u001b[1;32mc:\\Users\\15623\\anaconda3\\Lib\\site-packages\\pandas\\core\\nanops.py:96\u001b[0m, in \u001b[0;36mdisallow.__call__.<locals>._f\u001b[1;34m(*args, **kwargs)\u001b[0m\n\u001b[0;32m     94\u001b[0m \u001b[39mtry\u001b[39;00m:\n\u001b[0;32m     95\u001b[0m     \u001b[39mwith\u001b[39;00m np\u001b[39m.\u001b[39merrstate(invalid\u001b[39m=\u001b[39m\u001b[39m\"\u001b[39m\u001b[39mignore\u001b[39m\u001b[39m\"\u001b[39m):\n\u001b[1;32m---> 96\u001b[0m         \u001b[39mreturn\u001b[39;00m f(\u001b[39m*\u001b[39margs, \u001b[39m*\u001b[39m\u001b[39m*\u001b[39mkwargs)\n\u001b[0;32m     97\u001b[0m \u001b[39mexcept\u001b[39;00m \u001b[39mValueError\u001b[39;00m \u001b[39mas\u001b[39;00m e:\n\u001b[0;32m     98\u001b[0m     \u001b[39m# we want to transform an object array\u001b[39;00m\n\u001b[0;32m     99\u001b[0m     \u001b[39m# ValueError message to the more typical TypeError\u001b[39;00m\n\u001b[0;32m    100\u001b[0m     \u001b[39m# e.g. this is normally a disallowed function on\u001b[39;00m\n\u001b[0;32m    101\u001b[0m     \u001b[39m# object arrays that contain strings\u001b[39;00m\n\u001b[0;32m    102\u001b[0m     \u001b[39mif\u001b[39;00m is_object_dtype(args[\u001b[39m0\u001b[39m]):\n",
      "File \u001b[1;32mc:\\Users\\15623\\anaconda3\\Lib\\site-packages\\pandas\\core\\nanops.py:158\u001b[0m, in \u001b[0;36mbottleneck_switch.__call__.<locals>.f\u001b[1;34m(values, axis, skipna, **kwds)\u001b[0m\n\u001b[0;32m    156\u001b[0m         result \u001b[39m=\u001b[39m alt(values, axis\u001b[39m=\u001b[39maxis, skipna\u001b[39m=\u001b[39mskipna, \u001b[39m*\u001b[39m\u001b[39m*\u001b[39mkwds)\n\u001b[0;32m    157\u001b[0m \u001b[39melse\u001b[39;00m:\n\u001b[1;32m--> 158\u001b[0m     result \u001b[39m=\u001b[39m alt(values, axis\u001b[39m=\u001b[39maxis, skipna\u001b[39m=\u001b[39mskipna, \u001b[39m*\u001b[39m\u001b[39m*\u001b[39mkwds)\n\u001b[0;32m    160\u001b[0m \u001b[39mreturn\u001b[39;00m result\n",
      "File \u001b[1;32mc:\\Users\\15623\\anaconda3\\Lib\\site-packages\\pandas\\core\\nanops.py:421\u001b[0m, in \u001b[0;36m_datetimelike_compat.<locals>.new_func\u001b[1;34m(values, axis, skipna, mask, **kwargs)\u001b[0m\n\u001b[0;32m    418\u001b[0m \u001b[39mif\u001b[39;00m datetimelike \u001b[39mand\u001b[39;00m mask \u001b[39mis\u001b[39;00m \u001b[39mNone\u001b[39;00m:\n\u001b[0;32m    419\u001b[0m     mask \u001b[39m=\u001b[39m isna(values)\n\u001b[1;32m--> 421\u001b[0m result \u001b[39m=\u001b[39m func(values, axis\u001b[39m=\u001b[39maxis, skipna\u001b[39m=\u001b[39mskipna, mask\u001b[39m=\u001b[39mmask, \u001b[39m*\u001b[39m\u001b[39m*\u001b[39mkwargs)\n\u001b[0;32m    423\u001b[0m \u001b[39mif\u001b[39;00m datetimelike:\n\u001b[0;32m    424\u001b[0m     result \u001b[39m=\u001b[39m _wrap_results(result, orig_values\u001b[39m.\u001b[39mdtype, fill_value\u001b[39m=\u001b[39miNaT)\n",
      "File \u001b[1;32mc:\\Users\\15623\\anaconda3\\Lib\\site-packages\\pandas\\core\\nanops.py:727\u001b[0m, in \u001b[0;36mnanmean\u001b[1;34m(values, axis, skipna, mask)\u001b[0m\n\u001b[0;32m    724\u001b[0m     dtype_count \u001b[39m=\u001b[39m dtype\n\u001b[0;32m    726\u001b[0m count \u001b[39m=\u001b[39m _get_counts(values\u001b[39m.\u001b[39mshape, mask, axis, dtype\u001b[39m=\u001b[39mdtype_count)\n\u001b[1;32m--> 727\u001b[0m the_sum \u001b[39m=\u001b[39m _ensure_numeric(values\u001b[39m.\u001b[39msum(axis, dtype\u001b[39m=\u001b[39mdtype_sum))\n\u001b[0;32m    729\u001b[0m \u001b[39mif\u001b[39;00m axis \u001b[39mis\u001b[39;00m \u001b[39mnot\u001b[39;00m \u001b[39mNone\u001b[39;00m \u001b[39mand\u001b[39;00m \u001b[39mgetattr\u001b[39m(the_sum, \u001b[39m\"\u001b[39m\u001b[39mndim\u001b[39m\u001b[39m\"\u001b[39m, \u001b[39mFalse\u001b[39;00m):\n\u001b[0;32m    730\u001b[0m     count \u001b[39m=\u001b[39m cast(np\u001b[39m.\u001b[39mndarray, count)\n",
      "File \u001b[1;32mc:\\Users\\15623\\anaconda3\\Lib\\site-packages\\pandas\\core\\nanops.py:1699\u001b[0m, in \u001b[0;36m_ensure_numeric\u001b[1;34m(x)\u001b[0m\n\u001b[0;32m   1696\u001b[0m             x \u001b[39m=\u001b[39m \u001b[39mcomplex\u001b[39m(x)\n\u001b[0;32m   1697\u001b[0m         \u001b[39mexcept\u001b[39;00m \u001b[39mValueError\u001b[39;00m \u001b[39mas\u001b[39;00m err:\n\u001b[0;32m   1698\u001b[0m             \u001b[39m# e.g. \"foo\"\u001b[39;00m\n\u001b[1;32m-> 1699\u001b[0m             \u001b[39mraise\u001b[39;00m \u001b[39mTypeError\u001b[39;00m(\u001b[39mf\u001b[39m\u001b[39m\"\u001b[39m\u001b[39mCould not convert \u001b[39m\u001b[39m{\u001b[39;00mx\u001b[39m}\u001b[39;00m\u001b[39m to numeric\u001b[39m\u001b[39m\"\u001b[39m) \u001b[39mfrom\u001b[39;00m \u001b[39merr\u001b[39;00m\n\u001b[0;32m   1700\u001b[0m \u001b[39mreturn\u001b[39;00m x\n",
      "\u001b[1;31mTypeError\u001b[0m: Could not convert Blake MartinFrank MarshCharles Goodman Jr.Aaron MoyerMichael DeanRobin VegaKenneth JuarezGerald SmithDavid HernandezMatthew SinghJeremiah WhiteLisa AguilarDanielle HarrisKristin JohnsonKevin MartinAnna MyersTimothy HigginsAnthony FordNicole RoseChristopher LongMr. Michael AllenCasey JonesJoseph KellyDebra BrownJacqueline SheaSara MurphyNatalie GrantPeter MillerDavid CannonValerie MayApril FisherBradley HunterJohn WilliamsonAnthony SpencerJoseph AllenAngela WallJames FerrellRobert RodriguezDarius WilliamsBrian TrevinoAndrea GreenAustin JohnstonGuy ThomasDesiree GordonScott ClarkLinda SinghWilliam PerryTerry SantanaApril StevensAnthony TorresWayne GuerreroMonique CarterChristine LeeJay SmithRobert ReyesRichard MacdonaldJonathan TuckerChelsea KempMelissa BowmanWilliam SimpsonAmanda DavisBrandon MedinaPatricia WilliamsJeremy CharlesTyler GonzalezKristen GreenRichard WallerLaura LindseyMark AlvarezMatthew ThomasHeather GouldJacqueline SnowApril Calderon MDMichael WaltersErin HaleMichael AndersonPeggy BautistaGina BarberDavid HarrisNathan JonesAdam CruzPeter GonzalezBarbara RobinsonSteven WongAdam HerringPatricia MillerJim StevensJordan MclaughlinVincent MartinTracey BensonNatasha EverettErin ParksStephen ThompsonDaniel KingBenjamin MurrayKristen SmithJohn CarrilloMark BrowningEric Park DDSBrian MosleyPatricia MarshJennifer AndersonDanielle HoodMatthew CarterStephanie ThomasCathy MercadoSheila LewisPatrick Barker PhDAna BurnsChloe DownsJoshua FloresBianca BoyerWilliam ThompsonJonathan LongSamantha PattersonEmily PowellLouis WatersNathan DominguezKristin KellerJordan StewartBrian DunnEmily MartinJamie MillerNathan AtkinsonKelly MartinezCarlos RamirezAllen Morris Jr.Sarah RobertsPatricia HoBreanna MorrisEmily TurnerAlyssa RodriguezRichard JohnsonMary GreenMegan MillerWanda BaileyRenee RodriguezJeffrey PayneKari CharlesKelly HarmonShannon WeaverPatty NelsonAndrea JonesDale WhitakerKatherine DeanBrittney HenryAaron RodriguezDr. Carl JamesWilliam FrancisDanielle DyerMichael WagnerAmanda RogersPatricia JonesVictor MartinDr. Kimberly BenjaminMichelle BeckerJoseph NunezKeith AlvarezRicardo VazquezMatthew HawkinsNicole SmithSarah HodgeAmber BlevinsBenjamin BatesThomas MarshallAnna JohnsonRyan Graham MDTerri MillerTaylor DominguezLisa HarrisMichael RobinsonMelissa KellyChase RayTracy RodriguezYvonne WareJake MilesChristopher MyersCindy MurphyDylan JohnsonFrank NewmanLisa MyersKristine KellyMelissa AndersonMarissa BlevinsJason HallJoseph HernandezWanda MaddoxArthur KochNicholas DanielJerry RichardsJoel PittsThomas HerreraJennifer CarlsonJorge McdonaldStephanie Howard MDAlyssa WilliamsonPedro LongJames SmithGregory HerringDaniel BarrettTravis ComptonDaniel RowlandJonathon WillisAdam RodriguezDominique LloydJoyce RobertsJon GriffinJoseph ForbesDustin MarquezSean WellsDeanna CombsDanielle HayesKrystal ReynoldsCarl MartinezBrandon PopeAmanda RodriguezMarco WilliamsErica CollinsPenny NguyenLori LeeLori SmithBryan MooreJaclyn CobbVeronica DiazBarbara LarsenSteven HartmanMegan VillaAlex ConnerDanielle HurleyJames CalhounRyan GreenVeronica GomezWilliam SwansonLauren WestJohn BrownTonya SaundersDavid ThomasCrystal EdwardsCathy RamosChris RobertsKatherine TuckerJustin HillSarah AllenJessica BauerJames RodgersJacqueline EwingJacob ThomasNatalie JohnstonFelicia MatthewsRobert LawrenceJoshua MorganSierra JohnsonTravis HeathMelanie AndersonKenneth GarciaMaria BrockAdam PattonMatthew MezaAmanda JohnsonJesse HernandezPenny DeckerBobby WilliamsMargaret HortonRonnie BarrettAllen OnealGerald LangWilliam HudsonDerek SilvaDarlene LeeHarold JohnstonDonna ReedWanda PhillipsMegan JonesTheresa ShieldsMark LeeErica BakerVirginia BallardAaron AtkinsonBianca Huynh MDDaniel PhillipsThomas JohnsonNicole LopezAdam LambMonica RobersonDouglas RodriguezSarah OrtizDeanna MendozaMelissa Dunn MDLauren KochWilliam FrenchJared WashingtonJames JacksonMelissa SandovalMr. Angel JohnsonChad EvansDonald MyersNicole JohnsonWendy RiveraWilliam PinedaRebecca StoutDerek DiazTravis WebbShane PerezJasmine CampbellMason RaymondVincent EllisJoseph McgeeKatelyn DayAmy BeckerKenneth HughesKimberly FrazierMichael Garcia Jr.April HallJessica MatthewsMr. Daniel Nguyen DDSChristopher KelleyHeather WeaverTaylor GambleSteven BaileyRichard HernandezNancy McclurePaul ClarkeEric ArnoldElizabeth MeyerKaitlin BarrettAnthony PatelApril GillespieJohn SnyderRoy DeckerMatthew JonesKenneth MartinezKevin BrowningChristine IbarraMelissa BrownMichael PerezNorman BurnsJames MarshallTaylor CohenAlejandro CarterAllison GardnerEmily CollierDebbie Brown DVMAmy ShawTaylor MedinaLisa RichardsDana CruzJustin HenryRobert WeberTamara MooreKim StewartAdriana SmithJoshua Kim DDSCarol JohnsonMr. Jesse BellEmily WarrenAlexandra HendricksJulie MoralesJason JohnsonLisa JonesMonica SmithEric EdwardsMichael BurnettDerek MayPaul WoodMiguel JohnsonDouglas HardyKaitlyn ChambersCarlos YoungLindsay LinPhillip WashingtonAlexis MatthewsAndrew ThomasDerek Barker Jr.Jeremy WoodAndrew JimenezJennifer ButlerMrs. Renee GordonMichelle MurrayJennifer StoneDavid KirbySheila YoungHeather WatsonRobert RossKristen LunaDawn MartinezSavannah RamseyWilliam SalasHolly MooreJason CarterRyan SmithBrett EricksonChristina AyalaJames GarciaConnor CobbCrystal BuchananSherri PadillaJustin PowellVanessa TuckerTyler HarperRobert GreerBarry HallMargaret LeeDavid DiazRenee MonroeKristen MitchellSamantha MartinJessica FarmerCarlos BrownMiguel MaciasAlejandra WilliamsonMary GriffinMatthew GrantAnnette RossCarolyn MillerErica MillerMark MclaughlinJamie GibsonMatthew RiggsBetty IrwinFrederick LeeHelen GayCourtney ThompsonDiana ChapmanKenneth DiazKenneth HartmanRachel LopezCassandra BaldwinJose ButlerJohn LoveMrs. Amanda MartinMichael MooreJohn VaughnRebecca ChungDaniel HartMackenzie MasonDavid HarveyChristina ButlerSheila BrownJeffrey GalvanRegina ParkerTracy ChapmanEdward SmithShawn PetersonBryan GuerraHeather StokesMartha BestCynthia WolfeDavid TaylorRebecca HansenJessica CarneyJoshua SanchezRegina GarciaCourtney GibsonBrandon DelacruzTheresa SummersKarina LeePeter RileyChristopher OneillDaniel KleinKatherine EdwardsElizabeth ShermanWilliam BrewerLauren LoganAmanda WalkerAmanda McdanielKevin WilliamsMrs. Pamela GarciaAngela RojasBeth SullivanMarie StoutEmily AllenDanielle Stanton MDConnie BushErica ShawPhilip RobinsonMiguel SmithFrank HoffmanKevin ColemanAndrea HallMark BrownKathleen ValdezJessica WardRebecca GonzalesMike McdanielPamela HughesPamela RitterTimothy ScottStephen LawrenceTracey OchoaBridget BurkeJason WhiteMichelle WashingtonRaymond VargasJeffrey GreenMichael MontgomeryAlejandro BarnettElaine JamesBrianna WhiteAlyssa JenningsTony NelsonLaurie FergusonKelly WileyDustin PetersenChristopher WilkersonDr. David MillerCorey BenjaminCharles PerezKyle DeanTonya WalshWendy DavisJoshua LoveMichael AdamsMrs. Sheena Bailey DVMJoan CaldwellBridget GrahamBrian ChangAlicia ButlerJames BrownDiane VargasMichele OnealZachary Garrett IIIDavid JohnsonKristy PopeMadison BurnsCynthia MooreTaylor ReedNathan PrattAmanda MartinBarbara WhiteMichael GrimesLaura NobleKevin QuinnDavid StoneSeth GreenAmy MooreCarolyn AriasAmy Mcintosh MDChristina KhanDr. Frank AndersonBecky JonesKathleen RamirezCatherine WilsonSandra DuncanJeffrey RivasJordan CruzCindy CruzTina RodriguezDavid RiveraBrian SilvaJoseph MurphyDawn HernandezMichael PatelBreanna MercerDavid PayneRuth ArmstrongJennifer JamesRachael HortonAshley TorresDaniel CherryAmanda FieldsVernon RossMarie HernandezMichael KimKevin BarnettMary WilliamsPaul HallBrittney HughesRonald HickmanMallory HowardKendra YangJames TurnerThomas LewisPhillip BishopAndrea BartonChristopher MillerErin PhillipsHeather HallKatrina AdkinsNicole MitchellPatty RyanLinda GravesMargaret AndersonRichard DeckerDarren BrooksHeather SmithMatthew TaylorCynthia GreenChristopher PhillipsMegan OlsonTiffany SmithVictor SmithAmy ParkerKelly ColemanEric KnappJustin WilliamsMallory AndersonJohn ClarkAnne HansenTina ButlerCody SchaeferThomas Burgess MDJoseph HodgesDaniel MillsAmanda Hale DVMGregory SchneiderClinton NguyenRussell ThompsonMegan FlemingDebbie BlackwellLaura JenkinsJordan AndersonAmanda IbarraJonathan KrauseDr. Daniel BowmanTammy JohnsonLinda HerreraJonathan MartinezChristine JohnsonTanya FisherAngelica HumphreyJustin JohnstonApril RodriguezAmber ThompsonMelissa BanksLori Mitchell DDSAmy SmithRichard DayJennifer MackJames SmithNicole PettyTina HillZachary SchultzMrs. Pam Lewis DVMKelsey HarrisRobert MitchellKelly HopkinsAmanda GrahamAmy Gutierrez DDSDawn RamirezKenneth WardMelody ScottAshley BarryAngela WilkinsTodd SimmonsDavid LunaLeonard CoxPeter TuckerCynthia NelsonPeter MillerAaron GarciaPatrick WhitneyMargaret QuinnAmber MooreMatthew AguilarDenise CarterJared BrownAmber VillanuevaAmy CohenMichael LeeStephanie AriasJenna GreerCameron CordovaJeremy PayneNathan ArroyoRussell BanksJoshua RamirezJay KirkAlicia SchwartzAnna CamachoCarla WilsonJessica WrightWilliam BlackAshley TerryJeffery PowellDaniel SandersMichael GarnerMaria WilliamsBrenda RayChelsea LewisNicholas RamosJennifer WashingtonAudrey WellsBarbara WoodAndrea ThompsonJason CoxSarah RobinsonHeidi MartinJanet ChanJeffrey RobbinsTheresa NicholsAmy HansenJoshua BrownKent ShermanEddie AlvarezYvonne Robinson PhDJennifer RamosTracy MorrisonCrystal JohnsonApril TrujilloLisa SanchezDeborah NelsonKevin GoodwinAbigail PerezDonna RoseAndrew WintersJessica HartLauren KlineGregory AllisonThomas JohnsonVanessa StevensonKathleen BeltranMartha Mcdonald DVMKevin JohnsonDr. Mary SchwartzAnthony MeadowsErnest PowellDavid FergusonMariah HoltNancy MartinStacey ThompsonAndrew RyanMallory ChenErika BurchRobert MorrowAustin ChavezJustin WilsonLisa MurrayJeremy WattsJustin ChenRenee BuckleyShannon PriceBarbara WhiteheadJackie KirkAngel MayerDeborah AndersonJacqueline West DDSAnita ZunigaDavid ChapmanBeverly BauerJessica NguyenMelissa LewisAmanda SchaeferJacqueline Snow MDMarcus RushAngela StewartJorge HoDr. Jennifer SheaChristopher CantuJonathan HaleErin BowersAnthony HernandezEduardo SantiagoDana HaynesClayton Williams DVMNatalie WhitakerFrances WhiteMeghan AdamsStephen FitzgeraldAmy BairdMolly BrownAmanda SloanEric WilliamsEmma VasquezSherry GomezAaron CarterAlan ScottJennifer CannonLindsay NicholsonStephanie JonesJose SmithKimberly MooreMelissa SchultzSteven CalhounJohn BallZachary WilliamsKimberly JacksonKristen WilliamsonSamantha HoffmanDanielle GonzalezCharles IngramTimothy GravesAnna RodriguezAmanda KaneJoseph JonesDebra JacksonErik DunlapMeghan HarperJennifer PinedaJohn WhiteKaren FischerTodd DavisLarry Chandler Jr.Veronica PotterRobert VelezAshley WeissErika JohnsonJesus GordonKathy JacksonAshley WilliamsJuan LopezAnna HaynesDon MurrayJohn GarzaSteven WhiteDavid SalazarDaniel WrightRebecca MolinaBetty EricksonCameron Roman Jr.Kelly PierceSergio McfarlandJeffrey ChavezAmanda GalvanRonald PooleJohn WallaceGina AguilarMelissa SullivanJeffery ToddDaniel BurtonJulie AllisonCarolyn CookMike AllenAngela CostaKarina CalderonFelicia CampbellElizabeth DixonNancy WheelerMichael WatsonJennifer LevinePhilip ArnoldCrystal GonzalesMr. Ian SmithLawrence JohnsonPeter JonesChristopher RamirezNicolas JohnsonStephanie RhodesSarah MillerScott CortezChristopher CarrollWilliam RodriguezWyatt HarrisJacob CarlsonJason PerryJoshua FoxJames PerkinsChristine SanfordSarah SnyderDana ChavezJose HansenMelissa Hunt MDFrank RiveraLeah BishopAudrey FieldsRenee Garcia MDAngela WallJose GoldenAndrew RichardsonCynthia McleanMelissa FordKelsey SmithHeidi MasonLaura JohnsonAmanda MooreRobert AndersonMichael RobbinsSamantha ScottJoseph WareMaria DavisKenneth WatkinsMrs. Lori Rogers MDFrank BlackwellMichele TorresJason FergusonWilliam DurhamNicole HaynesCraig MorganEvan WilsonKenneth OlsonSeth GreenRoberto EscobarJustin SchneiderSarah PadillaAshley GardnerCourtney LutzAlbert SheaJennifer McguireJoseph RamosVictoria BakerClaudia WoodScott HughesCassandra HaasKathryn HannaDiana PhelpsKari HuangSara WellsJordan PetersonFrederick RochaKathryn YoungBrittany HodgesSherry GutierrezJohn GrantBenjamin RoweChelsey VillanuevaAlexandra MccarthyRhonda GarciaJon MatthewsKristen HartmanLynn RivasBrandy WestCarmen ThomasThomas LarsonKathryn CoxTasha ButlerChristopher ThompsonCollin ThomasJulia GeorgeChristopher ShermanAmy BooneJames JensenMonica BerryJonathan MckenzieMrs. Christina Mitchell DDSKatherine BrownJordan BrownElizabeth BrownColton KelleyMelanie KentElizabeth VargasNathan RomanAngela JonesAngela LopezBrian ThomasDouglas HawkinsIan GallagherJeffrey GarrisonTeresa WilliamsJustin MillerJill BakerJessica MitchellJoseph GeorgeCandace FrankEric SotoEmily Duran MDRandall MyersTravis LopezElizabeth GonzalezBrian HoldenTodd Grant Jr.Reginald AlvaradoMark BryantDesiree ClarkJulia ChristianTerry FuentesChristina MartinOlivia RiceKristen NealTimothy BrayJennifer YoungSonya JuarezCharles AveryJohnny BanksJames SanchezScott ProctorJessica MoranRobert FernandezMeredith MckeeKathryn StanleyRichard PooleStephanie GarnerStacey ContrerasCheryl OsborneNathaniel JohnsonRandy LewisMichelle DavisJonathan YoungAngel JacksonMichael KennedyLisa PinedaJennifer MurrayKristopher MurphyRobert WagnerMichael HowellMeagan WhitneyChristopher DavisRhonda LynchTara MarshKeith AndersonAdriana SnyderMelanie MillsAllison JohnsonDebra HowardJustin MartinezDarius AtkinsonTimothy JacksonAlison SmithCatherine HortonAndrew TaylorHunter FitzpatrickSarah KirkKristina GarzaZachary ChavezMrs. Wendy HayesKenneth Santiago MDAnthony JenkinsTeresa LeonardJonathan AdamsDr. Matthew HernandezDouglas HamiltonIan WilliamsTroy ScottChristopher LambLouis Hodges DDSRonald MartinezMonica CochranHarry SnowAmanda ColeJustin LeeSamantha CooperChristopher SmithDiane BradfordJeanette YoungLarry MonroeBradley MurphyNina ThomasMr. Michael GrahamDaniel OlsonAndrew HerreraMichelle FoxMike HillErika LoganJulia HowellWilliam BradleyElizabeth ParkAnthony SmithDonald ReevesJordan WardJeanne Fischer MDWilliam HinesJason SullivanMrs. Amanda RoseRobert HinesKimberly CollinsVeronica McmillanTeresa PerezMatthew McdonaldJason HuntRichard LevinePatricia PerryJohnny SchneiderJessica SmithAlan BurnettBobby NobleCatherine HarrisValerie ObrienRebecca Salazar DDSChristopher NelsonDiana PonceKenneth RaymondRay HoffmanMary GarzaRobert DiazMarie StanleyAmanda SolomonScott BrewerKathy BrightKristen CrossAbigail YoungMichael CooperDavid DavisSteven MyersNancy RossMark EverettSteve WalkerJonathan ByrdNicholas DiazStacy DavisAngela TownsendRichard Cherry DDSTimothy GriffinJames Holland MDNicholas TannerDavid DavisDaniel MartinezLauren CampbellTimothy GomezRobert LandryJamie BaileyKenneth AlexanderMatthew GarciaTanya HawkinsJacob PorterDr. Patricia BakerRebecca FloydMark JordanBryan MayerJenna DickersonMary EatonCynthia GeorgeKathy BurgessBrett JenningsFrank RobersonBrandon GardnerKim LewisEdward MunozDr. Rachel GilbertDonna RiddleChristopher TateMichael DavisLouis McdanielNicole BurgessDavid JensenNicole GoodwinChristopher WelchJared LynchNicole BuckDavid GutierrezStephanie HarrisonWilliam PetersonMolly MasonAlbert WrightJoshua FernandezKendra WardEarl CaldwellShane MartinezElizabeth JohnsonMelissa ParksJennifer PettyMichael LeeAustin MooreDustin MossKristine WadeJeffrey DavisLisa VasquezKenneth Avila Jr.Sergio MayDavid RichardsonAndrew PierceChristian MuellerDavid WoodRobin BrownTimothy HillSteven WebsterHenry RamirezMichael RomeroJody HunterCaitlyn SmithDesiree CastroMelanie EsparzaHolly McphersonZachary RiveraChristine HillBrandon FlowersMichael TuckerMisty HatfieldChristine BurtonJames SmithTracy SteinCharles HoltAmy BrownSummer HuntTodd WilliamsSteven NelsonMelissa TranShelby RodriguezBrian MoralesJennifer HuangElizabeth MunozSteven NewtonRobyn HernandezNicholas JonesCurtis LeeDr. Andrea RoseWendy PetersonJennifer HernandezCorey BerryNicole WilliamsRita ReynoldsSara OwensEvan MooreSarah BryantGail CampbellDylan FrancoLindsey NobleMatthew JacksonMorgan ThomasElizabeth ChaseErnest BarnesRichard SheltonKaren BridgesCynthia StoneKristin SloanJennifer CunninghamRebecca ChapmanStacey TerryJohn ShawMr. Eric GordonAmber DiazRachel KellyAshley WalterDaniel HaleyRobert HendrixDonna HolmesKenneth HowardDonald MillsMichael ScottThomas SandersTeresa SullivanBriana LucasKyle RobertsSheri ThomasJordan PattersonDeborah RollinsAllison WhiteTimothy StewartAmanda NelsonSydney KimThomas HinesMichael FoleyAnthony WadeRobert PerezWendy FinleySabrina RasmussenBilly Franco PhDJason FlemingMaxwell LeonardJonathan CooperRandy BlakeMatthew MillsTracy EspinozaBrandy KellerAnita ScottDiana BradleyJohn GonzalezAngela SimpsonHannah HicksCody WilcoxShane DavisThomas WallsDr. Alexander Chang PhDMr. Robert HendricksKimberly JonesMichele MooreLaura MillerJennifer GonzalezVanessa GarciaGerald KimWendy ShepardHarold PetersonEddie WilliamsShawn ObrienRobert HaneyKathryn GonzalesAmy RiceHannah BruceMichele TerryJennifer JohnsonDavid WrightCarlos SmithErnest WongWilliam PottsMark JeffersonNicole RollinsJohn QuinnAndrew ReidKristen KingMatthew WilsonArthur LeeLori WilliamsDaniel GarciaMs. Stephanie Schwartz DDSLoretta PerezRandall BanksAdrian DavisDebra SmithMary LawsonWhitney EstesMorgan AllenSteven HansonAustin KellyGrace HarrisonJose SchmittNatasha DaviesLawrence ZhangMichael BoydBarbara AndersonShannon BlairCarolyn HawkinsCharles MorrisDerrick CarrollCynthia MartinezJesus BooneRebecca JohnsonAndrew AllisonMadeline MonroeCristina HobbsLindsey NavarroMichael NielsenJason BrownBreanna MooreDonald MartinezAbigail EspinozaAdam GriffinKarla McneilRebecca KnappAlicia JohnsonGabriel ArroyoEdward EdwardsDaniel JohnsonKevin LongDr. Devin Sharp PhDKenneth AriasShannon TateKrystal MarshallAlexander McculloughRichard SmithMeagan BakerDavid FullerChad SmithRichard ReyesMadison WagnerWilliam BowenAnthony AlvaradoBrittney Hammond DVMBrandon BrownKristopher WrightMark WarrenElizabeth FrazierMark BaileyChristopher MontgomeryElizabeth WallerLouis WoodsBrandy MitchellRoger KingTara DouglasMelissa OwensDavid GonzalezTodd WilliamsNathaniel OconnellTravis GreenLuke FryDouglas WoodsChristopher SilvaJacob TerryNancy HarrisonMichael SullivanMiss Norma McfarlandLaurie DoughertyJoshua TaylorAndrew CampbellHeather BellBradley MartinezAmy LeeDavid GoodAaron NelsonRobert TylerJaclyn WilliamsJoe KochDerek LopezAngela BryantWalter MaxwellDennis KleinNancy NelsonJason DrakeMary AcevedoDakota AdamsDaryl GregoryKathleen LoveJames ChavezDawn LewisEric ThompsonBrittany EdwardsCharles BaileyGina SimsJohn McdanielHeather ScottChristine GarciaTracy LoweryJay RobertsBrandon OrtizElizabeth EllisonPatricia WoodTroy MorganAdriana WallEric LewisRobert DukeCarol TorresRobert HooperMandy HensleyKayla PetersenReginald MolinaTasha GrayDawn ChristensenMarcus WilsonJason RodriguezKimberly FisherMichael JohnsonPatricia VillanuevaDavid TorresHeather RobinsonKathryn BernardDebbie TurnerKayla BurtonAmanda BatesKathleen KnoxMr. Colton Collins IIJamie MasonDwayne SmithCynthia CastilloBrandon WilliamsCrystal MaldonadoHaley GreenKimberly PorterElizabeth CarrilloJames HowellAnthony WelchTammie RogersSteven LeSharon PadillaJonathan GardnerJulie DavisStacie HollandDiana GarrettJessica SchmidtMallory GravesKerry HendersonBrandon VaughnAnita WilsonNancy SmithAshley LopezMichael ParkMr. Mason Hernandez MDCindy PowellKayla ScottKimberly JohnstonAnn FloresBrittney AdamsPatricia MillerJonathan GallowayVeronica GriffithMichelle RamosJoe NunezKathy BushEmily HessChase HortonBrittany CarrCharles GonzalezThomas AlvarezJason OrtizRhonda FergusonBrenda DixonKenneth BrooksTyler SmithAlison AndersonBethany HarveyNicholas CostaRyan AllenGabriel Ashley to numeric"
     ]
    }
   ],
   "source": [
    "# Use the code provided to separate the data by grade\n",
    "ninth_graders = school_data_complete[(school_data_complete[\"grade\"] == \"9th\")]\n",
    "tenth_graders = school_data_complete[(school_data_complete[\"grade\"] == \"10th\")]\n",
    "eleventh_graders = school_data_complete[(school_data_complete[\"grade\"] == \"11th\")]\n",
    "twelfth_graders = school_data_complete[(school_data_complete[\"grade\"] == \"12th\")]\n",
    "\n",
    "# Group by \"school_name\" and take the mean of each.\n",
    "ninth_graders_scores = ninth_graders.groupby([\"school_name\"]).mean()[\"reading_score\"]\n",
    "tenth_graders_scores = tenth_graders.groupby([\"school_name\"]).mean()[\"reading_score\"]\n",
    "eleventh_graders_scores = eleventh_graders.groupby([\"school_name\"]).mean()[\"reading_score\"]\n",
    "twelfth_graders_scores = twelfth_graders.groupby([\"school_name\"]).mean()[\"reading_score\"]\n",
    "\n",
    "# Combine each of the scores above into single DataFrame called `reading_scores_by_grade`\n",
    "reading_scores_by_grade = pd.DataFrame({\"9th\": ninth_grader_reading_scores, \n",
    "                                     \"10th\": tenth_grader_reading_scores,\n",
    "                                     \"11th\": eleventh_grader_reading_scores,\n",
    "                                     \"12th\": twelfth_grader_reading_scores})\n",
    "\n",
    "# Minor data wrangling\n",
    "reading_scores_by_grade.index.name = None\n",
    "\n",
    "# Display the DataFrame\n",
    "reading_scores_by_grade"
   ]
  },
  {
   "cell_type": "markdown",
   "metadata": {},
   "source": [
    "## Scores by School Spending"
   ]
  },
  {
   "cell_type": "code",
   "execution_count": 133,
   "metadata": {},
   "outputs": [],
   "source": [
    "# Establish the bins \n",
    "spending_bins = [0, 585, 630, 645, 680]\n",
    "labels = [\"<$585\", \"$585-630\", \"$630-645\", \"$645-680\"]"
   ]
  },
  {
   "cell_type": "code",
   "execution_count": 134,
   "metadata": {},
   "outputs": [],
   "source": [
    "# Create a copy of the school summary since it has the \"Per Student Budget\" \n",
    "school_spending_df = per_school_summary.copy()"
   ]
  },
  {
   "cell_type": "code",
   "execution_count": 136,
   "metadata": {},
   "outputs": [
    {
     "ename": "TypeError",
     "evalue": "'<' not supported between instances of 'int' and 'str'",
     "output_type": "error",
     "traceback": [
      "\u001b[1;31m---------------------------------------------------------------------------\u001b[0m",
      "\u001b[1;31mTypeError\u001b[0m                                 Traceback (most recent call last)",
      "\u001b[1;32mc:\\Users\\15623\\Documents\\UCI Bootcamp 2023\\Module 4\\Starter_Code\\PyCitySchools\\PyCitySchools_starter.ipynb Cell 34\u001b[0m line \u001b[0;36m2\n\u001b[0;32m      <a href='vscode-notebook-cell:/c%3A/Users/15623/Documents/UCI%20Bootcamp%202023/Module%204/Starter_Code/PyCitySchools/PyCitySchools_starter.ipynb#X45sZmlsZQ%3D%3D?line=0'>1</a>\u001b[0m \u001b[39m# Use `pd.cut` to categorize spending based on the bins.\u001b[39;00m\n\u001b[1;32m----> <a href='vscode-notebook-cell:/c%3A/Users/15623/Documents/UCI%20Bootcamp%202023/Module%204/Starter_Code/PyCitySchools/PyCitySchools_starter.ipynb#X45sZmlsZQ%3D%3D?line=1'>2</a>\u001b[0m school_spending_df[\u001b[39m\"\u001b[39m\u001b[39mSpending Ranges (Per Student)\u001b[39m\u001b[39m\"\u001b[39m] \u001b[39m=\u001b[39m pd\u001b[39m.\u001b[39mcut(per_school_summary[\u001b[39m\"\u001b[39m\u001b[39mPer Student Budget\u001b[39m\u001b[39m\"\u001b[39m], spending_bins, labels\u001b[39m=\u001b[39mlabels, include_lowest\u001b[39m=\u001b[39m\u001b[39mTrue\u001b[39;00m)\n\u001b[0;32m      <a href='vscode-notebook-cell:/c%3A/Users/15623/Documents/UCI%20Bootcamp%202023/Module%204/Starter_Code/PyCitySchools/PyCitySchools_starter.ipynb#X45sZmlsZQ%3D%3D?line=2'>3</a>\u001b[0m school_spending_df[\u001b[39m\"\u001b[39m\u001b[39mSpending Ranges (Per Student)\u001b[39m\u001b[39m\"\u001b[39m]\n",
      "File \u001b[1;32mc:\\Users\\15623\\anaconda3\\Lib\\site-packages\\pandas\\core\\reshape\\tile.py:293\u001b[0m, in \u001b[0;36mcut\u001b[1;34m(x, bins, right, labels, retbins, precision, include_lowest, duplicates, ordered)\u001b[0m\n\u001b[0;32m    290\u001b[0m     \u001b[39mif\u001b[39;00m (np\u001b[39m.\u001b[39mdiff(bins\u001b[39m.\u001b[39mastype(\u001b[39m\"\u001b[39m\u001b[39mfloat64\u001b[39m\u001b[39m\"\u001b[39m)) \u001b[39m<\u001b[39m \u001b[39m0\u001b[39m)\u001b[39m.\u001b[39many():\n\u001b[0;32m    291\u001b[0m         \u001b[39mraise\u001b[39;00m \u001b[39mValueError\u001b[39;00m(\u001b[39m\"\u001b[39m\u001b[39mbins must increase monotonically.\u001b[39m\u001b[39m\"\u001b[39m)\n\u001b[1;32m--> 293\u001b[0m fac, bins \u001b[39m=\u001b[39m _bins_to_cuts(\n\u001b[0;32m    294\u001b[0m     x,\n\u001b[0;32m    295\u001b[0m     bins,\n\u001b[0;32m    296\u001b[0m     right\u001b[39m=\u001b[39mright,\n\u001b[0;32m    297\u001b[0m     labels\u001b[39m=\u001b[39mlabels,\n\u001b[0;32m    298\u001b[0m     precision\u001b[39m=\u001b[39mprecision,\n\u001b[0;32m    299\u001b[0m     include_lowest\u001b[39m=\u001b[39minclude_lowest,\n\u001b[0;32m    300\u001b[0m     dtype\u001b[39m=\u001b[39mdtype,\n\u001b[0;32m    301\u001b[0m     duplicates\u001b[39m=\u001b[39mduplicates,\n\u001b[0;32m    302\u001b[0m     ordered\u001b[39m=\u001b[39mordered,\n\u001b[0;32m    303\u001b[0m )\n\u001b[0;32m    305\u001b[0m \u001b[39mreturn\u001b[39;00m _postprocess_for_cut(fac, bins, retbins, dtype, original)\n",
      "File \u001b[1;32mc:\\Users\\15623\\anaconda3\\Lib\\site-packages\\pandas\\core\\reshape\\tile.py:427\u001b[0m, in \u001b[0;36m_bins_to_cuts\u001b[1;34m(x, bins, right, labels, precision, include_lowest, dtype, duplicates, ordered)\u001b[0m\n\u001b[0;32m    424\u001b[0m     bins \u001b[39m=\u001b[39m unique_bins\n\u001b[0;32m    426\u001b[0m side: Literal[\u001b[39m\"\u001b[39m\u001b[39mleft\u001b[39m\u001b[39m\"\u001b[39m, \u001b[39m\"\u001b[39m\u001b[39mright\u001b[39m\u001b[39m\"\u001b[39m] \u001b[39m=\u001b[39m \u001b[39m\"\u001b[39m\u001b[39mleft\u001b[39m\u001b[39m\"\u001b[39m \u001b[39mif\u001b[39;00m right \u001b[39melse\u001b[39;00m \u001b[39m\"\u001b[39m\u001b[39mright\u001b[39m\u001b[39m\"\u001b[39m\n\u001b[1;32m--> 427\u001b[0m ids \u001b[39m=\u001b[39m ensure_platform_int(bins\u001b[39m.\u001b[39msearchsorted(x, side\u001b[39m=\u001b[39mside))\n\u001b[0;32m    429\u001b[0m \u001b[39mif\u001b[39;00m include_lowest:\n\u001b[0;32m    430\u001b[0m     ids[np\u001b[39m.\u001b[39masarray(x) \u001b[39m==\u001b[39m bins[\u001b[39m0\u001b[39m]] \u001b[39m=\u001b[39m \u001b[39m1\u001b[39m\n",
      "\u001b[1;31mTypeError\u001b[0m: '<' not supported between instances of 'int' and 'str'"
     ]
    }
   ],
   "source": [
    "# Use `pd.cut` to categorize spending based on the bins.\n",
    "school_spending_df[\"Spending Ranges (Per Student)\"] = pd.cut(per_school_summary[\"Per Student Budget\"], spending_bins, labels=labels, include_lowest=True)\n",
    "school_spending_df[\"Spending Ranges (Per Student)\"]"
   ]
  },
  {
   "cell_type": "code",
   "execution_count": 137,
   "metadata": {},
   "outputs": [
    {
     "ename": "KeyError",
     "evalue": "'Spending Ranges (Per Student)'",
     "output_type": "error",
     "traceback": [
      "\u001b[1;31m---------------------------------------------------------------------------\u001b[0m",
      "\u001b[1;31mKeyError\u001b[0m                                  Traceback (most recent call last)",
      "\u001b[1;32mc:\\Users\\15623\\Documents\\UCI Bootcamp 2023\\Module 4\\Starter_Code\\PyCitySchools\\PyCitySchools_starter.ipynb Cell 35\u001b[0m line \u001b[0;36m2\n\u001b[0;32m      <a href='vscode-notebook-cell:/c%3A/Users/15623/Documents/UCI%20Bootcamp%202023/Module%204/Starter_Code/PyCitySchools/PyCitySchools_starter.ipynb#X46sZmlsZQ%3D%3D?line=0'>1</a>\u001b[0m \u001b[39m#  Calculate averages for the desired columns. \u001b[39;00m\n\u001b[1;32m----> <a href='vscode-notebook-cell:/c%3A/Users/15623/Documents/UCI%20Bootcamp%202023/Module%204/Starter_Code/PyCitySchools/PyCitySchools_starter.ipynb#X46sZmlsZQ%3D%3D?line=1'>2</a>\u001b[0m spending_math_scores \u001b[39m=\u001b[39m school_spending_df\u001b[39m.\u001b[39mgroupby([\u001b[39m\"\u001b[39m\u001b[39mSpending Ranges (Per Student)\u001b[39m\u001b[39m\"\u001b[39m])[\u001b[39m\"\u001b[39m\u001b[39mAverage Math Score\u001b[39m\u001b[39m\"\u001b[39m]\u001b[39m.\u001b[39mmean()\n\u001b[0;32m      <a href='vscode-notebook-cell:/c%3A/Users/15623/Documents/UCI%20Bootcamp%202023/Module%204/Starter_Code/PyCitySchools/PyCitySchools_starter.ipynb#X46sZmlsZQ%3D%3D?line=2'>3</a>\u001b[0m spending_reading_scores \u001b[39m=\u001b[39m school_spending_df\u001b[39m.\u001b[39mgroupby([\u001b[39m\"\u001b[39m\u001b[39mSpending Ranges (Per Student)\u001b[39m\u001b[39m\"\u001b[39m])[\u001b[39m\"\u001b[39m\u001b[39mAverage Reading Score\u001b[39m\u001b[39m\"\u001b[39m]\u001b[39m.\u001b[39mmean()\n\u001b[0;32m      <a href='vscode-notebook-cell:/c%3A/Users/15623/Documents/UCI%20Bootcamp%202023/Module%204/Starter_Code/PyCitySchools/PyCitySchools_starter.ipynb#X46sZmlsZQ%3D%3D?line=3'>4</a>\u001b[0m spending_passing_math \u001b[39m=\u001b[39m school_spending_df\u001b[39m.\u001b[39mgroupby([\u001b[39m\"\u001b[39m\u001b[39mSpending Ranges (Per Student)\u001b[39m\u001b[39m\"\u001b[39m])[\u001b[39m\"\u001b[39m\u001b[39m%\u001b[39m\u001b[39m Passing Math\u001b[39m\u001b[39m\"\u001b[39m]\u001b[39m.\u001b[39mmean()\n",
      "File \u001b[1;32mc:\\Users\\15623\\anaconda3\\Lib\\site-packages\\pandas\\core\\frame.py:8252\u001b[0m, in \u001b[0;36mDataFrame.groupby\u001b[1;34m(self, by, axis, level, as_index, sort, group_keys, observed, dropna)\u001b[0m\n\u001b[0;32m   8249\u001b[0m     \u001b[39mraise\u001b[39;00m \u001b[39mTypeError\u001b[39;00m(\u001b[39m\"\u001b[39m\u001b[39mYou have to supply one of \u001b[39m\u001b[39m'\u001b[39m\u001b[39mby\u001b[39m\u001b[39m'\u001b[39m\u001b[39m and \u001b[39m\u001b[39m'\u001b[39m\u001b[39mlevel\u001b[39m\u001b[39m'\u001b[39m\u001b[39m\"\u001b[39m)\n\u001b[0;32m   8250\u001b[0m axis \u001b[39m=\u001b[39m \u001b[39mself\u001b[39m\u001b[39m.\u001b[39m_get_axis_number(axis)\n\u001b[1;32m-> 8252\u001b[0m \u001b[39mreturn\u001b[39;00m DataFrameGroupBy(\n\u001b[0;32m   8253\u001b[0m     obj\u001b[39m=\u001b[39m\u001b[39mself\u001b[39m,\n\u001b[0;32m   8254\u001b[0m     keys\u001b[39m=\u001b[39mby,\n\u001b[0;32m   8255\u001b[0m     axis\u001b[39m=\u001b[39maxis,\n\u001b[0;32m   8256\u001b[0m     level\u001b[39m=\u001b[39mlevel,\n\u001b[0;32m   8257\u001b[0m     as_index\u001b[39m=\u001b[39mas_index,\n\u001b[0;32m   8258\u001b[0m     sort\u001b[39m=\u001b[39msort,\n\u001b[0;32m   8259\u001b[0m     group_keys\u001b[39m=\u001b[39mgroup_keys,\n\u001b[0;32m   8260\u001b[0m     observed\u001b[39m=\u001b[39mobserved,\n\u001b[0;32m   8261\u001b[0m     dropna\u001b[39m=\u001b[39mdropna,\n\u001b[0;32m   8262\u001b[0m )\n",
      "File \u001b[1;32mc:\\Users\\15623\\anaconda3\\Lib\\site-packages\\pandas\\core\\groupby\\groupby.py:931\u001b[0m, in \u001b[0;36mGroupBy.__init__\u001b[1;34m(self, obj, keys, axis, level, grouper, exclusions, selection, as_index, sort, group_keys, observed, dropna)\u001b[0m\n\u001b[0;32m    928\u001b[0m \u001b[39mself\u001b[39m\u001b[39m.\u001b[39mdropna \u001b[39m=\u001b[39m dropna\n\u001b[0;32m    930\u001b[0m \u001b[39mif\u001b[39;00m grouper \u001b[39mis\u001b[39;00m \u001b[39mNone\u001b[39;00m:\n\u001b[1;32m--> 931\u001b[0m     grouper, exclusions, obj \u001b[39m=\u001b[39m get_grouper(\n\u001b[0;32m    932\u001b[0m         obj,\n\u001b[0;32m    933\u001b[0m         keys,\n\u001b[0;32m    934\u001b[0m         axis\u001b[39m=\u001b[39maxis,\n\u001b[0;32m    935\u001b[0m         level\u001b[39m=\u001b[39mlevel,\n\u001b[0;32m    936\u001b[0m         sort\u001b[39m=\u001b[39msort,\n\u001b[0;32m    937\u001b[0m         observed\u001b[39m=\u001b[39mobserved,\n\u001b[0;32m    938\u001b[0m         dropna\u001b[39m=\u001b[39m\u001b[39mself\u001b[39m\u001b[39m.\u001b[39mdropna,\n\u001b[0;32m    939\u001b[0m     )\n\u001b[0;32m    941\u001b[0m \u001b[39mself\u001b[39m\u001b[39m.\u001b[39mobj \u001b[39m=\u001b[39m obj\n\u001b[0;32m    942\u001b[0m \u001b[39mself\u001b[39m\u001b[39m.\u001b[39maxis \u001b[39m=\u001b[39m obj\u001b[39m.\u001b[39m_get_axis_number(axis)\n",
      "File \u001b[1;32mc:\\Users\\15623\\anaconda3\\Lib\\site-packages\\pandas\\core\\groupby\\grouper.py:985\u001b[0m, in \u001b[0;36mget_grouper\u001b[1;34m(obj, key, axis, level, sort, observed, validate, dropna)\u001b[0m\n\u001b[0;32m    983\u001b[0m         in_axis, level, gpr \u001b[39m=\u001b[39m \u001b[39mFalse\u001b[39;00m, gpr, \u001b[39mNone\u001b[39;00m\n\u001b[0;32m    984\u001b[0m     \u001b[39melse\u001b[39;00m:\n\u001b[1;32m--> 985\u001b[0m         \u001b[39mraise\u001b[39;00m \u001b[39mKeyError\u001b[39;00m(gpr)\n\u001b[0;32m    986\u001b[0m \u001b[39melif\u001b[39;00m \u001b[39misinstance\u001b[39m(gpr, Grouper) \u001b[39mand\u001b[39;00m gpr\u001b[39m.\u001b[39mkey \u001b[39mis\u001b[39;00m \u001b[39mnot\u001b[39;00m \u001b[39mNone\u001b[39;00m:\n\u001b[0;32m    987\u001b[0m     \u001b[39m# Add key to exclusions\u001b[39;00m\n\u001b[0;32m    988\u001b[0m     exclusions\u001b[39m.\u001b[39madd(gpr\u001b[39m.\u001b[39mkey)\n",
      "\u001b[1;31mKeyError\u001b[0m: 'Spending Ranges (Per Student)'"
     ]
    }
   ],
   "source": [
    "#  Calculate averages for the desired columns. \n",
    "spending_math_scores = school_spending_df.groupby([\"Spending Ranges (Per Student)\"])[\"Average Math Score\"].mean()\n",
    "spending_reading_scores = school_spending_df.groupby([\"Spending Ranges (Per Student)\"])[\"Average Reading Score\"].mean()\n",
    "spending_passing_math = school_spending_df.groupby([\"Spending Ranges (Per Student)\"])[\"% Passing Math\"].mean()\n",
    "spending_passing_reading = school_spending_df.groupby([\"Spending Ranges (Per Student)\"])[\"% Passing Reading\"].mean()\n",
    "overall_passing_spending = school_spending_df.groupby([\"Spending Ranges (Per Student)\"])[\"% Overall Passing\"].mean()"
   ]
  },
  {
   "cell_type": "code",
   "execution_count": 138,
   "metadata": {},
   "outputs": [
    {
     "ename": "NameError",
     "evalue": "name 'spending_math_scores' is not defined",
     "output_type": "error",
     "traceback": [
      "\u001b[1;31m---------------------------------------------------------------------------\u001b[0m",
      "\u001b[1;31mNameError\u001b[0m                                 Traceback (most recent call last)",
      "\u001b[1;32mc:\\Users\\15623\\Documents\\UCI Bootcamp 2023\\Module 4\\Starter_Code\\PyCitySchools\\PyCitySchools_starter.ipynb Cell 36\u001b[0m line \u001b[0;36m2\n\u001b[0;32m      <a href='vscode-notebook-cell:/c%3A/Users/15623/Documents/UCI%20Bootcamp%202023/Module%204/Starter_Code/PyCitySchools/PyCitySchools_starter.ipynb#X50sZmlsZQ%3D%3D?line=0'>1</a>\u001b[0m \u001b[39m# Assemble into DataFrame\u001b[39;00m\n\u001b[1;32m----> <a href='vscode-notebook-cell:/c%3A/Users/15623/Documents/UCI%20Bootcamp%202023/Module%204/Starter_Code/PyCitySchools/PyCitySchools_starter.ipynb#X50sZmlsZQ%3D%3D?line=1'>2</a>\u001b[0m spending_summary \u001b[39m=\u001b[39m pd\u001b[39m.\u001b[39mDataFrame({\u001b[39m\"\u001b[39m\u001b[39mMath Scores\u001b[39m\u001b[39m\"\u001b[39m: spending_math_scores,\n\u001b[0;32m      <a href='vscode-notebook-cell:/c%3A/Users/15623/Documents/UCI%20Bootcamp%202023/Module%204/Starter_Code/PyCitySchools/PyCitySchools_starter.ipynb#X50sZmlsZQ%3D%3D?line=2'>3</a>\u001b[0m                              \u001b[39m\"\u001b[39m\u001b[39mReading Scores\u001b[39m\u001b[39m\"\u001b[39m: spending_reading_scores,\n\u001b[0;32m      <a href='vscode-notebook-cell:/c%3A/Users/15623/Documents/UCI%20Bootcamp%202023/Module%204/Starter_Code/PyCitySchools/PyCitySchools_starter.ipynb#X50sZmlsZQ%3D%3D?line=3'>4</a>\u001b[0m                              \u001b[39m\"\u001b[39m\u001b[39mPassing Math Scores\u001b[39m\u001b[39m\"\u001b[39m: spending_passing_math,\n\u001b[0;32m      <a href='vscode-notebook-cell:/c%3A/Users/15623/Documents/UCI%20Bootcamp%202023/Module%204/Starter_Code/PyCitySchools/PyCitySchools_starter.ipynb#X50sZmlsZQ%3D%3D?line=4'>5</a>\u001b[0m                              \u001b[39m\"\u001b[39m\u001b[39mPassing Reading Scores\u001b[39m\u001b[39m\"\u001b[39m: spending_passing_reading,\n\u001b[0;32m      <a href='vscode-notebook-cell:/c%3A/Users/15623/Documents/UCI%20Bootcamp%202023/Module%204/Starter_Code/PyCitySchools/PyCitySchools_starter.ipynb#X50sZmlsZQ%3D%3D?line=5'>6</a>\u001b[0m                              \u001b[39m\"\u001b[39m\u001b[39mOverall Passing Scores\u001b[39m\u001b[39m\"\u001b[39m: overall_passing_spending})\n\u001b[0;32m      <a href='vscode-notebook-cell:/c%3A/Users/15623/Documents/UCI%20Bootcamp%202023/Module%204/Starter_Code/PyCitySchools/PyCitySchools_starter.ipynb#X50sZmlsZQ%3D%3D?line=7'>8</a>\u001b[0m \u001b[39m# Display results\u001b[39;00m\n\u001b[0;32m      <a href='vscode-notebook-cell:/c%3A/Users/15623/Documents/UCI%20Bootcamp%202023/Module%204/Starter_Code/PyCitySchools/PyCitySchools_starter.ipynb#X50sZmlsZQ%3D%3D?line=8'>9</a>\u001b[0m spending_summary\n",
      "\u001b[1;31mNameError\u001b[0m: name 'spending_math_scores' is not defined"
     ]
    }
   ],
   "source": [
    "# Assemble into DataFrame\n",
    "spending_summary = pd.DataFrame({\"Math Scores\": spending_math_scores,\n",
    "                             \"Reading Scores\": spending_reading_scores,\n",
    "                             \"Passing Math Scores\": spending_passing_math,\n",
    "                             \"Passing Reading Scores\": spending_passing_reading,\n",
    "                             \"Overall Passing Scores\": overall_passing_spending})\n",
    "\n",
    "# Display results\n",
    "spending_summary"
   ]
  },
  {
   "cell_type": "markdown",
   "metadata": {},
   "source": [
    "## Scores by School Size"
   ]
  },
  {
   "cell_type": "code",
   "execution_count": 139,
   "metadata": {},
   "outputs": [],
   "source": [
    "# Establish the bins.\n",
    "size_bins = [0, 1000, 2000, 5000]\n",
    "labels = [\"Small (<1000)\", \"Medium (1000-2000)\", \"Large (2000-5000)\"]"
   ]
  },
  {
   "cell_type": "code",
   "execution_count": 140,
   "metadata": {},
   "outputs": [
    {
     "data": {
      "text/plain": [
       "school_name\n",
       "Bailey High School        Large (2000-5000)\n",
       "Cabrera High School      Medium (1000-2000)\n",
       "Figueroa High School      Large (2000-5000)\n",
       "Ford High School          Large (2000-5000)\n",
       "Griffin High School      Medium (1000-2000)\n",
       "Hernandez High School     Large (2000-5000)\n",
       "Holden High School            Small (<1000)\n",
       "Huang High School         Large (2000-5000)\n",
       "Johnson High School       Large (2000-5000)\n",
       "Pena High School              Small (<1000)\n",
       "Rodriguez High School     Large (2000-5000)\n",
       "Shelton High School      Medium (1000-2000)\n",
       "Thomas High School       Medium (1000-2000)\n",
       "Wilson High School        Large (2000-5000)\n",
       "Wright High School       Medium (1000-2000)\n",
       "Name: School Size, dtype: category\n",
       "Categories (3, object): ['Small (<1000)' < 'Medium (1000-2000)' < 'Large (2000-5000)']"
      ]
     },
     "execution_count": 140,
     "metadata": {},
     "output_type": "execute_result"
    }
   ],
   "source": [
    "# Categorize the spending based on the bins\n",
    "# Use `pd.cut` on the \"Total Students\" column of the `per_school_summary` DataFrame.\n",
    "\n",
    "per_school_summary[\"School Size\"] = pd.cut(per_school_summary[\"Total Students\"], size_bins, labels=labels, include_lowest=True)\n",
    "per_school_summary[\"School Size\"]"
   ]
  },
  {
   "cell_type": "code",
   "execution_count": 141,
   "metadata": {},
   "outputs": [],
   "source": [
    "# Calculate averages for the desired columns. \n",
    "size_math_scores = per_school_summary.groupby([\"School Size\"])[\"Average Math Score\"].mean()\n",
    "size_reading_scores = per_school_summary.groupby([\"School Size\"])[\"Average Reading Score\"].mean()\n",
    "size_passing_math = per_school_summary.groupby([\"School Size\"])[\"% Passing Math\"].mean()\n",
    "size_passing_reading = per_school_summary.groupby([\"School Size\"])[\"% Passing Reading\"].mean()\n",
    "size_overall_passing = per_school_summary.groupby([\"School Size\"])[\"% Overall Passing\"].mean()"
   ]
  },
  {
   "cell_type": "code",
   "execution_count": 142,
   "metadata": {
    "scrolled": true
   },
   "outputs": [
    {
     "data": {
      "text/html": [
       "<div>\n",
       "<style scoped>\n",
       "    .dataframe tbody tr th:only-of-type {\n",
       "        vertical-align: middle;\n",
       "    }\n",
       "\n",
       "    .dataframe tbody tr th {\n",
       "        vertical-align: top;\n",
       "    }\n",
       "\n",
       "    .dataframe thead th {\n",
       "        text-align: right;\n",
       "    }\n",
       "</style>\n",
       "<table border=\"1\" class=\"dataframe\">\n",
       "  <thead>\n",
       "    <tr style=\"text-align: right;\">\n",
       "      <th></th>\n",
       "      <th>Math Scores</th>\n",
       "      <th>Reading Scores</th>\n",
       "      <th>Passing Math</th>\n",
       "      <th>Passing Reading</th>\n",
       "      <th>Overall Passing</th>\n",
       "    </tr>\n",
       "    <tr>\n",
       "      <th>School Size</th>\n",
       "      <th></th>\n",
       "      <th></th>\n",
       "      <th></th>\n",
       "      <th></th>\n",
       "      <th></th>\n",
       "    </tr>\n",
       "  </thead>\n",
       "  <tbody>\n",
       "    <tr>\n",
       "      <th>Small (&lt;1000)</th>\n",
       "      <td>83.821598</td>\n",
       "      <td>83.929843</td>\n",
       "      <td>0.169071</td>\n",
       "      <td>0.169071</td>\n",
       "      <td>0.169071</td>\n",
       "    </tr>\n",
       "    <tr>\n",
       "      <th>Medium (1000-2000)</th>\n",
       "      <td>83.374684</td>\n",
       "      <td>83.864438</td>\n",
       "      <td>0.059089</td>\n",
       "      <td>0.059089</td>\n",
       "      <td>0.059089</td>\n",
       "    </tr>\n",
       "    <tr>\n",
       "      <th>Large (2000-5000)</th>\n",
       "      <td>77.746417</td>\n",
       "      <td>81.344493</td>\n",
       "      <td>0.029523</td>\n",
       "      <td>0.029523</td>\n",
       "      <td>0.029523</td>\n",
       "    </tr>\n",
       "  </tbody>\n",
       "</table>\n",
       "</div>"
      ],
      "text/plain": [
       "                    Math Scores  Reading Scores  Passing Math  \\\n",
       "School Size                                                     \n",
       "Small (<1000)         83.821598       83.929843      0.169071   \n",
       "Medium (1000-2000)    83.374684       83.864438      0.059089   \n",
       "Large (2000-5000)     77.746417       81.344493      0.029523   \n",
       "\n",
       "                    Passing Reading  Overall Passing  \n",
       "School Size                                           \n",
       "Small (<1000)              0.169071         0.169071  \n",
       "Medium (1000-2000)         0.059089         0.059089  \n",
       "Large (2000-5000)          0.029523         0.029523  "
      ]
     },
     "execution_count": 142,
     "metadata": {},
     "output_type": "execute_result"
    }
   ],
   "source": [
    "# Create a DataFrame called `size_summary` that breaks down school performance based on school size (small, medium, or large).\n",
    "# Use the scores above to create a new DataFrame called `size_summary`\n",
    "size_summary = pd.DataFrame({\"Math Scores\": size_math_scores,\n",
    "                             \"Reading Scores\": size_reading_scores,\n",
    "                             \"Passing Math\": size_passing_math,\n",
    "                             \"Passing Reading\": size_passing_reading,\n",
    "                             \"Overall Passing\": size_overall_passing})\n",
    "\n",
    "# Display results\n",
    "size_summary"
   ]
  },
  {
   "cell_type": "markdown",
   "metadata": {},
   "source": [
    "## Scores by School Type"
   ]
  },
  {
   "cell_type": "code",
   "execution_count": 143,
   "metadata": {},
   "outputs": [],
   "source": [
    "# Group the per_school_summary DataFrame by \"School Type\" and average the results.\n",
    "average_math_score_by_type = per_school_summary.groupby([\"School Type\"])[\"Average Math Score\"].mean()\n",
    "average_reading_score_by_type = per_school_summary.groupby([\"School Type\"])[\"Average Reading Score\"].mean()\n",
    "average_percent_passing_math_by_type = per_school_summary.groupby([\"School Type\"])[\"% Passing Math\"].mean()\n",
    "average_percent_passing_reading_by_type = per_school_summary.groupby([\"School Type\"])[\"% Passing Reading\"].mean()\n",
    "average_percent_overall_passing_by_type = per_school_summary.groupby([\"School Type\"])[\"% Overall Passing\"].mean()"
   ]
  },
  {
   "cell_type": "code",
   "execution_count": 144,
   "metadata": {},
   "outputs": [
    {
     "ename": "NameError",
     "evalue": "name 'type_math_scores' is not defined",
     "output_type": "error",
     "traceback": [
      "\u001b[1;31m---------------------------------------------------------------------------\u001b[0m",
      "\u001b[1;31mNameError\u001b[0m                                 Traceback (most recent call last)",
      "\u001b[1;32mc:\\Users\\15623\\Documents\\UCI Bootcamp 2023\\Module 4\\Starter_Code\\PyCitySchools\\PyCitySchools_starter.ipynb Cell 44\u001b[0m line \u001b[0;36m2\n\u001b[0;32m      <a href='vscode-notebook-cell:/c%3A/Users/15623/Documents/UCI%20Bootcamp%202023/Module%204/Starter_Code/PyCitySchools/PyCitySchools_starter.ipynb#X61sZmlsZQ%3D%3D?line=0'>1</a>\u001b[0m \u001b[39m# Assemble the new data by type into a DataFrame called `type_summary`\u001b[39;00m\n\u001b[1;32m----> <a href='vscode-notebook-cell:/c%3A/Users/15623/Documents/UCI%20Bootcamp%202023/Module%204/Starter_Code/PyCitySchools/PyCitySchools_starter.ipynb#X61sZmlsZQ%3D%3D?line=1'>2</a>\u001b[0m type_summary \u001b[39m=\u001b[39m pd\u001b[39m.\u001b[39mDataFrame({\u001b[39m\"\u001b[39m\u001b[39mMath Scores\u001b[39m\u001b[39m\"\u001b[39m: type_math_scores,\n\u001b[0;32m      <a href='vscode-notebook-cell:/c%3A/Users/15623/Documents/UCI%20Bootcamp%202023/Module%204/Starter_Code/PyCitySchools/PyCitySchools_starter.ipynb#X61sZmlsZQ%3D%3D?line=2'>3</a>\u001b[0m                              \u001b[39m\"\u001b[39m\u001b[39mReading Scores\u001b[39m\u001b[39m\"\u001b[39m: type_reading_scores,\n\u001b[0;32m      <a href='vscode-notebook-cell:/c%3A/Users/15623/Documents/UCI%20Bootcamp%202023/Module%204/Starter_Code/PyCitySchools/PyCitySchools_starter.ipynb#X61sZmlsZQ%3D%3D?line=3'>4</a>\u001b[0m                              \u001b[39m\"\u001b[39m\u001b[39mPassing Math Scores\u001b[39m\u001b[39m\"\u001b[39m: type_passing_math,\n\u001b[0;32m      <a href='vscode-notebook-cell:/c%3A/Users/15623/Documents/UCI%20Bootcamp%202023/Module%204/Starter_Code/PyCitySchools/PyCitySchools_starter.ipynb#X61sZmlsZQ%3D%3D?line=4'>5</a>\u001b[0m                              \u001b[39m\"\u001b[39m\u001b[39mPassing Reading Scores\u001b[39m\u001b[39m\"\u001b[39m: type_passing_reading,\n\u001b[0;32m      <a href='vscode-notebook-cell:/c%3A/Users/15623/Documents/UCI%20Bootcamp%202023/Module%204/Starter_Code/PyCitySchools/PyCitySchools_starter.ipynb#X61sZmlsZQ%3D%3D?line=5'>6</a>\u001b[0m                              \u001b[39m\"\u001b[39m\u001b[39mOverall Passing Scores\u001b[39m\u001b[39m\"\u001b[39m: type_overall_passing})\n\u001b[0;32m      <a href='vscode-notebook-cell:/c%3A/Users/15623/Documents/UCI%20Bootcamp%202023/Module%204/Starter_Code/PyCitySchools/PyCitySchools_starter.ipynb#X61sZmlsZQ%3D%3D?line=7'>8</a>\u001b[0m \u001b[39m# Display results\u001b[39;00m\n\u001b[0;32m      <a href='vscode-notebook-cell:/c%3A/Users/15623/Documents/UCI%20Bootcamp%202023/Module%204/Starter_Code/PyCitySchools/PyCitySchools_starter.ipynb#X61sZmlsZQ%3D%3D?line=8'>9</a>\u001b[0m type_summary\n",
      "\u001b[1;31mNameError\u001b[0m: name 'type_math_scores' is not defined"
     ]
    }
   ],
   "source": [
    "# Assemble the new data by type into a DataFrame called `type_summary`\n",
    "type_summary = pd.DataFrame({\"Math Scores\": type_math_scores,\n",
    "                             \"Reading Scores\": type_reading_scores,\n",
    "                             \"Passing Math Scores\": type_passing_math,\n",
    "                             \"Passing Reading Scores\": type_passing_reading,\n",
    "                             \"Overall Passing Scores\": type_overall_passing})\n",
    "\n",
    "# Display results\n",
    "type_summary"
   ]
  },
  {
   "cell_type": "code",
   "execution_count": null,
   "metadata": {},
   "outputs": [],
   "source": []
  }
 ],
 "metadata": {
  "anaconda-cloud": {},
  "kernel_info": {
   "name": "python3"
  },
  "kernelspec": {
   "display_name": "PythonData",
   "language": "python",
   "name": "python3"
  },
  "language_info": {
   "codemirror_mode": {
    "name": "ipython",
    "version": 3
   },
   "file_extension": ".py",
   "mimetype": "text/x-python",
   "name": "python",
   "nbconvert_exporter": "python",
   "pygments_lexer": "ipython3",
   "version": "3.10.9"
  },
  "latex_envs": {
   "LaTeX_envs_menu_present": true,
   "autoclose": false,
   "autocomplete": true,
   "bibliofile": "biblio.bib",
   "cite_by": "apalike",
   "current_citInitial": 1,
   "eqLabelWithNumbers": true,
   "eqNumInitial": 1,
   "hotkeys": {
    "equation": "Ctrl-E",
    "itemize": "Ctrl-I"
   },
   "labels_anchors": false,
   "latex_user_defs": false,
   "report_style_numbering": false,
   "user_envs_cfg": false
  },
  "nteract": {
   "version": "0.8.4"
  },
  "vscode": {
   "interpreter": {
    "hash": "5384d77d82de63fd599f73e77f9ec786e7719288bf80a29ec0288c670ac3cf32"
   }
  }
 },
 "nbformat": 4,
 "nbformat_minor": 4
}
